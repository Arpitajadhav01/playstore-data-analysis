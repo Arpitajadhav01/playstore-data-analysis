{
  "cells": [
    {
      "cell_type": "markdown",
      "metadata": {
        "id": "view-in-github",
        "colab_type": "text"
      },
      "source": [
        "<a href=\"https://colab.research.google.com/github/Arpitajadhav01/playstore-data-analysis/blob/main/project_on_Playstore_analysis.ipynb\" target=\"_parent\"><img src=\"https://colab.research.google.com/assets/colab-badge.svg\" alt=\"Open In Colab\"/></a>"
      ]
    },
    {
      "cell_type": "markdown",
      "metadata": {
        "id": "vncDsAP0Gaoa"
      },
      "source": [
        "# **`Project Name`**`-   PLAY STORE MARKET ANALYSIS`\n",
        "\n",
        "\n",
        "\n",
        "\n",
        "\n",
        "\n"
      ]
    },
    {
      "cell_type": "markdown",
      "metadata": {
        "id": "beRrZCGUAJYm"
      },
      "source": [
        "##### **`Project Type`**    - EDA/Regression/Classification/Unsupervised\n",
        "##### **`Contribution`**    - Individual\n",
        "##### **`Project by` -** Arpita Janardhan Jadhav\n"
      ]
    },
    {
      "cell_type": "markdown",
      "metadata": {
        "id": "FJNUwmbgGyua"
      },
      "source": [
        "#  `Project Summary `-\n"
      ]
    },
    {
      "cell_type": "markdown",
      "metadata": {
        "id": "F6v_1wHtG2nS"
      },
      "source": [
        "A Play Store analysis project involves analyzing data from the Google Play Store to gain insights into user behaviour,market trends,and commpetition. \n",
        "\n",
        "The primary objective of a Play Store anaysis project is to provide businesses with valuable insights that they can use to improve their products and services,optimize their marketing strategies,and differentiate themselves from the competetion.\n",
        "\n",
        "Some of the key components of a Play Store analysis project include data collection,data cleaning and processing,data visualization,and statistical analysis.tha data collected can include app information,user reviews,rating,geners,last updated,android version,etc.\n",
        "\n",
        "The project can be tailored to meet specific business needs,such as identifying popular trends in the market,imoroving app ranking,analyzing competitors products and services,and optimizing marketing strategies.\n",
        "\n",
        "Overall, a Play Store analysis project can provide businesses with valuable insights into user behaviour and market trends,helping them to make data-driven dicisions and improve their overall performance.\n"
      ]
    },
    {
      "cell_type": "markdown",
      "metadata": {
        "id": "w6K7xa23Elo4"
      },
      "source": [
        "# **`GitHub Link -`**"
      ]
    },
    {
      "cell_type": "markdown",
      "metadata": {
        "id": "h1o69JH3Eqqn"
      },
      "source": [
        "https://github.com/Arpitajadhav01"
      ]
    },
    {
      "cell_type": "markdown",
      "metadata": {
        "id": "HhfV-JJviCcP"
      },
      "source": [
        "## ***`1. Knowing our Data`***"
      ]
    },
    {
      "cell_type": "markdown",
      "metadata": {
        "id": "Y3lxredqlCYt"
      },
      "source": [
        "### ⏩ Import Libraries"
      ]
    },
    {
      "cell_type": "code",
      "execution_count": 1,
      "metadata": {
        "id": "M8Vqi-pPk-HR"
      },
      "outputs": [],
      "source": [
        "# Import Libraries\n",
        "import numpy as np\n",
        "import pandas as pd\n",
        "import matplotlib.pyplot as plt\n",
        "from datetime import datetime\n",
        "import seaborn as sns\n"
      ]
    },
    {
      "cell_type": "markdown",
      "metadata": {
        "id": "3RnN4peoiCZX"
      },
      "source": [
        "### ⏩Dataset Loading "
      ]
    },
    {
      "cell_type": "markdown",
      "metadata": {
        "id": "yIumGoEeDzhi"
      },
      "source": [
        "We have two dataset named playstore data.csv  and User reviews.csv . Loading of both the dataset is as follows:"
      ]
    },
    {
      "cell_type": "code",
      "execution_count": 2,
      "metadata": {
        "colab": {
          "base_uri": "https://localhost:8080/"
        },
        "id": "GoAMuxnt1sjj",
        "outputId": "79cc2582-0ec0-42ca-9d49-a75b1d3d79ed"
      },
      "outputs": [
        {
          "output_type": "stream",
          "name": "stdout",
          "text": [
            "Mounted at /content/drive\n"
          ]
        }
      ],
      "source": [
        "from google.colab import drive\n",
        "drive.mount('/content/drive')"
      ]
    },
    {
      "cell_type": "code",
      "execution_count": 3,
      "metadata": {
        "id": "4CkvbW_SlZ_R"
      },
      "outputs": [],
      "source": [
        "# Load Dataset dy d\n",
        "play_store_data=pd.read_csv(\"/content/drive/MyDrive/Colab Notebooks/coding assignment/Play Store Data.csv\")"
      ]
    },
    {
      "cell_type": "code",
      "execution_count": 4,
      "metadata": {
        "id": "Gux5pggvFtGt"
      },
      "outputs": [],
      "source": [
        "user_reviews_data=pd.read_csv(\"/content/drive/MyDrive/Colab Notebooks/coding assignment/User Reviews.csv\")"
      ]
    },
    {
      "cell_type": "code",
      "execution_count": 5,
      "metadata": {
        "id": "w3mQBzVhLj0e"
      },
      "outputs": [],
      "source": [
        "#from google.colab import drive\n",
        "#drive.mount('/content/drive')"
      ]
    },
    {
      "cell_type": "markdown",
      "metadata": {
        "id": "x71ZqKXriCWQ"
      },
      "source": [
        "### ⏩Dataset First View \n"
      ]
    },
    {
      "cell_type": "markdown",
      "metadata": {
        "id": "71O0Ekv_dNQ-"
      },
      "source": [
        "Taking first view of dataset named playstore data.csv and User reviews.csv below:"
      ]
    },
    {
      "cell_type": "code",
      "execution_count": 6,
      "metadata": {
        "id": "LWNFOSvLl09H",
        "colab": {
          "base_uri": "https://localhost:8080/",
          "height": 719
        },
        "outputId": "08b17296-6ff6-4af7-bc98-6c58d6d61c73"
      },
      "outputs": [
        {
          "output_type": "execute_result",
          "data": {
            "text/plain": [
              "                                                 App        Category  Rating  \\\n",
              "0     Photo Editor & Candy Camera & Grid & ScrapBook  ART_AND_DESIGN     4.1   \n",
              "1                                Coloring book moana  ART_AND_DESIGN     3.9   \n",
              "2  U Launcher Lite – FREE Live Cool Themes, Hide ...  ART_AND_DESIGN     4.7   \n",
              "3                              Sketch - Draw & Paint  ART_AND_DESIGN     4.5   \n",
              "4              Pixel Draw - Number Art Coloring Book  ART_AND_DESIGN     4.3   \n",
              "5                         Paper flowers instructions  ART_AND_DESIGN     4.4   \n",
              "6            Smoke Effect Photo Maker - Smoke Editor  ART_AND_DESIGN     3.8   \n",
              "7                                   Infinite Painter  ART_AND_DESIGN     4.1   \n",
              "8                               Garden Coloring Book  ART_AND_DESIGN     4.4   \n",
              "9                      Kids Paint Free - Drawing Fun  ART_AND_DESIGN     4.7   \n",
              "\n",
              "  Reviews  Size     Installs  Type Price Content Rating  \\\n",
              "0     159   19M      10,000+  Free     0       Everyone   \n",
              "1     967   14M     500,000+  Free     0       Everyone   \n",
              "2   87510  8.7M   5,000,000+  Free     0       Everyone   \n",
              "3  215644   25M  50,000,000+  Free     0           Teen   \n",
              "4     967  2.8M     100,000+  Free     0       Everyone   \n",
              "5     167  5.6M      50,000+  Free     0       Everyone   \n",
              "6     178   19M      50,000+  Free     0       Everyone   \n",
              "7   36815   29M   1,000,000+  Free     0       Everyone   \n",
              "8   13791   33M   1,000,000+  Free     0       Everyone   \n",
              "9     121  3.1M      10,000+  Free     0       Everyone   \n",
              "\n",
              "                      Genres        Last Updated         Current Ver  \\\n",
              "0               Art & Design     January 7, 2018               1.0.0   \n",
              "1  Art & Design;Pretend Play    January 15, 2018               2.0.0   \n",
              "2               Art & Design      August 1, 2018               1.2.4   \n",
              "3               Art & Design        June 8, 2018  Varies with device   \n",
              "4    Art & Design;Creativity       June 20, 2018                 1.1   \n",
              "5               Art & Design      March 26, 2017                 1.0   \n",
              "6               Art & Design      April 26, 2018                 1.1   \n",
              "7               Art & Design       June 14, 2018            6.1.61.1   \n",
              "8               Art & Design  September 20, 2017               2.9.2   \n",
              "9    Art & Design;Creativity        July 3, 2018                 2.8   \n",
              "\n",
              "    Android Ver  \n",
              "0  4.0.3 and up  \n",
              "1  4.0.3 and up  \n",
              "2  4.0.3 and up  \n",
              "3    4.2 and up  \n",
              "4    4.4 and up  \n",
              "5    2.3 and up  \n",
              "6  4.0.3 and up  \n",
              "7    4.2 and up  \n",
              "8    3.0 and up  \n",
              "9  4.0.3 and up  "
            ],
            "text/html": [
              "\n",
              "  <div id=\"df-f2cbaaac-c2a7-42bf-b53a-baeed29e243c\">\n",
              "    <div class=\"colab-df-container\">\n",
              "      <div>\n",
              "<style scoped>\n",
              "    .dataframe tbody tr th:only-of-type {\n",
              "        vertical-align: middle;\n",
              "    }\n",
              "\n",
              "    .dataframe tbody tr th {\n",
              "        vertical-align: top;\n",
              "    }\n",
              "\n",
              "    .dataframe thead th {\n",
              "        text-align: right;\n",
              "    }\n",
              "</style>\n",
              "<table border=\"1\" class=\"dataframe\">\n",
              "  <thead>\n",
              "    <tr style=\"text-align: right;\">\n",
              "      <th></th>\n",
              "      <th>App</th>\n",
              "      <th>Category</th>\n",
              "      <th>Rating</th>\n",
              "      <th>Reviews</th>\n",
              "      <th>Size</th>\n",
              "      <th>Installs</th>\n",
              "      <th>Type</th>\n",
              "      <th>Price</th>\n",
              "      <th>Content Rating</th>\n",
              "      <th>Genres</th>\n",
              "      <th>Last Updated</th>\n",
              "      <th>Current Ver</th>\n",
              "      <th>Android Ver</th>\n",
              "    </tr>\n",
              "  </thead>\n",
              "  <tbody>\n",
              "    <tr>\n",
              "      <th>0</th>\n",
              "      <td>Photo Editor &amp; Candy Camera &amp; Grid &amp; ScrapBook</td>\n",
              "      <td>ART_AND_DESIGN</td>\n",
              "      <td>4.1</td>\n",
              "      <td>159</td>\n",
              "      <td>19M</td>\n",
              "      <td>10,000+</td>\n",
              "      <td>Free</td>\n",
              "      <td>0</td>\n",
              "      <td>Everyone</td>\n",
              "      <td>Art &amp; Design</td>\n",
              "      <td>January 7, 2018</td>\n",
              "      <td>1.0.0</td>\n",
              "      <td>4.0.3 and up</td>\n",
              "    </tr>\n",
              "    <tr>\n",
              "      <th>1</th>\n",
              "      <td>Coloring book moana</td>\n",
              "      <td>ART_AND_DESIGN</td>\n",
              "      <td>3.9</td>\n",
              "      <td>967</td>\n",
              "      <td>14M</td>\n",
              "      <td>500,000+</td>\n",
              "      <td>Free</td>\n",
              "      <td>0</td>\n",
              "      <td>Everyone</td>\n",
              "      <td>Art &amp; Design;Pretend Play</td>\n",
              "      <td>January 15, 2018</td>\n",
              "      <td>2.0.0</td>\n",
              "      <td>4.0.3 and up</td>\n",
              "    </tr>\n",
              "    <tr>\n",
              "      <th>2</th>\n",
              "      <td>U Launcher Lite – FREE Live Cool Themes, Hide ...</td>\n",
              "      <td>ART_AND_DESIGN</td>\n",
              "      <td>4.7</td>\n",
              "      <td>87510</td>\n",
              "      <td>8.7M</td>\n",
              "      <td>5,000,000+</td>\n",
              "      <td>Free</td>\n",
              "      <td>0</td>\n",
              "      <td>Everyone</td>\n",
              "      <td>Art &amp; Design</td>\n",
              "      <td>August 1, 2018</td>\n",
              "      <td>1.2.4</td>\n",
              "      <td>4.0.3 and up</td>\n",
              "    </tr>\n",
              "    <tr>\n",
              "      <th>3</th>\n",
              "      <td>Sketch - Draw &amp; Paint</td>\n",
              "      <td>ART_AND_DESIGN</td>\n",
              "      <td>4.5</td>\n",
              "      <td>215644</td>\n",
              "      <td>25M</td>\n",
              "      <td>50,000,000+</td>\n",
              "      <td>Free</td>\n",
              "      <td>0</td>\n",
              "      <td>Teen</td>\n",
              "      <td>Art &amp; Design</td>\n",
              "      <td>June 8, 2018</td>\n",
              "      <td>Varies with device</td>\n",
              "      <td>4.2 and up</td>\n",
              "    </tr>\n",
              "    <tr>\n",
              "      <th>4</th>\n",
              "      <td>Pixel Draw - Number Art Coloring Book</td>\n",
              "      <td>ART_AND_DESIGN</td>\n",
              "      <td>4.3</td>\n",
              "      <td>967</td>\n",
              "      <td>2.8M</td>\n",
              "      <td>100,000+</td>\n",
              "      <td>Free</td>\n",
              "      <td>0</td>\n",
              "      <td>Everyone</td>\n",
              "      <td>Art &amp; Design;Creativity</td>\n",
              "      <td>June 20, 2018</td>\n",
              "      <td>1.1</td>\n",
              "      <td>4.4 and up</td>\n",
              "    </tr>\n",
              "    <tr>\n",
              "      <th>5</th>\n",
              "      <td>Paper flowers instructions</td>\n",
              "      <td>ART_AND_DESIGN</td>\n",
              "      <td>4.4</td>\n",
              "      <td>167</td>\n",
              "      <td>5.6M</td>\n",
              "      <td>50,000+</td>\n",
              "      <td>Free</td>\n",
              "      <td>0</td>\n",
              "      <td>Everyone</td>\n",
              "      <td>Art &amp; Design</td>\n",
              "      <td>March 26, 2017</td>\n",
              "      <td>1.0</td>\n",
              "      <td>2.3 and up</td>\n",
              "    </tr>\n",
              "    <tr>\n",
              "      <th>6</th>\n",
              "      <td>Smoke Effect Photo Maker - Smoke Editor</td>\n",
              "      <td>ART_AND_DESIGN</td>\n",
              "      <td>3.8</td>\n",
              "      <td>178</td>\n",
              "      <td>19M</td>\n",
              "      <td>50,000+</td>\n",
              "      <td>Free</td>\n",
              "      <td>0</td>\n",
              "      <td>Everyone</td>\n",
              "      <td>Art &amp; Design</td>\n",
              "      <td>April 26, 2018</td>\n",
              "      <td>1.1</td>\n",
              "      <td>4.0.3 and up</td>\n",
              "    </tr>\n",
              "    <tr>\n",
              "      <th>7</th>\n",
              "      <td>Infinite Painter</td>\n",
              "      <td>ART_AND_DESIGN</td>\n",
              "      <td>4.1</td>\n",
              "      <td>36815</td>\n",
              "      <td>29M</td>\n",
              "      <td>1,000,000+</td>\n",
              "      <td>Free</td>\n",
              "      <td>0</td>\n",
              "      <td>Everyone</td>\n",
              "      <td>Art &amp; Design</td>\n",
              "      <td>June 14, 2018</td>\n",
              "      <td>6.1.61.1</td>\n",
              "      <td>4.2 and up</td>\n",
              "    </tr>\n",
              "    <tr>\n",
              "      <th>8</th>\n",
              "      <td>Garden Coloring Book</td>\n",
              "      <td>ART_AND_DESIGN</td>\n",
              "      <td>4.4</td>\n",
              "      <td>13791</td>\n",
              "      <td>33M</td>\n",
              "      <td>1,000,000+</td>\n",
              "      <td>Free</td>\n",
              "      <td>0</td>\n",
              "      <td>Everyone</td>\n",
              "      <td>Art &amp; Design</td>\n",
              "      <td>September 20, 2017</td>\n",
              "      <td>2.9.2</td>\n",
              "      <td>3.0 and up</td>\n",
              "    </tr>\n",
              "    <tr>\n",
              "      <th>9</th>\n",
              "      <td>Kids Paint Free - Drawing Fun</td>\n",
              "      <td>ART_AND_DESIGN</td>\n",
              "      <td>4.7</td>\n",
              "      <td>121</td>\n",
              "      <td>3.1M</td>\n",
              "      <td>10,000+</td>\n",
              "      <td>Free</td>\n",
              "      <td>0</td>\n",
              "      <td>Everyone</td>\n",
              "      <td>Art &amp; Design;Creativity</td>\n",
              "      <td>July 3, 2018</td>\n",
              "      <td>2.8</td>\n",
              "      <td>4.0.3 and up</td>\n",
              "    </tr>\n",
              "  </tbody>\n",
              "</table>\n",
              "</div>\n",
              "      <button class=\"colab-df-convert\" onclick=\"convertToInteractive('df-f2cbaaac-c2a7-42bf-b53a-baeed29e243c')\"\n",
              "              title=\"Convert this dataframe to an interactive table.\"\n",
              "              style=\"display:none;\">\n",
              "        \n",
              "  <svg xmlns=\"http://www.w3.org/2000/svg\" height=\"24px\"viewBox=\"0 0 24 24\"\n",
              "       width=\"24px\">\n",
              "    <path d=\"M0 0h24v24H0V0z\" fill=\"none\"/>\n",
              "    <path d=\"M18.56 5.44l.94 2.06.94-2.06 2.06-.94-2.06-.94-.94-2.06-.94 2.06-2.06.94zm-11 1L8.5 8.5l.94-2.06 2.06-.94-2.06-.94L8.5 2.5l-.94 2.06-2.06.94zm10 10l.94 2.06.94-2.06 2.06-.94-2.06-.94-.94-2.06-.94 2.06-2.06.94z\"/><path d=\"M17.41 7.96l-1.37-1.37c-.4-.4-.92-.59-1.43-.59-.52 0-1.04.2-1.43.59L10.3 9.45l-7.72 7.72c-.78.78-.78 2.05 0 2.83L4 21.41c.39.39.9.59 1.41.59.51 0 1.02-.2 1.41-.59l7.78-7.78 2.81-2.81c.8-.78.8-2.07 0-2.86zM5.41 20L4 18.59l7.72-7.72 1.47 1.35L5.41 20z\"/>\n",
              "  </svg>\n",
              "      </button>\n",
              "      \n",
              "  <style>\n",
              "    .colab-df-container {\n",
              "      display:flex;\n",
              "      flex-wrap:wrap;\n",
              "      gap: 12px;\n",
              "    }\n",
              "\n",
              "    .colab-df-convert {\n",
              "      background-color: #E8F0FE;\n",
              "      border: none;\n",
              "      border-radius: 50%;\n",
              "      cursor: pointer;\n",
              "      display: none;\n",
              "      fill: #1967D2;\n",
              "      height: 32px;\n",
              "      padding: 0 0 0 0;\n",
              "      width: 32px;\n",
              "    }\n",
              "\n",
              "    .colab-df-convert:hover {\n",
              "      background-color: #E2EBFA;\n",
              "      box-shadow: 0px 1px 2px rgba(60, 64, 67, 0.3), 0px 1px 3px 1px rgba(60, 64, 67, 0.15);\n",
              "      fill: #174EA6;\n",
              "    }\n",
              "\n",
              "    [theme=dark] .colab-df-convert {\n",
              "      background-color: #3B4455;\n",
              "      fill: #D2E3FC;\n",
              "    }\n",
              "\n",
              "    [theme=dark] .colab-df-convert:hover {\n",
              "      background-color: #434B5C;\n",
              "      box-shadow: 0px 1px 3px 1px rgba(0, 0, 0, 0.15);\n",
              "      filter: drop-shadow(0px 1px 2px rgba(0, 0, 0, 0.3));\n",
              "      fill: #FFFFFF;\n",
              "    }\n",
              "  </style>\n",
              "\n",
              "      <script>\n",
              "        const buttonEl =\n",
              "          document.querySelector('#df-f2cbaaac-c2a7-42bf-b53a-baeed29e243c button.colab-df-convert');\n",
              "        buttonEl.style.display =\n",
              "          google.colab.kernel.accessAllowed ? 'block' : 'none';\n",
              "\n",
              "        async function convertToInteractive(key) {\n",
              "          const element = document.querySelector('#df-f2cbaaac-c2a7-42bf-b53a-baeed29e243c');\n",
              "          const dataTable =\n",
              "            await google.colab.kernel.invokeFunction('convertToInteractive',\n",
              "                                                     [key], {});\n",
              "          if (!dataTable) return;\n",
              "\n",
              "          const docLinkHtml = 'Like what you see? Visit the ' +\n",
              "            '<a target=\"_blank\" href=https://colab.research.google.com/notebooks/data_table.ipynb>data table notebook</a>'\n",
              "            + ' to learn more about interactive tables.';\n",
              "          element.innerHTML = '';\n",
              "          dataTable['output_type'] = 'display_data';\n",
              "          await google.colab.output.renderOutput(dataTable, element);\n",
              "          const docLink = document.createElement('div');\n",
              "          docLink.innerHTML = docLinkHtml;\n",
              "          element.appendChild(docLink);\n",
              "        }\n",
              "      </script>\n",
              "    </div>\n",
              "  </div>\n",
              "  "
            ]
          },
          "metadata": {},
          "execution_count": 6
        }
      ],
      "source": [
        "# Play Store Dataset First Look\n",
        "play_store_data.head(10)"
      ]
    },
    {
      "cell_type": "code",
      "execution_count": 7,
      "metadata": {
        "colab": {
          "base_uri": "https://localhost:8080/",
          "height": 206
        },
        "id": "VE5V91ITGEhB",
        "outputId": "f1a8d4d3-7522-49e0-eb0e-a73880e93026"
      },
      "outputs": [
        {
          "output_type": "execute_result",
          "data": {
            "text/plain": [
              "                     App                                  Translated_Review  \\\n",
              "0  10 Best Foods for You  I like eat delicious food. That's I'm cooking ...   \n",
              "1  10 Best Foods for You    This help eating healthy exercise regular basis   \n",
              "2  10 Best Foods for You                                                NaN   \n",
              "3  10 Best Foods for You         Works great especially going grocery store   \n",
              "4  10 Best Foods for You                                       Best idea us   \n",
              "\n",
              "  Sentiment  Sentiment_Polarity  Sentiment_Subjectivity  \n",
              "0  Positive                1.00                0.533333  \n",
              "1  Positive                0.25                0.288462  \n",
              "2       NaN                 NaN                     NaN  \n",
              "3  Positive                0.40                0.875000  \n",
              "4  Positive                1.00                0.300000  "
            ],
            "text/html": [
              "\n",
              "  <div id=\"df-7f38a468-fb76-42e6-9006-0a4a8c869960\">\n",
              "    <div class=\"colab-df-container\">\n",
              "      <div>\n",
              "<style scoped>\n",
              "    .dataframe tbody tr th:only-of-type {\n",
              "        vertical-align: middle;\n",
              "    }\n",
              "\n",
              "    .dataframe tbody tr th {\n",
              "        vertical-align: top;\n",
              "    }\n",
              "\n",
              "    .dataframe thead th {\n",
              "        text-align: right;\n",
              "    }\n",
              "</style>\n",
              "<table border=\"1\" class=\"dataframe\">\n",
              "  <thead>\n",
              "    <tr style=\"text-align: right;\">\n",
              "      <th></th>\n",
              "      <th>App</th>\n",
              "      <th>Translated_Review</th>\n",
              "      <th>Sentiment</th>\n",
              "      <th>Sentiment_Polarity</th>\n",
              "      <th>Sentiment_Subjectivity</th>\n",
              "    </tr>\n",
              "  </thead>\n",
              "  <tbody>\n",
              "    <tr>\n",
              "      <th>0</th>\n",
              "      <td>10 Best Foods for You</td>\n",
              "      <td>I like eat delicious food. That's I'm cooking ...</td>\n",
              "      <td>Positive</td>\n",
              "      <td>1.00</td>\n",
              "      <td>0.533333</td>\n",
              "    </tr>\n",
              "    <tr>\n",
              "      <th>1</th>\n",
              "      <td>10 Best Foods for You</td>\n",
              "      <td>This help eating healthy exercise regular basis</td>\n",
              "      <td>Positive</td>\n",
              "      <td>0.25</td>\n",
              "      <td>0.288462</td>\n",
              "    </tr>\n",
              "    <tr>\n",
              "      <th>2</th>\n",
              "      <td>10 Best Foods for You</td>\n",
              "      <td>NaN</td>\n",
              "      <td>NaN</td>\n",
              "      <td>NaN</td>\n",
              "      <td>NaN</td>\n",
              "    </tr>\n",
              "    <tr>\n",
              "      <th>3</th>\n",
              "      <td>10 Best Foods for You</td>\n",
              "      <td>Works great especially going grocery store</td>\n",
              "      <td>Positive</td>\n",
              "      <td>0.40</td>\n",
              "      <td>0.875000</td>\n",
              "    </tr>\n",
              "    <tr>\n",
              "      <th>4</th>\n",
              "      <td>10 Best Foods for You</td>\n",
              "      <td>Best idea us</td>\n",
              "      <td>Positive</td>\n",
              "      <td>1.00</td>\n",
              "      <td>0.300000</td>\n",
              "    </tr>\n",
              "  </tbody>\n",
              "</table>\n",
              "</div>\n",
              "      <button class=\"colab-df-convert\" onclick=\"convertToInteractive('df-7f38a468-fb76-42e6-9006-0a4a8c869960')\"\n",
              "              title=\"Convert this dataframe to an interactive table.\"\n",
              "              style=\"display:none;\">\n",
              "        \n",
              "  <svg xmlns=\"http://www.w3.org/2000/svg\" height=\"24px\"viewBox=\"0 0 24 24\"\n",
              "       width=\"24px\">\n",
              "    <path d=\"M0 0h24v24H0V0z\" fill=\"none\"/>\n",
              "    <path d=\"M18.56 5.44l.94 2.06.94-2.06 2.06-.94-2.06-.94-.94-2.06-.94 2.06-2.06.94zm-11 1L8.5 8.5l.94-2.06 2.06-.94-2.06-.94L8.5 2.5l-.94 2.06-2.06.94zm10 10l.94 2.06.94-2.06 2.06-.94-2.06-.94-.94-2.06-.94 2.06-2.06.94z\"/><path d=\"M17.41 7.96l-1.37-1.37c-.4-.4-.92-.59-1.43-.59-.52 0-1.04.2-1.43.59L10.3 9.45l-7.72 7.72c-.78.78-.78 2.05 0 2.83L4 21.41c.39.39.9.59 1.41.59.51 0 1.02-.2 1.41-.59l7.78-7.78 2.81-2.81c.8-.78.8-2.07 0-2.86zM5.41 20L4 18.59l7.72-7.72 1.47 1.35L5.41 20z\"/>\n",
              "  </svg>\n",
              "      </button>\n",
              "      \n",
              "  <style>\n",
              "    .colab-df-container {\n",
              "      display:flex;\n",
              "      flex-wrap:wrap;\n",
              "      gap: 12px;\n",
              "    }\n",
              "\n",
              "    .colab-df-convert {\n",
              "      background-color: #E8F0FE;\n",
              "      border: none;\n",
              "      border-radius: 50%;\n",
              "      cursor: pointer;\n",
              "      display: none;\n",
              "      fill: #1967D2;\n",
              "      height: 32px;\n",
              "      padding: 0 0 0 0;\n",
              "      width: 32px;\n",
              "    }\n",
              "\n",
              "    .colab-df-convert:hover {\n",
              "      background-color: #E2EBFA;\n",
              "      box-shadow: 0px 1px 2px rgba(60, 64, 67, 0.3), 0px 1px 3px 1px rgba(60, 64, 67, 0.15);\n",
              "      fill: #174EA6;\n",
              "    }\n",
              "\n",
              "    [theme=dark] .colab-df-convert {\n",
              "      background-color: #3B4455;\n",
              "      fill: #D2E3FC;\n",
              "    }\n",
              "\n",
              "    [theme=dark] .colab-df-convert:hover {\n",
              "      background-color: #434B5C;\n",
              "      box-shadow: 0px 1px 3px 1px rgba(0, 0, 0, 0.15);\n",
              "      filter: drop-shadow(0px 1px 2px rgba(0, 0, 0, 0.3));\n",
              "      fill: #FFFFFF;\n",
              "    }\n",
              "  </style>\n",
              "\n",
              "      <script>\n",
              "        const buttonEl =\n",
              "          document.querySelector('#df-7f38a468-fb76-42e6-9006-0a4a8c869960 button.colab-df-convert');\n",
              "        buttonEl.style.display =\n",
              "          google.colab.kernel.accessAllowed ? 'block' : 'none';\n",
              "\n",
              "        async function convertToInteractive(key) {\n",
              "          const element = document.querySelector('#df-7f38a468-fb76-42e6-9006-0a4a8c869960');\n",
              "          const dataTable =\n",
              "            await google.colab.kernel.invokeFunction('convertToInteractive',\n",
              "                                                     [key], {});\n",
              "          if (!dataTable) return;\n",
              "\n",
              "          const docLinkHtml = 'Like what you see? Visit the ' +\n",
              "            '<a target=\"_blank\" href=https://colab.research.google.com/notebooks/data_table.ipynb>data table notebook</a>'\n",
              "            + ' to learn more about interactive tables.';\n",
              "          element.innerHTML = '';\n",
              "          dataTable['output_type'] = 'display_data';\n",
              "          await google.colab.output.renderOutput(dataTable, element);\n",
              "          const docLink = document.createElement('div');\n",
              "          docLink.innerHTML = docLinkHtml;\n",
              "          element.appendChild(docLink);\n",
              "        }\n",
              "      </script>\n",
              "    </div>\n",
              "  </div>\n",
              "  "
            ]
          },
          "metadata": {},
          "execution_count": 7
        }
      ],
      "source": [
        "# User Reviews Dataset First Look\n",
        "user_reviews_data.head()"
      ]
    },
    {
      "cell_type": "code",
      "execution_count": 8,
      "metadata": {
        "colab": {
          "base_uri": "https://localhost:8080/",
          "height": 260
        },
        "id": "JxGXRiNUcH9v",
        "outputId": "357c900f-a729-4201-a911-4132fe7994af"
      },
      "outputs": [
        {
          "output_type": "execute_result",
          "data": {
            "text/plain": [
              "                                                 App             Category  \\\n",
              "10839                  The SCP Foundation DB fr nn5n  BOOKS_AND_REFERENCE   \n",
              "10840  iHoroscope - 2018 Daily Horoscope & Astrology            LIFESTYLE   \n",
              "\n",
              "       Rating Reviews                Size     Installs  Type Price  \\\n",
              "10839     4.5     114  Varies with device       1,000+  Free     0   \n",
              "10840     4.5  398307                 19M  10,000,000+  Free     0   \n",
              "\n",
              "      Content Rating             Genres      Last Updated         Current Ver  \\\n",
              "10839     Mature 17+  Books & Reference  January 19, 2015  Varies with device   \n",
              "10840       Everyone          Lifestyle     July 25, 2018  Varies with device   \n",
              "\n",
              "              Android Ver  \n",
              "10839  Varies with device  \n",
              "10840  Varies with device  "
            ],
            "text/html": [
              "\n",
              "  <div id=\"df-5a032c7e-990c-4861-96f5-8acce1359832\">\n",
              "    <div class=\"colab-df-container\">\n",
              "      <div>\n",
              "<style scoped>\n",
              "    .dataframe tbody tr th:only-of-type {\n",
              "        vertical-align: middle;\n",
              "    }\n",
              "\n",
              "    .dataframe tbody tr th {\n",
              "        vertical-align: top;\n",
              "    }\n",
              "\n",
              "    .dataframe thead th {\n",
              "        text-align: right;\n",
              "    }\n",
              "</style>\n",
              "<table border=\"1\" class=\"dataframe\">\n",
              "  <thead>\n",
              "    <tr style=\"text-align: right;\">\n",
              "      <th></th>\n",
              "      <th>App</th>\n",
              "      <th>Category</th>\n",
              "      <th>Rating</th>\n",
              "      <th>Reviews</th>\n",
              "      <th>Size</th>\n",
              "      <th>Installs</th>\n",
              "      <th>Type</th>\n",
              "      <th>Price</th>\n",
              "      <th>Content Rating</th>\n",
              "      <th>Genres</th>\n",
              "      <th>Last Updated</th>\n",
              "      <th>Current Ver</th>\n",
              "      <th>Android Ver</th>\n",
              "    </tr>\n",
              "  </thead>\n",
              "  <tbody>\n",
              "    <tr>\n",
              "      <th>10839</th>\n",
              "      <td>The SCP Foundation DB fr nn5n</td>\n",
              "      <td>BOOKS_AND_REFERENCE</td>\n",
              "      <td>4.5</td>\n",
              "      <td>114</td>\n",
              "      <td>Varies with device</td>\n",
              "      <td>1,000+</td>\n",
              "      <td>Free</td>\n",
              "      <td>0</td>\n",
              "      <td>Mature 17+</td>\n",
              "      <td>Books &amp; Reference</td>\n",
              "      <td>January 19, 2015</td>\n",
              "      <td>Varies with device</td>\n",
              "      <td>Varies with device</td>\n",
              "    </tr>\n",
              "    <tr>\n",
              "      <th>10840</th>\n",
              "      <td>iHoroscope - 2018 Daily Horoscope &amp; Astrology</td>\n",
              "      <td>LIFESTYLE</td>\n",
              "      <td>4.5</td>\n",
              "      <td>398307</td>\n",
              "      <td>19M</td>\n",
              "      <td>10,000,000+</td>\n",
              "      <td>Free</td>\n",
              "      <td>0</td>\n",
              "      <td>Everyone</td>\n",
              "      <td>Lifestyle</td>\n",
              "      <td>July 25, 2018</td>\n",
              "      <td>Varies with device</td>\n",
              "      <td>Varies with device</td>\n",
              "    </tr>\n",
              "  </tbody>\n",
              "</table>\n",
              "</div>\n",
              "      <button class=\"colab-df-convert\" onclick=\"convertToInteractive('df-5a032c7e-990c-4861-96f5-8acce1359832')\"\n",
              "              title=\"Convert this dataframe to an interactive table.\"\n",
              "              style=\"display:none;\">\n",
              "        \n",
              "  <svg xmlns=\"http://www.w3.org/2000/svg\" height=\"24px\"viewBox=\"0 0 24 24\"\n",
              "       width=\"24px\">\n",
              "    <path d=\"M0 0h24v24H0V0z\" fill=\"none\"/>\n",
              "    <path d=\"M18.56 5.44l.94 2.06.94-2.06 2.06-.94-2.06-.94-.94-2.06-.94 2.06-2.06.94zm-11 1L8.5 8.5l.94-2.06 2.06-.94-2.06-.94L8.5 2.5l-.94 2.06-2.06.94zm10 10l.94 2.06.94-2.06 2.06-.94-2.06-.94-.94-2.06-.94 2.06-2.06.94z\"/><path d=\"M17.41 7.96l-1.37-1.37c-.4-.4-.92-.59-1.43-.59-.52 0-1.04.2-1.43.59L10.3 9.45l-7.72 7.72c-.78.78-.78 2.05 0 2.83L4 21.41c.39.39.9.59 1.41.59.51 0 1.02-.2 1.41-.59l7.78-7.78 2.81-2.81c.8-.78.8-2.07 0-2.86zM5.41 20L4 18.59l7.72-7.72 1.47 1.35L5.41 20z\"/>\n",
              "  </svg>\n",
              "      </button>\n",
              "      \n",
              "  <style>\n",
              "    .colab-df-container {\n",
              "      display:flex;\n",
              "      flex-wrap:wrap;\n",
              "      gap: 12px;\n",
              "    }\n",
              "\n",
              "    .colab-df-convert {\n",
              "      background-color: #E8F0FE;\n",
              "      border: none;\n",
              "      border-radius: 50%;\n",
              "      cursor: pointer;\n",
              "      display: none;\n",
              "      fill: #1967D2;\n",
              "      height: 32px;\n",
              "      padding: 0 0 0 0;\n",
              "      width: 32px;\n",
              "    }\n",
              "\n",
              "    .colab-df-convert:hover {\n",
              "      background-color: #E2EBFA;\n",
              "      box-shadow: 0px 1px 2px rgba(60, 64, 67, 0.3), 0px 1px 3px 1px rgba(60, 64, 67, 0.15);\n",
              "      fill: #174EA6;\n",
              "    }\n",
              "\n",
              "    [theme=dark] .colab-df-convert {\n",
              "      background-color: #3B4455;\n",
              "      fill: #D2E3FC;\n",
              "    }\n",
              "\n",
              "    [theme=dark] .colab-df-convert:hover {\n",
              "      background-color: #434B5C;\n",
              "      box-shadow: 0px 1px 3px 1px rgba(0, 0, 0, 0.15);\n",
              "      filter: drop-shadow(0px 1px 2px rgba(0, 0, 0, 0.3));\n",
              "      fill: #FFFFFF;\n",
              "    }\n",
              "  </style>\n",
              "\n",
              "      <script>\n",
              "        const buttonEl =\n",
              "          document.querySelector('#df-5a032c7e-990c-4861-96f5-8acce1359832 button.colab-df-convert');\n",
              "        buttonEl.style.display =\n",
              "          google.colab.kernel.accessAllowed ? 'block' : 'none';\n",
              "\n",
              "        async function convertToInteractive(key) {\n",
              "          const element = document.querySelector('#df-5a032c7e-990c-4861-96f5-8acce1359832');\n",
              "          const dataTable =\n",
              "            await google.colab.kernel.invokeFunction('convertToInteractive',\n",
              "                                                     [key], {});\n",
              "          if (!dataTable) return;\n",
              "\n",
              "          const docLinkHtml = 'Like what you see? Visit the ' +\n",
              "            '<a target=\"_blank\" href=https://colab.research.google.com/notebooks/data_table.ipynb>data table notebook</a>'\n",
              "            + ' to learn more about interactive tables.';\n",
              "          element.innerHTML = '';\n",
              "          dataTable['output_type'] = 'display_data';\n",
              "          await google.colab.output.renderOutput(dataTable, element);\n",
              "          const docLink = document.createElement('div');\n",
              "          docLink.innerHTML = docLinkHtml;\n",
              "          element.appendChild(docLink);\n",
              "        }\n",
              "      </script>\n",
              "    </div>\n",
              "  </div>\n",
              "  "
            ]
          },
          "metadata": {},
          "execution_count": 8
        }
      ],
      "source": [
        "play_store_data.tail(2)"
      ]
    },
    {
      "cell_type": "code",
      "execution_count": 9,
      "metadata": {
        "colab": {
          "base_uri": "https://localhost:8080/",
          "height": 112
        },
        "id": "6aPH7QDCSfXl",
        "outputId": "dae2dadb-b5c4-4666-9798-ce1ecebc7501"
      },
      "outputs": [
        {
          "output_type": "execute_result",
          "data": {
            "text/plain": [
              "                               App Translated_Review Sentiment  \\\n",
              "64293  Houzz Interior Design Ideas               NaN       NaN   \n",
              "64294  Houzz Interior Design Ideas               NaN       NaN   \n",
              "\n",
              "       Sentiment_Polarity  Sentiment_Subjectivity  \n",
              "64293                 NaN                     NaN  \n",
              "64294                 NaN                     NaN  "
            ],
            "text/html": [
              "\n",
              "  <div id=\"df-48f8f197-47db-40bb-aab9-22c3a749c38c\">\n",
              "    <div class=\"colab-df-container\">\n",
              "      <div>\n",
              "<style scoped>\n",
              "    .dataframe tbody tr th:only-of-type {\n",
              "        vertical-align: middle;\n",
              "    }\n",
              "\n",
              "    .dataframe tbody tr th {\n",
              "        vertical-align: top;\n",
              "    }\n",
              "\n",
              "    .dataframe thead th {\n",
              "        text-align: right;\n",
              "    }\n",
              "</style>\n",
              "<table border=\"1\" class=\"dataframe\">\n",
              "  <thead>\n",
              "    <tr style=\"text-align: right;\">\n",
              "      <th></th>\n",
              "      <th>App</th>\n",
              "      <th>Translated_Review</th>\n",
              "      <th>Sentiment</th>\n",
              "      <th>Sentiment_Polarity</th>\n",
              "      <th>Sentiment_Subjectivity</th>\n",
              "    </tr>\n",
              "  </thead>\n",
              "  <tbody>\n",
              "    <tr>\n",
              "      <th>64293</th>\n",
              "      <td>Houzz Interior Design Ideas</td>\n",
              "      <td>NaN</td>\n",
              "      <td>NaN</td>\n",
              "      <td>NaN</td>\n",
              "      <td>NaN</td>\n",
              "    </tr>\n",
              "    <tr>\n",
              "      <th>64294</th>\n",
              "      <td>Houzz Interior Design Ideas</td>\n",
              "      <td>NaN</td>\n",
              "      <td>NaN</td>\n",
              "      <td>NaN</td>\n",
              "      <td>NaN</td>\n",
              "    </tr>\n",
              "  </tbody>\n",
              "</table>\n",
              "</div>\n",
              "      <button class=\"colab-df-convert\" onclick=\"convertToInteractive('df-48f8f197-47db-40bb-aab9-22c3a749c38c')\"\n",
              "              title=\"Convert this dataframe to an interactive table.\"\n",
              "              style=\"display:none;\">\n",
              "        \n",
              "  <svg xmlns=\"http://www.w3.org/2000/svg\" height=\"24px\"viewBox=\"0 0 24 24\"\n",
              "       width=\"24px\">\n",
              "    <path d=\"M0 0h24v24H0V0z\" fill=\"none\"/>\n",
              "    <path d=\"M18.56 5.44l.94 2.06.94-2.06 2.06-.94-2.06-.94-.94-2.06-.94 2.06-2.06.94zm-11 1L8.5 8.5l.94-2.06 2.06-.94-2.06-.94L8.5 2.5l-.94 2.06-2.06.94zm10 10l.94 2.06.94-2.06 2.06-.94-2.06-.94-.94-2.06-.94 2.06-2.06.94z\"/><path d=\"M17.41 7.96l-1.37-1.37c-.4-.4-.92-.59-1.43-.59-.52 0-1.04.2-1.43.59L10.3 9.45l-7.72 7.72c-.78.78-.78 2.05 0 2.83L4 21.41c.39.39.9.59 1.41.59.51 0 1.02-.2 1.41-.59l7.78-7.78 2.81-2.81c.8-.78.8-2.07 0-2.86zM5.41 20L4 18.59l7.72-7.72 1.47 1.35L5.41 20z\"/>\n",
              "  </svg>\n",
              "      </button>\n",
              "      \n",
              "  <style>\n",
              "    .colab-df-container {\n",
              "      display:flex;\n",
              "      flex-wrap:wrap;\n",
              "      gap: 12px;\n",
              "    }\n",
              "\n",
              "    .colab-df-convert {\n",
              "      background-color: #E8F0FE;\n",
              "      border: none;\n",
              "      border-radius: 50%;\n",
              "      cursor: pointer;\n",
              "      display: none;\n",
              "      fill: #1967D2;\n",
              "      height: 32px;\n",
              "      padding: 0 0 0 0;\n",
              "      width: 32px;\n",
              "    }\n",
              "\n",
              "    .colab-df-convert:hover {\n",
              "      background-color: #E2EBFA;\n",
              "      box-shadow: 0px 1px 2px rgba(60, 64, 67, 0.3), 0px 1px 3px 1px rgba(60, 64, 67, 0.15);\n",
              "      fill: #174EA6;\n",
              "    }\n",
              "\n",
              "    [theme=dark] .colab-df-convert {\n",
              "      background-color: #3B4455;\n",
              "      fill: #D2E3FC;\n",
              "    }\n",
              "\n",
              "    [theme=dark] .colab-df-convert:hover {\n",
              "      background-color: #434B5C;\n",
              "      box-shadow: 0px 1px 3px 1px rgba(0, 0, 0, 0.15);\n",
              "      filter: drop-shadow(0px 1px 2px rgba(0, 0, 0, 0.3));\n",
              "      fill: #FFFFFF;\n",
              "    }\n",
              "  </style>\n",
              "\n",
              "      <script>\n",
              "        const buttonEl =\n",
              "          document.querySelector('#df-48f8f197-47db-40bb-aab9-22c3a749c38c button.colab-df-convert');\n",
              "        buttonEl.style.display =\n",
              "          google.colab.kernel.accessAllowed ? 'block' : 'none';\n",
              "\n",
              "        async function convertToInteractive(key) {\n",
              "          const element = document.querySelector('#df-48f8f197-47db-40bb-aab9-22c3a749c38c');\n",
              "          const dataTable =\n",
              "            await google.colab.kernel.invokeFunction('convertToInteractive',\n",
              "                                                     [key], {});\n",
              "          if (!dataTable) return;\n",
              "\n",
              "          const docLinkHtml = 'Like what you see? Visit the ' +\n",
              "            '<a target=\"_blank\" href=https://colab.research.google.com/notebooks/data_table.ipynb>data table notebook</a>'\n",
              "            + ' to learn more about interactive tables.';\n",
              "          element.innerHTML = '';\n",
              "          dataTable['output_type'] = 'display_data';\n",
              "          await google.colab.output.renderOutput(dataTable, element);\n",
              "          const docLink = document.createElement('div');\n",
              "          docLink.innerHTML = docLinkHtml;\n",
              "          element.appendChild(docLink);\n",
              "        }\n",
              "      </script>\n",
              "    </div>\n",
              "  </div>\n",
              "  "
            ]
          },
          "metadata": {},
          "execution_count": 9
        }
      ],
      "source": [
        "user_reviews_data.tail(2)"
      ]
    },
    {
      "cell_type": "markdown",
      "metadata": {
        "id": "7hBIi_osiCS2"
      },
      "source": [
        "### ⏩Dataset Rows & Columns count"
      ]
    },
    {
      "cell_type": "code",
      "execution_count": 10,
      "metadata": {
        "colab": {
          "base_uri": "https://localhost:8080/"
        },
        "id": "Kllu7SJgmLij",
        "outputId": "3b426f83-45c3-411e-be11-b5de314ebd8b"
      },
      "outputs": [
        {
          "output_type": "stream",
          "name": "stdout",
          "text": [
            "shape of playstore dataset is : (10841, 13)\n"
          ]
        }
      ],
      "source": [
        "# playstore Dataset Rows & Columns count\n",
        "print(\"shape of playstore dataset is :\",play_store_data.shape)"
      ]
    },
    {
      "cell_type": "code",
      "execution_count": 11,
      "metadata": {
        "colab": {
          "base_uri": "https://localhost:8080/"
        },
        "id": "aHX6QnrgJUln",
        "outputId": "60bab0d8-93e1-4e05-a569-97bd5555560f"
      },
      "outputs": [
        {
          "output_type": "stream",
          "name": "stdout",
          "text": [
            "shape of User review dataset is : (64295, 5)\n"
          ]
        }
      ],
      "source": [
        "# User Review Dataset Rows & Columns count\n",
        "print(\"shape of User review dataset is :\",user_reviews_data.shape)"
      ]
    },
    {
      "cell_type": "markdown",
      "metadata": {
        "id": "JlHwYmJAmNHm"
      },
      "source": [
        "### ⏩ Dataset Information"
      ]
    },
    {
      "cell_type": "code",
      "execution_count": 12,
      "metadata": {
        "colab": {
          "base_uri": "https://localhost:8080/"
        },
        "id": "e9hRXRi6meOf",
        "outputId": "56c97ffd-930b-498a-f2bc-64196ff1294f"
      },
      "outputs": [
        {
          "output_type": "stream",
          "name": "stdout",
          "text": [
            "<class 'pandas.core.frame.DataFrame'>\n",
            "RangeIndex: 10841 entries, 0 to 10840\n",
            "Data columns (total 13 columns):\n",
            " #   Column          Non-Null Count  Dtype  \n",
            "---  ------          --------------  -----  \n",
            " 0   App             10841 non-null  object \n",
            " 1   Category        10841 non-null  object \n",
            " 2   Rating          9367 non-null   float64\n",
            " 3   Reviews         10841 non-null  object \n",
            " 4   Size            10841 non-null  object \n",
            " 5   Installs        10841 non-null  object \n",
            " 6   Type            10840 non-null  object \n",
            " 7   Price           10841 non-null  object \n",
            " 8   Content Rating  10840 non-null  object \n",
            " 9   Genres          10841 non-null  object \n",
            " 10  Last Updated    10841 non-null  object \n",
            " 11  Current Ver     10833 non-null  object \n",
            " 12  Android Ver     10838 non-null  object \n",
            "dtypes: float64(1), object(12)\n",
            "memory usage: 1.1+ MB\n"
          ]
        }
      ],
      "source": [
        "# playstore Dataset Dataset Info\n",
        "play_store_data.info()"
      ]
    },
    {
      "cell_type": "code",
      "execution_count": 13,
      "metadata": {
        "colab": {
          "base_uri": "https://localhost:8080/"
        },
        "id": "HpK82dmsVuOm",
        "outputId": "9184040c-7760-4fd0-ebbc-b530d93c640b"
      },
      "outputs": [
        {
          "output_type": "stream",
          "name": "stdout",
          "text": [
            "<class 'pandas.core.frame.DataFrame'>\n",
            "RangeIndex: 64295 entries, 0 to 64294\n",
            "Data columns (total 5 columns):\n",
            " #   Column                  Non-Null Count  Dtype  \n",
            "---  ------                  --------------  -----  \n",
            " 0   App                     64295 non-null  object \n",
            " 1   Translated_Review       37427 non-null  object \n",
            " 2   Sentiment               37432 non-null  object \n",
            " 3   Sentiment_Polarity      37432 non-null  float64\n",
            " 4   Sentiment_Subjectivity  37432 non-null  float64\n",
            "dtypes: float64(2), object(3)\n",
            "memory usage: 2.5+ MB\n"
          ]
        }
      ],
      "source": [
        "# User Review Dataset Info\n",
        "user_reviews_data.info()"
      ]
    },
    {
      "cell_type": "markdown",
      "metadata": {
        "id": "35m5QtbWiB9F"
      },
      "source": [
        "####⏩ Duplicate Values"
      ]
    },
    {
      "cell_type": "code",
      "execution_count": 14,
      "metadata": {
        "colab": {
          "base_uri": "https://localhost:8080/"
        },
        "id": "1sLdpKYkmox0",
        "outputId": "7348f942-6463-4b92-d84e-5a72f4b25ee3"
      },
      "outputs": [
        {
          "output_type": "execute_result",
          "data": {
            "text/plain": [
              "ROBLOX                                                9\n",
              "CBS Sports App - Scores, News, Stats & Watch Live     8\n",
              "ESPN                                                  7\n",
              "Duolingo: Learn Languages Free                        7\n",
              "Candy Crush Saga                                      7\n",
              "                                                     ..\n",
              "Meet U - Get Friends for Snapchat, Kik & Instagram    1\n",
              "U-Report                                              1\n",
              "U of I Community Credit Union                         1\n",
              "Waiting For U Launcher Theme                          1\n",
              "iHoroscope - 2018 Daily Horoscope & Astrology         1\n",
              "Name: App, Length: 9660, dtype: int64"
            ]
          },
          "metadata": {},
          "execution_count": 14
        }
      ],
      "source": [
        "# Dataset App total Value Count\n",
        "play_store_data['App'].value_counts()\n"
      ]
    },
    {
      "cell_type": "code",
      "execution_count": 15,
      "metadata": {
        "colab": {
          "base_uri": "https://localhost:8080/"
        },
        "id": "YiJ7P6itE5-v",
        "outputId": "1beeb3c8-c28b-4150-9083-5af2b44a2fd1"
      },
      "outputs": [
        {
          "output_type": "execute_result",
          "data": {
            "text/plain": [
              "483"
            ]
          },
          "metadata": {},
          "execution_count": 15
        }
      ],
      "source": [
        "#we will find the sum of all the duplicates.\n",
        "play_store_data.duplicated().sum()\n"
      ]
    },
    {
      "cell_type": "code",
      "execution_count": 16,
      "metadata": {
        "id": "DHPW9ClxDSG8"
      },
      "outputs": [],
      "source": [
        "#Deleting all the duplicates of app:\n",
        "play_store_data.drop_duplicates(subset='App',inplace=True)\n"
      ]
    },
    {
      "cell_type": "code",
      "execution_count": 17,
      "metadata": {
        "colab": {
          "base_uri": "https://localhost:8080/"
        },
        "id": "d7g5ffBBGf9g",
        "outputId": "21334476-a611-472e-df69-e95dbbeada15"
      },
      "outputs": [
        {
          "output_type": "execute_result",
          "data": {
            "text/plain": [
              "0"
            ]
          },
          "metadata": {},
          "execution_count": 17
        }
      ],
      "source": [
        "#Checking whether all duplicate apps whether deleted.\n",
        "play_store_data.duplicated().sum()\n"
      ]
    },
    {
      "cell_type": "code",
      "execution_count": 18,
      "metadata": {
        "colab": {
          "base_uri": "https://localhost:8080/",
          "height": 260
        },
        "id": "5ymw8fHmZmxb",
        "outputId": "19747fe4-4adf-4620-aae2-ac27da18294d"
      },
      "outputs": [
        {
          "output_type": "execute_result",
          "data": {
            "text/plain": [
              "                                                 App             Category  \\\n",
              "10839                  The SCP Foundation DB fr nn5n  BOOKS_AND_REFERENCE   \n",
              "10840  iHoroscope - 2018 Daily Horoscope & Astrology            LIFESTYLE   \n",
              "\n",
              "       Rating Reviews                Size     Installs  Type Price  \\\n",
              "10839     4.5     114  Varies with device       1,000+  Free     0   \n",
              "10840     4.5  398307                 19M  10,000,000+  Free     0   \n",
              "\n",
              "      Content Rating             Genres      Last Updated         Current Ver  \\\n",
              "10839     Mature 17+  Books & Reference  January 19, 2015  Varies with device   \n",
              "10840       Everyone          Lifestyle     July 25, 2018  Varies with device   \n",
              "\n",
              "              Android Ver  \n",
              "10839  Varies with device  \n",
              "10840  Varies with device  "
            ],
            "text/html": [
              "\n",
              "  <div id=\"df-59126d5a-c08a-4afe-8f70-f5fc55c552de\">\n",
              "    <div class=\"colab-df-container\">\n",
              "      <div>\n",
              "<style scoped>\n",
              "    .dataframe tbody tr th:only-of-type {\n",
              "        vertical-align: middle;\n",
              "    }\n",
              "\n",
              "    .dataframe tbody tr th {\n",
              "        vertical-align: top;\n",
              "    }\n",
              "\n",
              "    .dataframe thead th {\n",
              "        text-align: right;\n",
              "    }\n",
              "</style>\n",
              "<table border=\"1\" class=\"dataframe\">\n",
              "  <thead>\n",
              "    <tr style=\"text-align: right;\">\n",
              "      <th></th>\n",
              "      <th>App</th>\n",
              "      <th>Category</th>\n",
              "      <th>Rating</th>\n",
              "      <th>Reviews</th>\n",
              "      <th>Size</th>\n",
              "      <th>Installs</th>\n",
              "      <th>Type</th>\n",
              "      <th>Price</th>\n",
              "      <th>Content Rating</th>\n",
              "      <th>Genres</th>\n",
              "      <th>Last Updated</th>\n",
              "      <th>Current Ver</th>\n",
              "      <th>Android Ver</th>\n",
              "    </tr>\n",
              "  </thead>\n",
              "  <tbody>\n",
              "    <tr>\n",
              "      <th>10839</th>\n",
              "      <td>The SCP Foundation DB fr nn5n</td>\n",
              "      <td>BOOKS_AND_REFERENCE</td>\n",
              "      <td>4.5</td>\n",
              "      <td>114</td>\n",
              "      <td>Varies with device</td>\n",
              "      <td>1,000+</td>\n",
              "      <td>Free</td>\n",
              "      <td>0</td>\n",
              "      <td>Mature 17+</td>\n",
              "      <td>Books &amp; Reference</td>\n",
              "      <td>January 19, 2015</td>\n",
              "      <td>Varies with device</td>\n",
              "      <td>Varies with device</td>\n",
              "    </tr>\n",
              "    <tr>\n",
              "      <th>10840</th>\n",
              "      <td>iHoroscope - 2018 Daily Horoscope &amp; Astrology</td>\n",
              "      <td>LIFESTYLE</td>\n",
              "      <td>4.5</td>\n",
              "      <td>398307</td>\n",
              "      <td>19M</td>\n",
              "      <td>10,000,000+</td>\n",
              "      <td>Free</td>\n",
              "      <td>0</td>\n",
              "      <td>Everyone</td>\n",
              "      <td>Lifestyle</td>\n",
              "      <td>July 25, 2018</td>\n",
              "      <td>Varies with device</td>\n",
              "      <td>Varies with device</td>\n",
              "    </tr>\n",
              "  </tbody>\n",
              "</table>\n",
              "</div>\n",
              "      <button class=\"colab-df-convert\" onclick=\"convertToInteractive('df-59126d5a-c08a-4afe-8f70-f5fc55c552de')\"\n",
              "              title=\"Convert this dataframe to an interactive table.\"\n",
              "              style=\"display:none;\">\n",
              "        \n",
              "  <svg xmlns=\"http://www.w3.org/2000/svg\" height=\"24px\"viewBox=\"0 0 24 24\"\n",
              "       width=\"24px\">\n",
              "    <path d=\"M0 0h24v24H0V0z\" fill=\"none\"/>\n",
              "    <path d=\"M18.56 5.44l.94 2.06.94-2.06 2.06-.94-2.06-.94-.94-2.06-.94 2.06-2.06.94zm-11 1L8.5 8.5l.94-2.06 2.06-.94-2.06-.94L8.5 2.5l-.94 2.06-2.06.94zm10 10l.94 2.06.94-2.06 2.06-.94-2.06-.94-.94-2.06-.94 2.06-2.06.94z\"/><path d=\"M17.41 7.96l-1.37-1.37c-.4-.4-.92-.59-1.43-.59-.52 0-1.04.2-1.43.59L10.3 9.45l-7.72 7.72c-.78.78-.78 2.05 0 2.83L4 21.41c.39.39.9.59 1.41.59.51 0 1.02-.2 1.41-.59l7.78-7.78 2.81-2.81c.8-.78.8-2.07 0-2.86zM5.41 20L4 18.59l7.72-7.72 1.47 1.35L5.41 20z\"/>\n",
              "  </svg>\n",
              "      </button>\n",
              "      \n",
              "  <style>\n",
              "    .colab-df-container {\n",
              "      display:flex;\n",
              "      flex-wrap:wrap;\n",
              "      gap: 12px;\n",
              "    }\n",
              "\n",
              "    .colab-df-convert {\n",
              "      background-color: #E8F0FE;\n",
              "      border: none;\n",
              "      border-radius: 50%;\n",
              "      cursor: pointer;\n",
              "      display: none;\n",
              "      fill: #1967D2;\n",
              "      height: 32px;\n",
              "      padding: 0 0 0 0;\n",
              "      width: 32px;\n",
              "    }\n",
              "\n",
              "    .colab-df-convert:hover {\n",
              "      background-color: #E2EBFA;\n",
              "      box-shadow: 0px 1px 2px rgba(60, 64, 67, 0.3), 0px 1px 3px 1px rgba(60, 64, 67, 0.15);\n",
              "      fill: #174EA6;\n",
              "    }\n",
              "\n",
              "    [theme=dark] .colab-df-convert {\n",
              "      background-color: #3B4455;\n",
              "      fill: #D2E3FC;\n",
              "    }\n",
              "\n",
              "    [theme=dark] .colab-df-convert:hover {\n",
              "      background-color: #434B5C;\n",
              "      box-shadow: 0px 1px 3px 1px rgba(0, 0, 0, 0.15);\n",
              "      filter: drop-shadow(0px 1px 2px rgba(0, 0, 0, 0.3));\n",
              "      fill: #FFFFFF;\n",
              "    }\n",
              "  </style>\n",
              "\n",
              "      <script>\n",
              "        const buttonEl =\n",
              "          document.querySelector('#df-59126d5a-c08a-4afe-8f70-f5fc55c552de button.colab-df-convert');\n",
              "        buttonEl.style.display =\n",
              "          google.colab.kernel.accessAllowed ? 'block' : 'none';\n",
              "\n",
              "        async function convertToInteractive(key) {\n",
              "          const element = document.querySelector('#df-59126d5a-c08a-4afe-8f70-f5fc55c552de');\n",
              "          const dataTable =\n",
              "            await google.colab.kernel.invokeFunction('convertToInteractive',\n",
              "                                                     [key], {});\n",
              "          if (!dataTable) return;\n",
              "\n",
              "          const docLinkHtml = 'Like what you see? Visit the ' +\n",
              "            '<a target=\"_blank\" href=https://colab.research.google.com/notebooks/data_table.ipynb>data table notebook</a>'\n",
              "            + ' to learn more about interactive tables.';\n",
              "          element.innerHTML = '';\n",
              "          dataTable['output_type'] = 'display_data';\n",
              "          await google.colab.output.renderOutput(dataTable, element);\n",
              "          const docLink = document.createElement('div');\n",
              "          docLink.innerHTML = docLinkHtml;\n",
              "          element.appendChild(docLink);\n",
              "        }\n",
              "      </script>\n",
              "    </div>\n",
              "  </div>\n",
              "  "
            ]
          },
          "metadata": {},
          "execution_count": 18
        }
      ],
      "source": [
        "play_store_data.tail(2)"
      ]
    },
    {
      "cell_type": "code",
      "execution_count": 19,
      "metadata": {
        "id": "P2Y1i3Ay3sH7"
      },
      "outputs": [],
      "source": [
        "#dropping null values\n",
        "#play_store_data = play_store_data.dropna(subset=['Category','Genres','Reviews','Size','Installs','Content Rating','Last Updated','Current Ver','Android Ver'],inplace=True)"
      ]
    },
    {
      "cell_type": "code",
      "execution_count": 20,
      "metadata": {
        "id": "AHMZKx-ubomG"
      },
      "outputs": [],
      "source": [
        "#Lets replace the null values within column by the mean of the column. So will calculate mean values of columns having null values.\n",
        "rating_mean=play_store_data['Rating'].mean()\n",
        "play_store_data[\"Rating\"].fillna(rating_mean, inplace = True)"
      ]
    },
    {
      "cell_type": "code",
      "execution_count": 21,
      "metadata": {
        "colab": {
          "base_uri": "https://localhost:8080/",
          "height": 159
        },
        "id": "6TI72Y5pfDZW",
        "outputId": "7cdb8b34-42e7-49ad-f47e-6af3a3a9dd31"
      },
      "outputs": [
        {
          "output_type": "execute_result",
          "data": {
            "text/plain": [
              "                            App Category    Rating Reviews  \\\n",
              "9148  Command & Conquer: Rivals   FAMILY  4.175052       0   \n",
              "\n",
              "                    Size Installs Type Price Content Rating    Genres  \\\n",
              "9148  Varies with device        0  NaN     0   Everyone 10+  Strategy   \n",
              "\n",
              "       Last Updated         Current Ver         Android Ver  \n",
              "9148  June 28, 2018  Varies with device  Varies with device  "
            ],
            "text/html": [
              "\n",
              "  <div id=\"df-295f32d6-6257-48fa-bb15-b049f7b45308\">\n",
              "    <div class=\"colab-df-container\">\n",
              "      <div>\n",
              "<style scoped>\n",
              "    .dataframe tbody tr th:only-of-type {\n",
              "        vertical-align: middle;\n",
              "    }\n",
              "\n",
              "    .dataframe tbody tr th {\n",
              "        vertical-align: top;\n",
              "    }\n",
              "\n",
              "    .dataframe thead th {\n",
              "        text-align: right;\n",
              "    }\n",
              "</style>\n",
              "<table border=\"1\" class=\"dataframe\">\n",
              "  <thead>\n",
              "    <tr style=\"text-align: right;\">\n",
              "      <th></th>\n",
              "      <th>App</th>\n",
              "      <th>Category</th>\n",
              "      <th>Rating</th>\n",
              "      <th>Reviews</th>\n",
              "      <th>Size</th>\n",
              "      <th>Installs</th>\n",
              "      <th>Type</th>\n",
              "      <th>Price</th>\n",
              "      <th>Content Rating</th>\n",
              "      <th>Genres</th>\n",
              "      <th>Last Updated</th>\n",
              "      <th>Current Ver</th>\n",
              "      <th>Android Ver</th>\n",
              "    </tr>\n",
              "  </thead>\n",
              "  <tbody>\n",
              "    <tr>\n",
              "      <th>9148</th>\n",
              "      <td>Command &amp; Conquer: Rivals</td>\n",
              "      <td>FAMILY</td>\n",
              "      <td>4.175052</td>\n",
              "      <td>0</td>\n",
              "      <td>Varies with device</td>\n",
              "      <td>0</td>\n",
              "      <td>NaN</td>\n",
              "      <td>0</td>\n",
              "      <td>Everyone 10+</td>\n",
              "      <td>Strategy</td>\n",
              "      <td>June 28, 2018</td>\n",
              "      <td>Varies with device</td>\n",
              "      <td>Varies with device</td>\n",
              "    </tr>\n",
              "  </tbody>\n",
              "</table>\n",
              "</div>\n",
              "      <button class=\"colab-df-convert\" onclick=\"convertToInteractive('df-295f32d6-6257-48fa-bb15-b049f7b45308')\"\n",
              "              title=\"Convert this dataframe to an interactive table.\"\n",
              "              style=\"display:none;\">\n",
              "        \n",
              "  <svg xmlns=\"http://www.w3.org/2000/svg\" height=\"24px\"viewBox=\"0 0 24 24\"\n",
              "       width=\"24px\">\n",
              "    <path d=\"M0 0h24v24H0V0z\" fill=\"none\"/>\n",
              "    <path d=\"M18.56 5.44l.94 2.06.94-2.06 2.06-.94-2.06-.94-.94-2.06-.94 2.06-2.06.94zm-11 1L8.5 8.5l.94-2.06 2.06-.94-2.06-.94L8.5 2.5l-.94 2.06-2.06.94zm10 10l.94 2.06.94-2.06 2.06-.94-2.06-.94-.94-2.06-.94 2.06-2.06.94z\"/><path d=\"M17.41 7.96l-1.37-1.37c-.4-.4-.92-.59-1.43-.59-.52 0-1.04.2-1.43.59L10.3 9.45l-7.72 7.72c-.78.78-.78 2.05 0 2.83L4 21.41c.39.39.9.59 1.41.59.51 0 1.02-.2 1.41-.59l7.78-7.78 2.81-2.81c.8-.78.8-2.07 0-2.86zM5.41 20L4 18.59l7.72-7.72 1.47 1.35L5.41 20z\"/>\n",
              "  </svg>\n",
              "      </button>\n",
              "      \n",
              "  <style>\n",
              "    .colab-df-container {\n",
              "      display:flex;\n",
              "      flex-wrap:wrap;\n",
              "      gap: 12px;\n",
              "    }\n",
              "\n",
              "    .colab-df-convert {\n",
              "      background-color: #E8F0FE;\n",
              "      border: none;\n",
              "      border-radius: 50%;\n",
              "      cursor: pointer;\n",
              "      display: none;\n",
              "      fill: #1967D2;\n",
              "      height: 32px;\n",
              "      padding: 0 0 0 0;\n",
              "      width: 32px;\n",
              "    }\n",
              "\n",
              "    .colab-df-convert:hover {\n",
              "      background-color: #E2EBFA;\n",
              "      box-shadow: 0px 1px 2px rgba(60, 64, 67, 0.3), 0px 1px 3px 1px rgba(60, 64, 67, 0.15);\n",
              "      fill: #174EA6;\n",
              "    }\n",
              "\n",
              "    [theme=dark] .colab-df-convert {\n",
              "      background-color: #3B4455;\n",
              "      fill: #D2E3FC;\n",
              "    }\n",
              "\n",
              "    [theme=dark] .colab-df-convert:hover {\n",
              "      background-color: #434B5C;\n",
              "      box-shadow: 0px 1px 3px 1px rgba(0, 0, 0, 0.15);\n",
              "      filter: drop-shadow(0px 1px 2px rgba(0, 0, 0, 0.3));\n",
              "      fill: #FFFFFF;\n",
              "    }\n",
              "  </style>\n",
              "\n",
              "      <script>\n",
              "        const buttonEl =\n",
              "          document.querySelector('#df-295f32d6-6257-48fa-bb15-b049f7b45308 button.colab-df-convert');\n",
              "        buttonEl.style.display =\n",
              "          google.colab.kernel.accessAllowed ? 'block' : 'none';\n",
              "\n",
              "        async function convertToInteractive(key) {\n",
              "          const element = document.querySelector('#df-295f32d6-6257-48fa-bb15-b049f7b45308');\n",
              "          const dataTable =\n",
              "            await google.colab.kernel.invokeFunction('convertToInteractive',\n",
              "                                                     [key], {});\n",
              "          if (!dataTable) return;\n",
              "\n",
              "          const docLinkHtml = 'Like what you see? Visit the ' +\n",
              "            '<a target=\"_blank\" href=https://colab.research.google.com/notebooks/data_table.ipynb>data table notebook</a>'\n",
              "            + ' to learn more about interactive tables.';\n",
              "          element.innerHTML = '';\n",
              "          dataTable['output_type'] = 'display_data';\n",
              "          await google.colab.output.renderOutput(dataTable, element);\n",
              "          const docLink = document.createElement('div');\n",
              "          docLink.innerHTML = docLinkHtml;\n",
              "          element.appendChild(docLink);\n",
              "        }\n",
              "      </script>\n",
              "    </div>\n",
              "  </div>\n",
              "  "
            ]
          },
          "metadata": {},
          "execution_count": 21
        }
      ],
      "source": [
        "play_store_data[play_store_data[\"Type\"].isnull()]"
      ]
    },
    {
      "cell_type": "code",
      "execution_count": 22,
      "metadata": {
        "id": "tctE7Cv0f-kk"
      },
      "outputs": [],
      "source": [
        "play_store_data[\"Type\"].fillna(value = \"Free\"  , inplace = True)"
      ]
    },
    {
      "cell_type": "markdown",
      "metadata": {
        "id": "jNPe_H6miUJx"
      },
      "source": [
        "Our data set has large no of rows. 'Content Rating','Current Ver','Android Ver' this columns has small number null values.So we can drop easily rows having null values,as it wont affect much to our dataset."
      ]
    },
    {
      "cell_type": "code",
      "execution_count": 23,
      "metadata": {
        "id": "7gtka0VlgIQf"
      },
      "outputs": [],
      "source": [
        "#dropping null values\n",
        "play_store_data = play_store_data.dropna()"
      ]
    },
    {
      "cell_type": "code",
      "execution_count": 24,
      "metadata": {
        "colab": {
          "base_uri": "https://localhost:8080/"
        },
        "id": "eB22ccN_Gt4x",
        "outputId": "a05ce04d-ed6e-47fb-f701-ba41f48e9c61"
      },
      "outputs": [
        {
          "output_type": "execute_result",
          "data": {
            "text/plain": [
              "(9649, 13)"
            ]
          },
          "metadata": {},
          "execution_count": 24
        }
      ],
      "source": [
        "#shape of our new dataset is as follows:\n",
        "play_store_data.shape\n"
      ]
    },
    {
      "cell_type": "markdown",
      "metadata": {
        "id": "eME-bOmHfNQW"
      },
      "source": [
        "#⏩`Data Cleaning:`\n",
        "1.Cleaning of playstore dataset:\n"
      ]
    },
    {
      "cell_type": "markdown",
      "metadata": {
        "id": "xIbf2CtZwjhl"
      },
      "source": [
        "### Getting Columns Names"
      ]
    },
    {
      "cell_type": "code",
      "execution_count": 25,
      "metadata": {
        "colab": {
          "base_uri": "https://localhost:8080/"
        },
        "id": "ZLbNZkKbptF0",
        "outputId": "602cee53-a867-4892-a165-9a5339c79985"
      },
      "outputs": [
        {
          "output_type": "execute_result",
          "data": {
            "text/plain": [
              "Index(['App', 'Category', 'Rating', 'Reviews', 'Size', 'Installs', 'Type',\n",
              "       'Price', 'Content Rating', 'Genres', 'Last Updated', 'Current Ver',\n",
              "       'Android Ver'],\n",
              "      dtype='object')"
            ]
          },
          "metadata": {},
          "execution_count": 25
        }
      ],
      "source": [
        "columns = play_store_data.columns\n",
        "columns"
      ]
    },
    {
      "cell_type": "markdown",
      "metadata": {
        "id": "6W6qM_VVwnFP"
      },
      "source": [
        "#### Finding Unique Entries in each column - to ascertain the cleanup requirement in each column"
      ]
    },
    {
      "cell_type": "code",
      "execution_count": 26,
      "metadata": {
        "colab": {
          "base_uri": "https://localhost:8080/"
        },
        "id": "jV2R3ueDriiI",
        "outputId": "937dd9c5-3c54-4a5a-d607-b73f1939d024"
      },
      "outputs": [
        {
          "output_type": "stream",
          "name": "stdout",
          "text": [
            "App\n",
            "['Photo Editor & Candy Camera & Grid & ScrapBook' 'Coloring book moana'\n",
            " 'U Launcher Lite – FREE Live Cool Themes, Hide Apps' ...\n",
            " 'Parkinson Exercices FR' 'The SCP Foundation DB fr nn5n'\n",
            " 'iHoroscope - 2018 Daily Horoscope & Astrology']\n",
            "/n\n",
            "Category\n",
            "['ART_AND_DESIGN' 'AUTO_AND_VEHICLES' 'BEAUTY' 'BOOKS_AND_REFERENCE'\n",
            " 'BUSINESS' 'COMICS' 'COMMUNICATION' 'DATING' 'EDUCATION' 'ENTERTAINMENT'\n",
            " 'EVENTS' 'FINANCE' 'FOOD_AND_DRINK' 'HEALTH_AND_FITNESS' 'HOUSE_AND_HOME'\n",
            " 'LIBRARIES_AND_DEMO' 'LIFESTYLE' 'GAME' 'FAMILY' 'MEDICAL' 'SOCIAL'\n",
            " 'SHOPPING' 'PHOTOGRAPHY' 'SPORTS' 'TRAVEL_AND_LOCAL' 'TOOLS'\n",
            " 'PERSONALIZATION' 'PRODUCTIVITY' 'PARENTING' 'WEATHER' 'VIDEO_PLAYERS'\n",
            " 'NEWS_AND_MAGAZINES' 'MAPS_AND_NAVIGATION']\n",
            "/n\n",
            "Rating\n",
            "[4.1        3.9        4.7        4.5        4.3        4.4\n",
            " 3.8        4.2        4.6        4.         4.17505185 4.8\n",
            " 4.9        3.6        3.7        3.2        3.3        3.4\n",
            " 3.5        3.1        5.         2.6        3.         1.9\n",
            " 2.5        2.8        2.7        1.         2.9        2.3\n",
            " 2.2        1.7        2.         1.8        2.4        1.6\n",
            " 2.1        1.4        1.5        1.2       ]\n",
            "/n\n",
            "Reviews\n",
            "['159' '967' '87510' ... '603' '1195' '398307']\n",
            "/n\n",
            "Size\n",
            "['19M' '14M' '8.7M' '25M' '2.8M' '5.6M' '29M' '33M' '3.1M' '28M' '12M'\n",
            " '20M' '21M' '37M' '5.5M' '17M' '39M' '31M' '4.2M' '7.0M' '23M' '6.0M'\n",
            " '6.1M' '4.6M' '9.2M' '5.2M' '11M' '24M' 'Varies with device' '9.4M' '15M'\n",
            " '10M' '1.2M' '26M' '8.0M' '7.9M' '56M' '57M' '35M' '54M' '201k' '3.6M'\n",
            " '5.7M' '8.6M' '2.4M' '27M' '2.7M' '2.5M' '16M' '3.4M' '8.9M' '3.9M'\n",
            " '2.9M' '38M' '32M' '5.4M' '18M' '1.1M' '2.2M' '4.5M' '9.8M' '52M' '9.0M'\n",
            " '6.7M' '30M' '2.6M' '7.1M' '3.7M' '22M' '7.4M' '6.4M' '3.2M' '8.2M'\n",
            " '9.9M' '4.9M' '9.5M' '5.0M' '5.9M' '13M' '73M' '6.8M' '3.5M' '4.0M'\n",
            " '2.3M' '7.2M' '2.1M' '42M' '7.3M' '9.1M' '55M' '23k' '6.5M' '1.5M' '7.5M'\n",
            " '51M' '41M' '48M' '8.5M' '46M' '8.3M' '4.3M' '4.7M' '3.3M' '40M' '7.8M'\n",
            " '8.8M' '6.6M' '5.1M' '61M' '66M' '79k' '8.4M' '118k' '44M' '695k' '1.6M'\n",
            " '6.2M' '18k' '53M' '1.4M' '3.0M' '5.8M' '3.8M' '9.6M' '45M' '63M' '49M'\n",
            " '77M' '4.4M' '4.8M' '70M' '6.9M' '9.3M' '10.0M' '8.1M' '36M' '84M' '97M'\n",
            " '2.0M' '1.9M' '1.8M' '5.3M' '47M' '556k' '526k' '76M' '7.6M' '59M' '9.7M'\n",
            " '78M' '72M' '43M' '7.7M' '6.3M' '334k' '34M' '93M' '65M' '79M' '100M'\n",
            " '58M' '50M' '68M' '64M' '67M' '60M' '94M' '232k' '99M' '624k' '95M'\n",
            " '8.5k' '41k' '292k' '80M' '1.7M' '74M' '62M' '69M' '75M' '98M' '85M'\n",
            " '82M' '96M' '87M' '71M' '86M' '91M' '81M' '92M' '83M' '88M' '704k' '862k'\n",
            " '899k' '378k' '266k' '375k' '1.3M' '975k' '980k' '4.1M' '89M' '696k'\n",
            " '544k' '525k' '920k' '779k' '853k' '720k' '713k' '772k' '318k' '58k'\n",
            " '241k' '196k' '857k' '51k' '953k' '865k' '251k' '930k' '540k' '313k'\n",
            " '746k' '203k' '26k' '314k' '239k' '371k' '220k' '730k' '756k' '91k'\n",
            " '293k' '17k' '74k' '14k' '317k' '78k' '924k' '902k' '818k' '81k' '939k'\n",
            " '169k' '45k' '475k' '965k' '90M' '545k' '61k' '283k' '655k' '714k' '93k'\n",
            " '872k' '121k' '322k' '1.0M' '976k' '172k' '238k' '549k' '206k' '954k'\n",
            " '444k' '717k' '210k' '609k' '308k' '705k' '306k' '904k' '473k' '175k'\n",
            " '350k' '383k' '454k' '421k' '70k' '812k' '442k' '842k' '417k' '412k'\n",
            " '459k' '478k' '335k' '782k' '721k' '430k' '429k' '192k' '200k' '460k'\n",
            " '728k' '496k' '816k' '414k' '506k' '887k' '613k' '243k' '569k' '778k'\n",
            " '683k' '592k' '319k' '186k' '840k' '647k' '191k' '373k' '437k' '598k'\n",
            " '716k' '585k' '982k' '219k' '55k' '948k' '323k' '691k' '511k' '951k'\n",
            " '963k' '25k' '554k' '351k' '27k' '82k' '208k' '913k' '514k' '551k' '29k'\n",
            " '103k' '898k' '743k' '116k' '153k' '209k' '353k' '499k' '173k' '597k'\n",
            " '809k' '122k' '411k' '400k' '801k' '787k' '50k' '643k' '986k' '97k'\n",
            " '516k' '837k' '780k' '961k' '269k' '20k' '498k' '600k' '749k' '642k'\n",
            " '881k' '72k' '656k' '601k' '221k' '228k' '108k' '940k' '176k' '33k'\n",
            " '663k' '34k' '942k' '259k' '164k' '458k' '245k' '629k' '28k' '288k'\n",
            " '775k' '785k' '636k' '916k' '994k' '309k' '485k' '914k' '903k' '608k'\n",
            " '500k' '54k' '562k' '847k' '957k' '688k' '811k' '270k' '48k' '329k'\n",
            " '523k' '921k' '874k' '981k' '784k' '280k' '24k' '518k' '754k' '892k'\n",
            " '154k' '860k' '364k' '387k' '626k' '161k' '879k' '39k' '970k' '170k'\n",
            " '141k' '160k' '144k' '143k' '190k' '376k' '193k' '246k' '73k' '992k'\n",
            " '253k' '420k' '404k' '470k' '226k' '240k' '89k' '234k' '257k' '861k'\n",
            " '467k' '157k' '44k' '676k' '67k' '552k' '885k' '1020k' '582k' '619k']\n",
            "/n\n",
            "Installs\n",
            "['10,000+' '500,000+' '5,000,000+' '50,000,000+' '100,000+' '50,000+'\n",
            " '1,000,000+' '10,000,000+' '5,000+' '100,000,000+' '1,000,000,000+'\n",
            " '1,000+' '500,000,000+' '50+' '100+' '500+' '10+' '1+' '5+' '0+' '0']\n",
            "/n\n",
            "Type\n",
            "['Free' 'Paid']\n",
            "/n\n",
            "Price\n",
            "['0' '$4.99' '$3.99' '$6.99' '$1.49' '$2.99' '$7.99' '$5.99' '$3.49'\n",
            " '$1.99' '$9.99' '$7.49' '$0.99' '$9.00' '$5.49' '$10.00' '$24.99'\n",
            " '$11.99' '$79.99' '$16.99' '$14.99' '$1.00' '$29.99' '$12.99' '$2.49'\n",
            " '$10.99' '$1.50' '$19.99' '$15.99' '$33.99' '$74.99' '$39.99' '$3.95'\n",
            " '$4.49' '$1.70' '$8.99' '$2.00' '$3.88' '$25.99' '$399.99' '$17.99'\n",
            " '$400.00' '$3.02' '$1.76' '$4.84' '$4.77' '$1.61' '$2.50' '$1.59' '$6.49'\n",
            " '$1.29' '$5.00' '$13.99' '$299.99' '$379.99' '$37.99' '$18.99' '$389.99'\n",
            " '$19.90' '$8.49' '$1.75' '$14.00' '$4.85' '$46.99' '$109.99' '$154.99'\n",
            " '$3.08' '$2.59' '$4.80' '$1.96' '$19.40' '$3.90' '$4.59' '$15.46' '$3.04'\n",
            " '$4.29' '$2.60' '$3.28' '$4.60' '$28.99' '$2.95' '$2.90' '$1.97'\n",
            " '$200.00' '$89.99' '$2.56' '$30.99' '$3.61' '$394.99' '$1.26' '$1.20'\n",
            " '$1.04']\n",
            "/n\n",
            "Content Rating\n",
            "['Everyone' 'Teen' 'Everyone 10+' 'Mature 17+' 'Adults only 18+' 'Unrated']\n",
            "/n\n",
            "Genres\n",
            "['Art & Design' 'Art & Design;Pretend Play' 'Art & Design;Creativity'\n",
            " 'Art & Design;Action & Adventure' 'Auto & Vehicles' 'Beauty'\n",
            " 'Books & Reference' 'Business' 'Comics' 'Comics;Creativity'\n",
            " 'Communication' 'Dating' 'Education;Education' 'Education'\n",
            " 'Education;Creativity' 'Education;Music & Video'\n",
            " 'Education;Action & Adventure' 'Education;Pretend Play'\n",
            " 'Education;Brain Games' 'Entertainment' 'Entertainment;Music & Video'\n",
            " 'Entertainment;Brain Games' 'Entertainment;Creativity' 'Events' 'Finance'\n",
            " 'Food & Drink' 'Health & Fitness' 'House & Home' 'Libraries & Demo'\n",
            " 'Lifestyle' 'Lifestyle;Pretend Play' 'Adventure;Action & Adventure'\n",
            " 'Arcade' 'Casual' 'Card' 'Casual;Pretend Play' 'Action' 'Strategy'\n",
            " 'Puzzle' 'Sports' 'Music' 'Word' 'Racing' 'Casual;Creativity'\n",
            " 'Casual;Action & Adventure' 'Simulation' 'Adventure' 'Board' 'Trivia'\n",
            " 'Role Playing' 'Simulation;Education' 'Action;Action & Adventure'\n",
            " 'Casual;Brain Games' 'Simulation;Action & Adventure'\n",
            " 'Educational;Creativity' 'Puzzle;Brain Games' 'Educational;Education'\n",
            " 'Educational;Brain Games' 'Educational;Pretend Play'\n",
            " 'Entertainment;Education' 'Casual;Education' 'Music;Music & Video'\n",
            " 'Racing;Action & Adventure' 'Arcade;Pretend Play'\n",
            " 'Role Playing;Action & Adventure' 'Simulation;Pretend Play'\n",
            " 'Puzzle;Creativity' 'Sports;Action & Adventure'\n",
            " 'Educational;Action & Adventure' 'Arcade;Action & Adventure'\n",
            " 'Entertainment;Action & Adventure' 'Puzzle;Action & Adventure'\n",
            " 'Strategy;Action & Adventure' 'Music & Audio;Music & Video'\n",
            " 'Health & Fitness;Education' 'Adventure;Education' 'Board;Brain Games'\n",
            " 'Board;Action & Adventure' 'Board;Pretend Play' 'Casual;Music & Video'\n",
            " 'Role Playing;Pretend Play' 'Entertainment;Pretend Play'\n",
            " 'Video Players & Editors;Creativity' 'Card;Action & Adventure' 'Medical'\n",
            " 'Social' 'Shopping' 'Photography' 'Travel & Local'\n",
            " 'Travel & Local;Action & Adventure' 'Tools' 'Tools;Education'\n",
            " 'Personalization' 'Productivity' 'Parenting' 'Parenting;Music & Video'\n",
            " 'Parenting;Education' 'Parenting;Brain Games' 'Weather'\n",
            " 'Video Players & Editors' 'Video Players & Editors;Music & Video'\n",
            " 'News & Magazines' 'Maps & Navigation'\n",
            " 'Health & Fitness;Action & Adventure' 'Educational' 'Casino'\n",
            " 'Adventure;Brain Games' 'Trivia;Education' 'Lifestyle;Education'\n",
            " 'Books & Reference;Creativity' 'Books & Reference;Education'\n",
            " 'Puzzle;Education' 'Role Playing;Education' 'Role Playing;Brain Games'\n",
            " 'Strategy;Education' 'Racing;Pretend Play' 'Communication;Creativity'\n",
            " 'Strategy;Creativity']\n",
            "/n\n",
            "Last Updated\n",
            "['January 7, 2018' 'January 15, 2018' 'August 1, 2018' ...\n",
            " 'January 20, 2014' 'February 16, 2014' 'March 23, 2014']\n",
            "/n\n",
            "Current Ver\n",
            "['1.0.0' '2.0.0' '1.2.4' ... '1.0.612928' '0.3.4' '2.0.148.0']\n",
            "/n\n",
            "Android Ver\n",
            "['4.0.3 and up' '4.2 and up' '4.4 and up' '2.3 and up' '3.0 and up'\n",
            " '4.1 and up' '4.0 and up' '2.3.3 and up' 'Varies with device'\n",
            " '2.2 and up' '5.0 and up' '6.0 and up' '1.6 and up' '1.5 and up'\n",
            " '2.1 and up' '7.0 and up' '5.1 and up' '4.3 and up' '4.0.3 - 7.1.1'\n",
            " '2.0 and up' '3.2 and up' '4.4W and up' '7.1 and up' '7.0 - 7.1.1'\n",
            " '8.0 and up' '5.0 - 8.0' '3.1 and up' '2.0.1 and up' '4.1 - 7.1.1'\n",
            " '5.0 - 6.0' '1.0 and up' '2.2 - 7.1.1' '5.0 - 7.1.1']\n",
            "/n\n"
          ]
        }
      ],
      "source": [
        "for i in columns:\n",
        "  print(i)\n",
        "  print (play_store_data[i].unique())\n",
        "  print(\"/n\")"
      ]
    },
    {
      "cell_type": "markdown",
      "metadata": {
        "id": "5tm0gXc-wvbc"
      },
      "source": [
        "#### Defining the data type for each column"
      ]
    },
    {
      "cell_type": "code",
      "execution_count": 27,
      "metadata": {
        "id": "pyoyVpd1rDE5"
      },
      "outputs": [],
      "source": [
        "convert_dict = {'App':str, 'Category':str, 'Rating':float, 'Reviews':str, 'Size':str, 'Installs':str, 'Type':str,\n",
        "       'Price':str, 'Content Rating':str, 'Genres':str, 'Current Ver':str,\n",
        "       'Android Ver':str}"
      ]
    },
    {
      "cell_type": "markdown",
      "metadata": {
        "id": "XP300hyXw4-3"
      },
      "source": [
        "#### Changing Data Type"
      ]
    },
    {
      "cell_type": "code",
      "execution_count": 28,
      "metadata": {
        "colab": {
          "base_uri": "https://localhost:8080/"
        },
        "id": "LnfJn8PVuXj8",
        "outputId": "b376502e-73e7-4a22-d93d-9230a7466546"
      },
      "outputs": [
        {
          "output_type": "execute_result",
          "data": {
            "text/plain": [
              "App                object\n",
              "Category           object\n",
              "Rating            float64\n",
              "Reviews            object\n",
              "Size               object\n",
              "Installs           object\n",
              "Type               object\n",
              "Price              object\n",
              "Content Rating     object\n",
              "Genres             object\n",
              "Last Updated       object\n",
              "Current Ver        object\n",
              "Android Ver        object\n",
              "dtype: object"
            ]
          },
          "metadata": {},
          "execution_count": 28
        }
      ],
      "source": [
        "play_store_data = play_store_data.astype(convert_dict)\n",
        "play_store_data.dtypes"
      ]
    },
    {
      "cell_type": "markdown",
      "metadata": {
        "id": "kX88Ud-GxALE"
      },
      "source": [
        " #### ⏩ Removing Whitespace and Special Charecters from the Dataframe:"
      ]
    },
    {
      "cell_type": "code",
      "execution_count": 29,
      "metadata": {
        "id": "2Nr0PHMkpVKB"
      },
      "outputs": [],
      "source": [
        "def data_cleaning (df,columns):\n",
        "  for i in columns:\n",
        "    df[i].str.strip()\n",
        "    df[i] = df[i].str.replace('\\W', '', regex=True)\n",
        "\n"
      ]
    },
    {
      "cell_type": "markdown",
      "metadata": {
        "id": "hJJVRWb2xNTh"
      },
      "source": [
        " #### ⏩ Selecting Columns that need cleanup"
      ]
    },
    {
      "cell_type": "code",
      "execution_count": 30,
      "metadata": {
        "id": "jn32COnqvQxR"
      },
      "outputs": [],
      "source": [
        "string_columns = ['App', 'Category','Reviews', 'Size', 'Installs', 'Type', 'Content Rating', 'Genres', 'Current Ver',\n",
        "       'Android Ver']"
      ]
    },
    {
      "cell_type": "markdown",
      "metadata": {
        "id": "CpO--5B4xRg3"
      },
      "source": [
        " #### ⏩ Cleaning the Columns"
      ]
    },
    {
      "cell_type": "code",
      "execution_count": 31,
      "metadata": {
        "id": "7OHjbSZYqi4Q"
      },
      "outputs": [],
      "source": [
        "data_cleaning(play_store_data,string_columns)"
      ]
    },
    {
      "cell_type": "code",
      "execution_count": 32,
      "metadata": {
        "colab": {
          "base_uri": "https://localhost:8080/",
          "height": 730
        },
        "id": "Y7KeaO78veL1",
        "outputId": "1684afbf-3756-4456-9205-fe7522f6c308"
      },
      "outputs": [
        {
          "output_type": "execute_result",
          "data": {
            "text/plain": [
              "                                           App             Category    Rating  \\\n",
              "0          PhotoEditorCandyCameraGridScrapBook       ART_AND_DESIGN  4.100000   \n",
              "1                            Coloringbookmoana       ART_AND_DESIGN  3.900000   \n",
              "2      ULauncherLiteFREELiveCoolThemesHideApps       ART_AND_DESIGN  4.700000   \n",
              "3                              SketchDrawPaint       ART_AND_DESIGN  4.500000   \n",
              "4               PixelDrawNumberArtColoringBook       ART_AND_DESIGN  4.300000   \n",
              "...                                        ...                  ...       ...   \n",
              "10836                             Sya9aMarocFR               FAMILY  4.500000   \n",
              "10837              FrMikeSchmitzAudioTeachings               FAMILY  5.000000   \n",
              "10838                     ParkinsonExercicesFR              MEDICAL  4.175052   \n",
              "10839                 TheSCPFoundationDBfrnn5n  BOOKS_AND_REFERENCE  4.500000   \n",
              "10840    iHoroscope2018DailyHoroscopeAstrology            LIFESTYLE  4.500000   \n",
              "\n",
              "      Reviews              Size  Installs  Type Price Content Rating  \\\n",
              "0         159               19M     10000  Free     0       Everyone   \n",
              "1         967               14M    500000  Free     0       Everyone   \n",
              "2       87510               87M   5000000  Free     0       Everyone   \n",
              "3      215644               25M  50000000  Free     0           Teen   \n",
              "4         967               28M    100000  Free     0       Everyone   \n",
              "...       ...               ...       ...   ...   ...            ...   \n",
              "10836      38               53M      5000  Free     0       Everyone   \n",
              "10837       4               36M       100  Free     0       Everyone   \n",
              "10838       3               95M      1000  Free     0       Everyone   \n",
              "10839     114  Varieswithdevice      1000  Free     0       Mature17   \n",
              "10840  398307               19M  10000000  Free     0       Everyone   \n",
              "\n",
              "                     Genres      Last Updated       Current Ver  \\\n",
              "0                 ArtDesign   January 7, 2018               100   \n",
              "1      ArtDesignPretendPlay  January 15, 2018               200   \n",
              "2                 ArtDesign    August 1, 2018               124   \n",
              "3                 ArtDesign      June 8, 2018  Varieswithdevice   \n",
              "4       ArtDesignCreativity     June 20, 2018                11   \n",
              "...                     ...               ...               ...   \n",
              "10836             Education     July 25, 2017               148   \n",
              "10837             Education      July 6, 2018                10   \n",
              "10838               Medical  January 20, 2017                10   \n",
              "10839        BooksReference  January 19, 2015  Varieswithdevice   \n",
              "10840             Lifestyle     July 25, 2018  Varieswithdevice   \n",
              "\n",
              "            Android Ver  \n",
              "0              403andup  \n",
              "1              403andup  \n",
              "2              403andup  \n",
              "3               42andup  \n",
              "4               44andup  \n",
              "...                 ...  \n",
              "10836           41andup  \n",
              "10837           41andup  \n",
              "10838           22andup  \n",
              "10839  Varieswithdevice  \n",
              "10840  Varieswithdevice  \n",
              "\n",
              "[9649 rows x 13 columns]"
            ],
            "text/html": [
              "\n",
              "  <div id=\"df-871f151f-18dd-4094-8906-4dba18383e47\">\n",
              "    <div class=\"colab-df-container\">\n",
              "      <div>\n",
              "<style scoped>\n",
              "    .dataframe tbody tr th:only-of-type {\n",
              "        vertical-align: middle;\n",
              "    }\n",
              "\n",
              "    .dataframe tbody tr th {\n",
              "        vertical-align: top;\n",
              "    }\n",
              "\n",
              "    .dataframe thead th {\n",
              "        text-align: right;\n",
              "    }\n",
              "</style>\n",
              "<table border=\"1\" class=\"dataframe\">\n",
              "  <thead>\n",
              "    <tr style=\"text-align: right;\">\n",
              "      <th></th>\n",
              "      <th>App</th>\n",
              "      <th>Category</th>\n",
              "      <th>Rating</th>\n",
              "      <th>Reviews</th>\n",
              "      <th>Size</th>\n",
              "      <th>Installs</th>\n",
              "      <th>Type</th>\n",
              "      <th>Price</th>\n",
              "      <th>Content Rating</th>\n",
              "      <th>Genres</th>\n",
              "      <th>Last Updated</th>\n",
              "      <th>Current Ver</th>\n",
              "      <th>Android Ver</th>\n",
              "    </tr>\n",
              "  </thead>\n",
              "  <tbody>\n",
              "    <tr>\n",
              "      <th>0</th>\n",
              "      <td>PhotoEditorCandyCameraGridScrapBook</td>\n",
              "      <td>ART_AND_DESIGN</td>\n",
              "      <td>4.100000</td>\n",
              "      <td>159</td>\n",
              "      <td>19M</td>\n",
              "      <td>10000</td>\n",
              "      <td>Free</td>\n",
              "      <td>0</td>\n",
              "      <td>Everyone</td>\n",
              "      <td>ArtDesign</td>\n",
              "      <td>January 7, 2018</td>\n",
              "      <td>100</td>\n",
              "      <td>403andup</td>\n",
              "    </tr>\n",
              "    <tr>\n",
              "      <th>1</th>\n",
              "      <td>Coloringbookmoana</td>\n",
              "      <td>ART_AND_DESIGN</td>\n",
              "      <td>3.900000</td>\n",
              "      <td>967</td>\n",
              "      <td>14M</td>\n",
              "      <td>500000</td>\n",
              "      <td>Free</td>\n",
              "      <td>0</td>\n",
              "      <td>Everyone</td>\n",
              "      <td>ArtDesignPretendPlay</td>\n",
              "      <td>January 15, 2018</td>\n",
              "      <td>200</td>\n",
              "      <td>403andup</td>\n",
              "    </tr>\n",
              "    <tr>\n",
              "      <th>2</th>\n",
              "      <td>ULauncherLiteFREELiveCoolThemesHideApps</td>\n",
              "      <td>ART_AND_DESIGN</td>\n",
              "      <td>4.700000</td>\n",
              "      <td>87510</td>\n",
              "      <td>87M</td>\n",
              "      <td>5000000</td>\n",
              "      <td>Free</td>\n",
              "      <td>0</td>\n",
              "      <td>Everyone</td>\n",
              "      <td>ArtDesign</td>\n",
              "      <td>August 1, 2018</td>\n",
              "      <td>124</td>\n",
              "      <td>403andup</td>\n",
              "    </tr>\n",
              "    <tr>\n",
              "      <th>3</th>\n",
              "      <td>SketchDrawPaint</td>\n",
              "      <td>ART_AND_DESIGN</td>\n",
              "      <td>4.500000</td>\n",
              "      <td>215644</td>\n",
              "      <td>25M</td>\n",
              "      <td>50000000</td>\n",
              "      <td>Free</td>\n",
              "      <td>0</td>\n",
              "      <td>Teen</td>\n",
              "      <td>ArtDesign</td>\n",
              "      <td>June 8, 2018</td>\n",
              "      <td>Varieswithdevice</td>\n",
              "      <td>42andup</td>\n",
              "    </tr>\n",
              "    <tr>\n",
              "      <th>4</th>\n",
              "      <td>PixelDrawNumberArtColoringBook</td>\n",
              "      <td>ART_AND_DESIGN</td>\n",
              "      <td>4.300000</td>\n",
              "      <td>967</td>\n",
              "      <td>28M</td>\n",
              "      <td>100000</td>\n",
              "      <td>Free</td>\n",
              "      <td>0</td>\n",
              "      <td>Everyone</td>\n",
              "      <td>ArtDesignCreativity</td>\n",
              "      <td>June 20, 2018</td>\n",
              "      <td>11</td>\n",
              "      <td>44andup</td>\n",
              "    </tr>\n",
              "    <tr>\n",
              "      <th>...</th>\n",
              "      <td>...</td>\n",
              "      <td>...</td>\n",
              "      <td>...</td>\n",
              "      <td>...</td>\n",
              "      <td>...</td>\n",
              "      <td>...</td>\n",
              "      <td>...</td>\n",
              "      <td>...</td>\n",
              "      <td>...</td>\n",
              "      <td>...</td>\n",
              "      <td>...</td>\n",
              "      <td>...</td>\n",
              "      <td>...</td>\n",
              "    </tr>\n",
              "    <tr>\n",
              "      <th>10836</th>\n",
              "      <td>Sya9aMarocFR</td>\n",
              "      <td>FAMILY</td>\n",
              "      <td>4.500000</td>\n",
              "      <td>38</td>\n",
              "      <td>53M</td>\n",
              "      <td>5000</td>\n",
              "      <td>Free</td>\n",
              "      <td>0</td>\n",
              "      <td>Everyone</td>\n",
              "      <td>Education</td>\n",
              "      <td>July 25, 2017</td>\n",
              "      <td>148</td>\n",
              "      <td>41andup</td>\n",
              "    </tr>\n",
              "    <tr>\n",
              "      <th>10837</th>\n",
              "      <td>FrMikeSchmitzAudioTeachings</td>\n",
              "      <td>FAMILY</td>\n",
              "      <td>5.000000</td>\n",
              "      <td>4</td>\n",
              "      <td>36M</td>\n",
              "      <td>100</td>\n",
              "      <td>Free</td>\n",
              "      <td>0</td>\n",
              "      <td>Everyone</td>\n",
              "      <td>Education</td>\n",
              "      <td>July 6, 2018</td>\n",
              "      <td>10</td>\n",
              "      <td>41andup</td>\n",
              "    </tr>\n",
              "    <tr>\n",
              "      <th>10838</th>\n",
              "      <td>ParkinsonExercicesFR</td>\n",
              "      <td>MEDICAL</td>\n",
              "      <td>4.175052</td>\n",
              "      <td>3</td>\n",
              "      <td>95M</td>\n",
              "      <td>1000</td>\n",
              "      <td>Free</td>\n",
              "      <td>0</td>\n",
              "      <td>Everyone</td>\n",
              "      <td>Medical</td>\n",
              "      <td>January 20, 2017</td>\n",
              "      <td>10</td>\n",
              "      <td>22andup</td>\n",
              "    </tr>\n",
              "    <tr>\n",
              "      <th>10839</th>\n",
              "      <td>TheSCPFoundationDBfrnn5n</td>\n",
              "      <td>BOOKS_AND_REFERENCE</td>\n",
              "      <td>4.500000</td>\n",
              "      <td>114</td>\n",
              "      <td>Varieswithdevice</td>\n",
              "      <td>1000</td>\n",
              "      <td>Free</td>\n",
              "      <td>0</td>\n",
              "      <td>Mature17</td>\n",
              "      <td>BooksReference</td>\n",
              "      <td>January 19, 2015</td>\n",
              "      <td>Varieswithdevice</td>\n",
              "      <td>Varieswithdevice</td>\n",
              "    </tr>\n",
              "    <tr>\n",
              "      <th>10840</th>\n",
              "      <td>iHoroscope2018DailyHoroscopeAstrology</td>\n",
              "      <td>LIFESTYLE</td>\n",
              "      <td>4.500000</td>\n",
              "      <td>398307</td>\n",
              "      <td>19M</td>\n",
              "      <td>10000000</td>\n",
              "      <td>Free</td>\n",
              "      <td>0</td>\n",
              "      <td>Everyone</td>\n",
              "      <td>Lifestyle</td>\n",
              "      <td>July 25, 2018</td>\n",
              "      <td>Varieswithdevice</td>\n",
              "      <td>Varieswithdevice</td>\n",
              "    </tr>\n",
              "  </tbody>\n",
              "</table>\n",
              "<p>9649 rows × 13 columns</p>\n",
              "</div>\n",
              "      <button class=\"colab-df-convert\" onclick=\"convertToInteractive('df-871f151f-18dd-4094-8906-4dba18383e47')\"\n",
              "              title=\"Convert this dataframe to an interactive table.\"\n",
              "              style=\"display:none;\">\n",
              "        \n",
              "  <svg xmlns=\"http://www.w3.org/2000/svg\" height=\"24px\"viewBox=\"0 0 24 24\"\n",
              "       width=\"24px\">\n",
              "    <path d=\"M0 0h24v24H0V0z\" fill=\"none\"/>\n",
              "    <path d=\"M18.56 5.44l.94 2.06.94-2.06 2.06-.94-2.06-.94-.94-2.06-.94 2.06-2.06.94zm-11 1L8.5 8.5l.94-2.06 2.06-.94-2.06-.94L8.5 2.5l-.94 2.06-2.06.94zm10 10l.94 2.06.94-2.06 2.06-.94-2.06-.94-.94-2.06-.94 2.06-2.06.94z\"/><path d=\"M17.41 7.96l-1.37-1.37c-.4-.4-.92-.59-1.43-.59-.52 0-1.04.2-1.43.59L10.3 9.45l-7.72 7.72c-.78.78-.78 2.05 0 2.83L4 21.41c.39.39.9.59 1.41.59.51 0 1.02-.2 1.41-.59l7.78-7.78 2.81-2.81c.8-.78.8-2.07 0-2.86zM5.41 20L4 18.59l7.72-7.72 1.47 1.35L5.41 20z\"/>\n",
              "  </svg>\n",
              "      </button>\n",
              "      \n",
              "  <style>\n",
              "    .colab-df-container {\n",
              "      display:flex;\n",
              "      flex-wrap:wrap;\n",
              "      gap: 12px;\n",
              "    }\n",
              "\n",
              "    .colab-df-convert {\n",
              "      background-color: #E8F0FE;\n",
              "      border: none;\n",
              "      border-radius: 50%;\n",
              "      cursor: pointer;\n",
              "      display: none;\n",
              "      fill: #1967D2;\n",
              "      height: 32px;\n",
              "      padding: 0 0 0 0;\n",
              "      width: 32px;\n",
              "    }\n",
              "\n",
              "    .colab-df-convert:hover {\n",
              "      background-color: #E2EBFA;\n",
              "      box-shadow: 0px 1px 2px rgba(60, 64, 67, 0.3), 0px 1px 3px 1px rgba(60, 64, 67, 0.15);\n",
              "      fill: #174EA6;\n",
              "    }\n",
              "\n",
              "    [theme=dark] .colab-df-convert {\n",
              "      background-color: #3B4455;\n",
              "      fill: #D2E3FC;\n",
              "    }\n",
              "\n",
              "    [theme=dark] .colab-df-convert:hover {\n",
              "      background-color: #434B5C;\n",
              "      box-shadow: 0px 1px 3px 1px rgba(0, 0, 0, 0.15);\n",
              "      filter: drop-shadow(0px 1px 2px rgba(0, 0, 0, 0.3));\n",
              "      fill: #FFFFFF;\n",
              "    }\n",
              "  </style>\n",
              "\n",
              "      <script>\n",
              "        const buttonEl =\n",
              "          document.querySelector('#df-871f151f-18dd-4094-8906-4dba18383e47 button.colab-df-convert');\n",
              "        buttonEl.style.display =\n",
              "          google.colab.kernel.accessAllowed ? 'block' : 'none';\n",
              "\n",
              "        async function convertToInteractive(key) {\n",
              "          const element = document.querySelector('#df-871f151f-18dd-4094-8906-4dba18383e47');\n",
              "          const dataTable =\n",
              "            await google.colab.kernel.invokeFunction('convertToInteractive',\n",
              "                                                     [key], {});\n",
              "          if (!dataTable) return;\n",
              "\n",
              "          const docLinkHtml = 'Like what you see? Visit the ' +\n",
              "            '<a target=\"_blank\" href=https://colab.research.google.com/notebooks/data_table.ipynb>data table notebook</a>'\n",
              "            + ' to learn more about interactive tables.';\n",
              "          element.innerHTML = '';\n",
              "          dataTable['output_type'] = 'display_data';\n",
              "          await google.colab.output.renderOutput(dataTable, element);\n",
              "          const docLink = document.createElement('div');\n",
              "          docLink.innerHTML = docLinkHtml;\n",
              "          element.appendChild(docLink);\n",
              "        }\n",
              "      </script>\n",
              "    </div>\n",
              "  </div>\n",
              "  "
            ]
          },
          "metadata": {},
          "execution_count": 32
        }
      ],
      "source": [
        "play_store_data"
      ]
    },
    {
      "cell_type": "markdown",
      "metadata": {
        "id": "bQkdrnJgx9GR"
      },
      "source": [
        " #### ⏩ Removing Alphabets from the columns that should be int or float"
      ]
    },
    {
      "cell_type": "code",
      "execution_count": 33,
      "metadata": {
        "id": "7K2etFBKy1wP"
      },
      "outputs": [],
      "source": [
        "def convert_value(value):\n",
        "    if 'M' in value:\n",
        "        return float(value.replace('M', ''))\n",
        "    elif 'k' in value:\n",
        "         return float(value.replace('k', '')) / 1024\n",
        "    elif '$' in value:\n",
        "        return float(value[1:]) * 1\n",
        "    else:\n",
        "        return 0"
      ]
    },
    {
      "cell_type": "code",
      "execution_count": 34,
      "metadata": {
        "colab": {
          "base_uri": "https://localhost:8080/"
        },
        "id": "dg0CRJCix7kJ",
        "outputId": "c8f58f85-b4b9-4d31-a681-db8219711415"
      },
      "outputs": [
        {
          "output_type": "execute_result",
          "data": {
            "text/plain": [
              "0    19.0\n",
              "1    14.0\n",
              "2    87.0\n",
              "3    25.0\n",
              "4    28.0\n",
              "Name: Size, dtype: float64"
            ]
          },
          "metadata": {},
          "execution_count": 34
        }
      ],
      "source": [
        "play_store_data['Size'] = play_store_data['Size'].apply(convert_value)\n",
        "play_store_data['Size'].head()"
      ]
    },
    {
      "cell_type": "code",
      "execution_count": 35,
      "metadata": {
        "colab": {
          "base_uri": "https://localhost:8080/"
        },
        "id": "1quvCMKc0m7z",
        "outputId": "935d29dc-60fc-4bb5-c2d8-0976223e03ee"
      },
      "outputs": [
        {
          "output_type": "execute_result",
          "data": {
            "text/plain": [
              "0    0.0\n",
              "1    0.0\n",
              "2    0.0\n",
              "3    0.0\n",
              "4    0.0\n",
              "Name: Price, dtype: float64"
            ]
          },
          "metadata": {},
          "execution_count": 35
        }
      ],
      "source": [
        "play_store_data['Price'] = play_store_data['Price'].apply(convert_value)\n",
        "play_store_data['Price'].head()"
      ]
    },
    {
      "cell_type": "code",
      "execution_count": 36,
      "metadata": {
        "colab": {
          "base_uri": "https://localhost:8080/"
        },
        "id": "V-mb-eMfz6C2",
        "outputId": "707dec23-fffe-4bfb-ca19-a23bb13b7c6c"
      },
      "outputs": [
        {
          "output_type": "stream",
          "name": "stdout",
          "text": [
            "App\n",
            "['PhotoEditorCandyCameraGridScrapBook' 'Coloringbookmoana'\n",
            " 'ULauncherLiteFREELiveCoolThemesHideApps' ... 'ParkinsonExercicesFR'\n",
            " 'TheSCPFoundationDBfrnn5n' 'iHoroscope2018DailyHoroscopeAstrology']\n",
            "/n\n",
            "Category\n",
            "['ART_AND_DESIGN' 'AUTO_AND_VEHICLES' 'BEAUTY' 'BOOKS_AND_REFERENCE'\n",
            " 'BUSINESS' 'COMICS' 'COMMUNICATION' 'DATING' 'EDUCATION' 'ENTERTAINMENT'\n",
            " 'EVENTS' 'FINANCE' 'FOOD_AND_DRINK' 'HEALTH_AND_FITNESS' 'HOUSE_AND_HOME'\n",
            " 'LIBRARIES_AND_DEMO' 'LIFESTYLE' 'GAME' 'FAMILY' 'MEDICAL' 'SOCIAL'\n",
            " 'SHOPPING' 'PHOTOGRAPHY' 'SPORTS' 'TRAVEL_AND_LOCAL' 'TOOLS'\n",
            " 'PERSONALIZATION' 'PRODUCTIVITY' 'PARENTING' 'WEATHER' 'VIDEO_PLAYERS'\n",
            " 'NEWS_AND_MAGAZINES' 'MAPS_AND_NAVIGATION']\n",
            "/n\n",
            "Rating\n",
            "[4.1        3.9        4.7        4.5        4.3        4.4\n",
            " 3.8        4.2        4.6        4.         4.17505185 4.8\n",
            " 4.9        3.6        3.7        3.2        3.3        3.4\n",
            " 3.5        3.1        5.         2.6        3.         1.9\n",
            " 2.5        2.8        2.7        1.         2.9        2.3\n",
            " 2.2        1.7        2.         1.8        2.4        1.6\n",
            " 2.1        1.4        1.5        1.2       ]\n",
            "/n\n",
            "Reviews\n",
            "['159' '967' '87510' ... '603' '1195' '398307']\n",
            "/n\n",
            "Size\n",
            "[1.90000000e+01 1.40000000e+01 8.70000000e+01 2.50000000e+01\n",
            " 2.80000000e+01 5.60000000e+01 2.90000000e+01 3.30000000e+01\n",
            " 3.10000000e+01 1.20000000e+01 2.00000000e+01 2.10000000e+01\n",
            " 3.70000000e+01 5.50000000e+01 1.70000000e+01 3.90000000e+01\n",
            " 4.20000000e+01 7.00000000e+01 2.30000000e+01 6.00000000e+01\n",
            " 6.10000000e+01 4.60000000e+01 9.20000000e+01 5.20000000e+01\n",
            " 1.10000000e+01 2.40000000e+01 0.00000000e+00 9.40000000e+01\n",
            " 1.50000000e+01 1.00000000e+01 2.60000000e+01 8.00000000e+01\n",
            " 7.90000000e+01 5.70000000e+01 3.50000000e+01 5.40000000e+01\n",
            " 1.96289062e-01 3.60000000e+01 8.60000000e+01 2.70000000e+01\n",
            " 1.60000000e+01 3.40000000e+01 8.90000000e+01 3.80000000e+01\n",
            " 3.20000000e+01 1.80000000e+01 2.20000000e+01 4.50000000e+01\n",
            " 9.80000000e+01 9.00000000e+01 6.70000000e+01 3.00000000e+01\n",
            " 7.10000000e+01 7.40000000e+01 6.40000000e+01 8.20000000e+01\n",
            " 9.90000000e+01 4.90000000e+01 9.50000000e+01 5.00000000e+01\n",
            " 5.90000000e+01 1.30000000e+01 7.30000000e+01 6.80000000e+01\n",
            " 4.00000000e+01 7.20000000e+01 9.10000000e+01 2.24609375e-02\n",
            " 6.50000000e+01 7.50000000e+01 5.10000000e+01 4.10000000e+01\n",
            " 4.80000000e+01 8.50000000e+01 8.30000000e+01 4.30000000e+01\n",
            " 4.70000000e+01 7.80000000e+01 8.80000000e+01 6.60000000e+01\n",
            " 7.71484375e-02 8.40000000e+01 1.15234375e-01 4.40000000e+01\n",
            " 6.78710938e-01 6.20000000e+01 1.75781250e-02 5.30000000e+01\n",
            " 5.80000000e+01 9.60000000e+01 6.30000000e+01 7.70000000e+01\n",
            " 6.90000000e+01 9.30000000e+01 1.00000000e+02 8.10000000e+01\n",
            " 9.70000000e+01 5.42968750e-01 5.13671875e-01 7.60000000e+01\n",
            " 3.26171875e-01 2.26562500e-01 6.09375000e-01 8.30078125e-02\n",
            " 4.00390625e-02 2.85156250e-01 6.87500000e-01 8.41796875e-01\n",
            " 8.77929688e-01 3.69140625e-01 2.59765625e-01 3.66210938e-01\n",
            " 9.52148438e-01 9.57031250e-01 6.79687500e-01 5.31250000e-01\n",
            " 5.12695312e-01 8.98437500e-01 7.60742188e-01 8.33007812e-01\n",
            " 7.03125000e-01 6.96289062e-01 7.53906250e-01 3.10546875e-01\n",
            " 5.66406250e-02 2.35351562e-01 1.91406250e-01 8.36914062e-01\n",
            " 4.98046875e-02 9.30664062e-01 8.44726562e-01 2.45117188e-01\n",
            " 9.08203125e-01 5.27343750e-01 3.05664062e-01 7.28515625e-01\n",
            " 1.98242188e-01 2.53906250e-02 3.06640625e-01 2.33398438e-01\n",
            " 3.62304688e-01 2.14843750e-01 7.12890625e-01 7.38281250e-01\n",
            " 8.88671875e-02 2.86132812e-01 1.66015625e-02 7.22656250e-02\n",
            " 1.36718750e-02 3.09570312e-01 7.61718750e-02 9.02343750e-01\n",
            " 8.80859375e-01 7.98828125e-01 7.91015625e-02 9.16992188e-01\n",
            " 1.65039062e-01 4.39453125e-02 4.63867188e-01 9.42382812e-01\n",
            " 5.32226562e-01 5.95703125e-02 2.76367188e-01 6.39648438e-01\n",
            " 6.97265625e-01 9.08203125e-02 8.51562500e-01 1.18164062e-01\n",
            " 3.14453125e-01 9.53125000e-01 1.67968750e-01 2.32421875e-01\n",
            " 5.36132812e-01 2.01171875e-01 9.31640625e-01 4.33593750e-01\n",
            " 7.00195312e-01 2.05078125e-01 5.94726562e-01 3.00781250e-01\n",
            " 6.88476562e-01 2.98828125e-01 8.82812500e-01 4.61914062e-01\n",
            " 1.70898438e-01 3.41796875e-01 3.74023438e-01 4.43359375e-01\n",
            " 4.11132812e-01 6.83593750e-02 7.92968750e-01 4.31640625e-01\n",
            " 8.22265625e-01 4.07226562e-01 4.02343750e-01 4.48242188e-01\n",
            " 4.66796875e-01 3.27148438e-01 7.63671875e-01 7.04101562e-01\n",
            " 4.19921875e-01 4.18945312e-01 1.87500000e-01 1.95312500e-01\n",
            " 4.49218750e-01 7.10937500e-01 4.84375000e-01 7.96875000e-01\n",
            " 4.04296875e-01 4.94140625e-01 8.66210938e-01 5.98632812e-01\n",
            " 2.37304688e-01 5.55664062e-01 7.59765625e-01 6.66992188e-01\n",
            " 5.78125000e-01 3.11523438e-01 1.81640625e-01 8.20312500e-01\n",
            " 6.31835938e-01 1.86523438e-01 3.64257812e-01 4.26757812e-01\n",
            " 5.83984375e-01 6.99218750e-01 5.71289062e-01 9.58984375e-01\n",
            " 2.13867188e-01 5.37109375e-02 9.25781250e-01 3.15429688e-01\n",
            " 6.74804688e-01 4.99023438e-01 9.28710938e-01 9.40429688e-01\n",
            " 2.44140625e-02 5.41015625e-01 3.42773438e-01 2.63671875e-02\n",
            " 8.00781250e-02 2.03125000e-01 8.91601562e-01 5.01953125e-01\n",
            " 5.38085938e-01 2.83203125e-02 1.00585938e-01 8.76953125e-01\n",
            " 7.25585938e-01 1.13281250e-01 1.49414062e-01 2.04101562e-01\n",
            " 3.44726562e-01 4.87304688e-01 1.68945312e-01 5.83007812e-01\n",
            " 7.90039062e-01 1.19140625e-01 4.01367188e-01 3.90625000e-01\n",
            " 7.82226562e-01 7.68554688e-01 4.88281250e-02 6.27929688e-01\n",
            " 9.62890625e-01 9.47265625e-02 5.03906250e-01 8.17382812e-01\n",
            " 7.61718750e-01 9.38476562e-01 2.62695312e-01 1.95312500e-02\n",
            " 4.86328125e-01 5.85937500e-01 7.31445312e-01 6.26953125e-01\n",
            " 8.60351562e-01 7.03125000e-02 6.40625000e-01 5.86914062e-01\n",
            " 2.15820312e-01 2.22656250e-01 1.05468750e-01 9.17968750e-01\n",
            " 1.71875000e-01 3.22265625e-02 6.47460938e-01 3.32031250e-02\n",
            " 9.19921875e-01 2.52929688e-01 1.60156250e-01 4.47265625e-01\n",
            " 2.39257812e-01 6.14257812e-01 2.73437500e-02 2.81250000e-01\n",
            " 7.56835938e-01 7.66601562e-01 6.21093750e-01 8.94531250e-01\n",
            " 9.70703125e-01 3.01757812e-01 4.73632812e-01 8.92578125e-01\n",
            " 8.81835938e-01 5.93750000e-01 4.88281250e-01 5.27343750e-02\n",
            " 5.48828125e-01 8.27148438e-01 9.34570312e-01 6.71875000e-01\n",
            " 7.91992188e-01 2.63671875e-01 4.68750000e-02 3.21289062e-01\n",
            " 5.10742188e-01 8.99414062e-01 8.53515625e-01 9.58007812e-01\n",
            " 7.65625000e-01 2.73437500e-01 2.34375000e-02 5.05859375e-01\n",
            " 7.36328125e-01 8.71093750e-01 1.50390625e-01 8.39843750e-01\n",
            " 3.55468750e-01 3.77929688e-01 6.11328125e-01 1.57226562e-01\n",
            " 8.58398438e-01 3.80859375e-02 9.47265625e-01 1.66015625e-01\n",
            " 1.37695312e-01 1.56250000e-01 1.40625000e-01 1.39648438e-01\n",
            " 1.85546875e-01 3.67187500e-01 1.88476562e-01 2.40234375e-01\n",
            " 7.12890625e-02 9.68750000e-01 2.47070312e-01 4.10156250e-01\n",
            " 3.94531250e-01 4.58984375e-01 2.20703125e-01 2.34375000e-01\n",
            " 8.69140625e-02 2.28515625e-01 2.50976562e-01 8.40820312e-01\n",
            " 4.56054688e-01 1.53320312e-01 4.29687500e-02 6.60156250e-01\n",
            " 6.54296875e-02 5.39062500e-01 8.64257812e-01 9.96093750e-01\n",
            " 5.68359375e-01 6.04492188e-01]\n",
            "/n\n",
            "Installs\n",
            "['10000' '500000' '5000000' '50000000' '100000' '50000' '1000000'\n",
            " '10000000' '5000' '100000000' '1000000000' '1000' '500000000' '50' '100'\n",
            " '500' '10' '1' '5' '0']\n",
            "/n\n",
            "Type\n",
            "['Free' 'Paid']\n",
            "/n\n",
            "Price\n",
            "[  0.     4.99   3.99   6.99   1.49   2.99   7.99   5.99   3.49   1.99\n",
            "   9.99   7.49   0.99   9.     5.49  10.    24.99  11.99  79.99  16.99\n",
            "  14.99   1.    29.99  12.99   2.49  10.99   1.5   19.99  15.99  33.99\n",
            "  74.99  39.99   3.95   4.49   1.7    8.99   2.     3.88  25.99 399.99\n",
            "  17.99 400.     3.02   1.76   4.84   4.77   1.61   2.5    1.59   6.49\n",
            "   1.29   5.    13.99 299.99 379.99  37.99  18.99 389.99  19.9    8.49\n",
            "   1.75  14.     4.85  46.99 109.99 154.99   3.08   2.59   4.8    1.96\n",
            "  19.4    3.9    4.59  15.46   3.04   4.29   2.6    3.28   4.6   28.99\n",
            "   2.95   2.9    1.97 200.    89.99   2.56  30.99   3.61 394.99   1.26\n",
            "   1.2    1.04]\n",
            "/n\n",
            "Content Rating\n",
            "['Everyone' 'Teen' 'Everyone10' 'Mature17' 'Adultsonly18' 'Unrated']\n",
            "/n\n",
            "Genres\n",
            "['ArtDesign' 'ArtDesignPretendPlay' 'ArtDesignCreativity'\n",
            " 'ArtDesignActionAdventure' 'AutoVehicles' 'Beauty' 'BooksReference'\n",
            " 'Business' 'Comics' 'ComicsCreativity' 'Communication' 'Dating'\n",
            " 'EducationEducation' 'Education' 'EducationCreativity'\n",
            " 'EducationMusicVideo' 'EducationActionAdventure' 'EducationPretendPlay'\n",
            " 'EducationBrainGames' 'Entertainment' 'EntertainmentMusicVideo'\n",
            " 'EntertainmentBrainGames' 'EntertainmentCreativity' 'Events' 'Finance'\n",
            " 'FoodDrink' 'HealthFitness' 'HouseHome' 'LibrariesDemo' 'Lifestyle'\n",
            " 'LifestylePretendPlay' 'AdventureActionAdventure' 'Arcade' 'Casual'\n",
            " 'Card' 'CasualPretendPlay' 'Action' 'Strategy' 'Puzzle' 'Sports' 'Music'\n",
            " 'Word' 'Racing' 'CasualCreativity' 'CasualActionAdventure' 'Simulation'\n",
            " 'Adventure' 'Board' 'Trivia' 'RolePlaying' 'SimulationEducation'\n",
            " 'ActionActionAdventure' 'CasualBrainGames' 'SimulationActionAdventure'\n",
            " 'EducationalCreativity' 'PuzzleBrainGames' 'EducationalEducation'\n",
            " 'EducationalBrainGames' 'EducationalPretendPlay' 'EntertainmentEducation'\n",
            " 'CasualEducation' 'MusicMusicVideo' 'RacingActionAdventure'\n",
            " 'ArcadePretendPlay' 'RolePlayingActionAdventure' 'SimulationPretendPlay'\n",
            " 'PuzzleCreativity' 'SportsActionAdventure' 'EducationalActionAdventure'\n",
            " 'ArcadeActionAdventure' 'EntertainmentActionAdventure'\n",
            " 'PuzzleActionAdventure' 'StrategyActionAdventure' 'MusicAudioMusicVideo'\n",
            " 'HealthFitnessEducation' 'AdventureEducation' 'BoardBrainGames'\n",
            " 'BoardActionAdventure' 'BoardPretendPlay' 'CasualMusicVideo'\n",
            " 'RolePlayingPretendPlay' 'EntertainmentPretendPlay'\n",
            " 'VideoPlayersEditorsCreativity' 'CardActionAdventure' 'Medical' 'Social'\n",
            " 'Shopping' 'Photography' 'TravelLocal' 'TravelLocalActionAdventure'\n",
            " 'Tools' 'ToolsEducation' 'Personalization' 'Productivity' 'Parenting'\n",
            " 'ParentingMusicVideo' 'ParentingEducation' 'ParentingBrainGames'\n",
            " 'Weather' 'VideoPlayersEditors' 'VideoPlayersEditorsMusicVideo'\n",
            " 'NewsMagazines' 'MapsNavigation' 'HealthFitnessActionAdventure'\n",
            " 'Educational' 'Casino' 'AdventureBrainGames' 'TriviaEducation'\n",
            " 'LifestyleEducation' 'BooksReferenceCreativity' 'BooksReferenceEducation'\n",
            " 'PuzzleEducation' 'RolePlayingEducation' 'RolePlayingBrainGames'\n",
            " 'StrategyEducation' 'RacingPretendPlay' 'CommunicationCreativity'\n",
            " 'StrategyCreativity']\n",
            "/n\n",
            "Last Updated\n",
            "['January 7, 2018' 'January 15, 2018' 'August 1, 2018' ...\n",
            " 'January 20, 2014' 'February 16, 2014' 'March 23, 2014']\n",
            "/n\n",
            "Current Ver\n",
            "['100' '200' '124' ... '10612928' '034' '201480']\n",
            "/n\n",
            "Android Ver\n",
            "['403andup' '42andup' '44andup' '23andup' '30andup' '41andup' '40andup'\n",
            " '233andup' 'Varieswithdevice' '22andup' '50andup' '60andup' '16andup'\n",
            " '15andup' '21andup' '70andup' '51andup' '43andup' '403711' '20andup'\n",
            " '32andup' '44Wandup' '71andup' '70711' '80andup' '5080' '31andup'\n",
            " '201andup' '41711' '5060' '10andup' '22711' '50711']\n",
            "/n\n"
          ]
        }
      ],
      "source": [
        "for i in columns:\n",
        "  print(i)\n",
        "  print (play_store_data[i].unique())\n",
        "  print(\"/n\")"
      ]
    },
    {
      "cell_type": "code",
      "execution_count": 37,
      "metadata": {
        "id": "ysM101g84Uue"
      },
      "outputs": [],
      "source": [
        "convert_dict = {'App':str, 'Category':str, 'Rating':float, 'Reviews':float, 'Size':float, 'Installs':float, 'Type':str,\n",
        "       'Price':str, 'Content Rating':str, 'Genres':str, 'Last Updated':str, 'Current Ver':str,\n",
        "       'Android Ver':str, 'Price':float}"
      ]
    },
    {
      "cell_type": "code",
      "execution_count": 38,
      "metadata": {
        "colab": {
          "base_uri": "https://localhost:8080/"
        },
        "id": "tvVrb_rf4yw0",
        "outputId": "8d4a3c07-465a-4dd6-8266-9411ddef3806"
      },
      "outputs": [
        {
          "output_type": "execute_result",
          "data": {
            "text/plain": [
              "App                object\n",
              "Category           object\n",
              "Rating            float64\n",
              "Reviews           float64\n",
              "Size              float64\n",
              "Installs          float64\n",
              "Type               object\n",
              "Price             float64\n",
              "Content Rating     object\n",
              "Genres             object\n",
              "Last Updated       object\n",
              "Current Ver        object\n",
              "Android Ver        object\n",
              "dtype: object"
            ]
          },
          "metadata": {},
          "execution_count": 38
        }
      ],
      "source": [
        "play_store_data = play_store_data.astype(convert_dict)\n",
        "play_store_data.dtypes"
      ]
    },
    {
      "cell_type": "code",
      "execution_count": 39,
      "metadata": {
        "colab": {
          "base_uri": "https://localhost:8080/"
        },
        "id": "1J5w5miw76lc",
        "outputId": "9b3f22f6-dedd-4a53-99a4-a16fa23a6252"
      },
      "outputs": [
        {
          "output_type": "execute_result",
          "data": {
            "text/plain": [
              "0     January 7, 2018\n",
              "1    January 15, 2018\n",
              "2      August 1, 2018\n",
              "3        June 8, 2018\n",
              "4       June 20, 2018\n",
              "Name: Last Updated, dtype: object"
            ]
          },
          "metadata": {},
          "execution_count": 39
        }
      ],
      "source": [
        "#play_store_data['Last Updated'] = play_store_data['Last Updated'].apply(convert_date)\n",
        "play_store_data['Last Updated'].head()"
      ]
    },
    {
      "cell_type": "code",
      "execution_count": 40,
      "metadata": {
        "colab": {
          "base_uri": "https://localhost:8080/"
        },
        "id": "d9_-0HDq-pmg",
        "outputId": "2ccfed1e-3def-48a1-a5fb-d84d3e0f83e7"
      },
      "outputs": [
        {
          "output_type": "execute_result",
          "data": {
            "text/plain": [
              "0    2018\n",
              "1    2018\n",
              "2    2018\n",
              "3    2018\n",
              "4    2018\n",
              "Name: Last Updated, dtype: object"
            ]
          },
          "metadata": {},
          "execution_count": 40
        }
      ],
      "source": [
        "#extracting only year and making it in to numeric format\n",
        "play_store_data[\"Last Updated\"] = play_store_data[\"Last Updated\"].str[-4:]\n",
        "play_store_data[\"Last Updated\"].head()\n",
        "    "
      ]
    },
    {
      "cell_type": "code",
      "execution_count": 41,
      "metadata": {
        "colab": {
          "base_uri": "https://localhost:8080/"
        },
        "id": "D0KwB19d_Gs3",
        "outputId": "364e0e0c-0b3b-4c23-e0fc-971b4a373bac"
      },
      "outputs": [
        {
          "output_type": "execute_result",
          "data": {
            "text/plain": [
              "array([2018, 2017, 2014, 2016, 2015, 2013, 2012, 2011, 2010])"
            ]
          },
          "metadata": {},
          "execution_count": 41
        }
      ],
      "source": [
        "play_store_data[\"Last Updated\"]=pd.to_numeric(play_store_data[\"Last Updated\"])\n",
        "play_store_data['Last Updated'].unique()"
      ]
    },
    {
      "cell_type": "code",
      "execution_count": 42,
      "metadata": {
        "colab": {
          "base_uri": "https://localhost:8080/"
        },
        "id": "zlQ7YhiuyyCw",
        "outputId": "986a1bc0-a4a7-4b95-f076-80d402098742"
      },
      "outputs": [
        {
          "output_type": "execute_result",
          "data": {
            "text/plain": [
              "array([ 0,  1,  2,  3,  4,  5,  6,  7,  8,  9, 10, 11, 12, 13, 14, 15, 16,\n",
              "       17, 18, 19, 20, 21, 22, 23, 24, 25, 26, 27, 28, 29, 30, 31, 32])"
            ]
          },
          "metadata": {},
          "execution_count": 42
        }
      ],
      "source": [
        "#Assigning unique no to each category:\n",
        "c=play_store_data['Category'].unique()\n",
        "for i in range(len(c)):\n",
        "  play_store_data['Category'].replace(c[i],i,regex=True, inplace=True)\n",
        "#checking whether all categories are assignmed with a unique no\n",
        "play_store_data['Category'].unique()"
      ]
    },
    {
      "cell_type": "code",
      "execution_count": 43,
      "metadata": {
        "id": "Vric8O_oCcsR"
      },
      "outputs": [],
      "source": [
        "d=play_store_data['Type'].unique()\n",
        "for i in range(len(d)):\n",
        "  play_store_data['Type'].replace(d[i],i,regex=True, inplace=True)"
      ]
    },
    {
      "cell_type": "code",
      "execution_count": 44,
      "metadata": {
        "id": "Fg3aY6oh4Kd4"
      },
      "outputs": [],
      "source": [
        "# assigning unique no to each Content Rating:\n",
        "a=play_store_data['Content Rating'].unique()\n",
        "for i in range(len(a)):\n",
        "  play_store_data['Content Rating'].replace(a[i],i,regex=True, inplace=True)"
      ]
    },
    {
      "cell_type": "code",
      "execution_count": 45,
      "metadata": {
        "id": "fsCmpowc4VKA"
      },
      "outputs": [],
      "source": [
        "# assigning unique no to each Genres:\n",
        "r=play_store_data['Genres'].unique()\n",
        "for i in range(len(r)):\n",
        "  play_store_data['Genres'].replace(r[i],i,regex=True, inplace=True)"
      ]
    },
    {
      "cell_type": "code",
      "execution_count": 46,
      "metadata": {
        "id": "c2_y8uWB4iHa"
      },
      "outputs": [],
      "source": [
        "# assigning unique no to each Genres:\n",
        "r=play_store_data['Android Ver'].unique()\n",
        "for i in range(len(r)):\n",
        "  play_store_data['Android Ver'].replace(\"Android Ver\",\"\",regex=True, inplace=True)"
      ]
    },
    {
      "cell_type": "code",
      "execution_count": 47,
      "metadata": {
        "colab": {
          "base_uri": "https://localhost:8080/",
          "height": 287
        },
        "id": "FmUEajTFyRuL",
        "outputId": "3cdcb600-d1f3-4f97-97d7-ab6e7394a252"
      },
      "outputs": [
        {
          "output_type": "execute_result",
          "data": {
            "text/plain": [
              "                                       App  Category  Rating   Reviews  Size  \\\n",
              "0      PhotoEditorCandyCameraGridScrapBook         0     4.1     159.0  19.0   \n",
              "1                        Coloringbookmoana         0     3.9     967.0  14.0   \n",
              "2  ULauncherLiteFREELiveCoolThemesHideApps         0     4.7   87510.0  87.0   \n",
              "3                          SketchDrawPaint         0     4.5  215644.0  25.0   \n",
              "4           PixelDrawNumberArtColoringBook         0     4.3     967.0  28.0   \n",
              "\n",
              "     Installs  Type  Price  Content Rating  Genres  Last Updated  \\\n",
              "0     10000.0     0    0.0               0       0          2018   \n",
              "1    500000.0     0    0.0               0       0          2018   \n",
              "2   5000000.0     0    0.0               0       0          2018   \n",
              "3  50000000.0     0    0.0               1       0          2018   \n",
              "4    100000.0     0    0.0               0       0          2018   \n",
              "\n",
              "        Current Ver Android Ver  \n",
              "0               100    403andup  \n",
              "1               200    403andup  \n",
              "2               124    403andup  \n",
              "3  Varieswithdevice     42andup  \n",
              "4                11     44andup  "
            ],
            "text/html": [
              "\n",
              "  <div id=\"df-95901bc0-46f8-4221-bc5c-5a760852408d\">\n",
              "    <div class=\"colab-df-container\">\n",
              "      <div>\n",
              "<style scoped>\n",
              "    .dataframe tbody tr th:only-of-type {\n",
              "        vertical-align: middle;\n",
              "    }\n",
              "\n",
              "    .dataframe tbody tr th {\n",
              "        vertical-align: top;\n",
              "    }\n",
              "\n",
              "    .dataframe thead th {\n",
              "        text-align: right;\n",
              "    }\n",
              "</style>\n",
              "<table border=\"1\" class=\"dataframe\">\n",
              "  <thead>\n",
              "    <tr style=\"text-align: right;\">\n",
              "      <th></th>\n",
              "      <th>App</th>\n",
              "      <th>Category</th>\n",
              "      <th>Rating</th>\n",
              "      <th>Reviews</th>\n",
              "      <th>Size</th>\n",
              "      <th>Installs</th>\n",
              "      <th>Type</th>\n",
              "      <th>Price</th>\n",
              "      <th>Content Rating</th>\n",
              "      <th>Genres</th>\n",
              "      <th>Last Updated</th>\n",
              "      <th>Current Ver</th>\n",
              "      <th>Android Ver</th>\n",
              "    </tr>\n",
              "  </thead>\n",
              "  <tbody>\n",
              "    <tr>\n",
              "      <th>0</th>\n",
              "      <td>PhotoEditorCandyCameraGridScrapBook</td>\n",
              "      <td>0</td>\n",
              "      <td>4.1</td>\n",
              "      <td>159.0</td>\n",
              "      <td>19.0</td>\n",
              "      <td>10000.0</td>\n",
              "      <td>0</td>\n",
              "      <td>0.0</td>\n",
              "      <td>0</td>\n",
              "      <td>0</td>\n",
              "      <td>2018</td>\n",
              "      <td>100</td>\n",
              "      <td>403andup</td>\n",
              "    </tr>\n",
              "    <tr>\n",
              "      <th>1</th>\n",
              "      <td>Coloringbookmoana</td>\n",
              "      <td>0</td>\n",
              "      <td>3.9</td>\n",
              "      <td>967.0</td>\n",
              "      <td>14.0</td>\n",
              "      <td>500000.0</td>\n",
              "      <td>0</td>\n",
              "      <td>0.0</td>\n",
              "      <td>0</td>\n",
              "      <td>0</td>\n",
              "      <td>2018</td>\n",
              "      <td>200</td>\n",
              "      <td>403andup</td>\n",
              "    </tr>\n",
              "    <tr>\n",
              "      <th>2</th>\n",
              "      <td>ULauncherLiteFREELiveCoolThemesHideApps</td>\n",
              "      <td>0</td>\n",
              "      <td>4.7</td>\n",
              "      <td>87510.0</td>\n",
              "      <td>87.0</td>\n",
              "      <td>5000000.0</td>\n",
              "      <td>0</td>\n",
              "      <td>0.0</td>\n",
              "      <td>0</td>\n",
              "      <td>0</td>\n",
              "      <td>2018</td>\n",
              "      <td>124</td>\n",
              "      <td>403andup</td>\n",
              "    </tr>\n",
              "    <tr>\n",
              "      <th>3</th>\n",
              "      <td>SketchDrawPaint</td>\n",
              "      <td>0</td>\n",
              "      <td>4.5</td>\n",
              "      <td>215644.0</td>\n",
              "      <td>25.0</td>\n",
              "      <td>50000000.0</td>\n",
              "      <td>0</td>\n",
              "      <td>0.0</td>\n",
              "      <td>1</td>\n",
              "      <td>0</td>\n",
              "      <td>2018</td>\n",
              "      <td>Varieswithdevice</td>\n",
              "      <td>42andup</td>\n",
              "    </tr>\n",
              "    <tr>\n",
              "      <th>4</th>\n",
              "      <td>PixelDrawNumberArtColoringBook</td>\n",
              "      <td>0</td>\n",
              "      <td>4.3</td>\n",
              "      <td>967.0</td>\n",
              "      <td>28.0</td>\n",
              "      <td>100000.0</td>\n",
              "      <td>0</td>\n",
              "      <td>0.0</td>\n",
              "      <td>0</td>\n",
              "      <td>0</td>\n",
              "      <td>2018</td>\n",
              "      <td>11</td>\n",
              "      <td>44andup</td>\n",
              "    </tr>\n",
              "  </tbody>\n",
              "</table>\n",
              "</div>\n",
              "      <button class=\"colab-df-convert\" onclick=\"convertToInteractive('df-95901bc0-46f8-4221-bc5c-5a760852408d')\"\n",
              "              title=\"Convert this dataframe to an interactive table.\"\n",
              "              style=\"display:none;\">\n",
              "        \n",
              "  <svg xmlns=\"http://www.w3.org/2000/svg\" height=\"24px\"viewBox=\"0 0 24 24\"\n",
              "       width=\"24px\">\n",
              "    <path d=\"M0 0h24v24H0V0z\" fill=\"none\"/>\n",
              "    <path d=\"M18.56 5.44l.94 2.06.94-2.06 2.06-.94-2.06-.94-.94-2.06-.94 2.06-2.06.94zm-11 1L8.5 8.5l.94-2.06 2.06-.94-2.06-.94L8.5 2.5l-.94 2.06-2.06.94zm10 10l.94 2.06.94-2.06 2.06-.94-2.06-.94-.94-2.06-.94 2.06-2.06.94z\"/><path d=\"M17.41 7.96l-1.37-1.37c-.4-.4-.92-.59-1.43-.59-.52 0-1.04.2-1.43.59L10.3 9.45l-7.72 7.72c-.78.78-.78 2.05 0 2.83L4 21.41c.39.39.9.59 1.41.59.51 0 1.02-.2 1.41-.59l7.78-7.78 2.81-2.81c.8-.78.8-2.07 0-2.86zM5.41 20L4 18.59l7.72-7.72 1.47 1.35L5.41 20z\"/>\n",
              "  </svg>\n",
              "      </button>\n",
              "      \n",
              "  <style>\n",
              "    .colab-df-container {\n",
              "      display:flex;\n",
              "      flex-wrap:wrap;\n",
              "      gap: 12px;\n",
              "    }\n",
              "\n",
              "    .colab-df-convert {\n",
              "      background-color: #E8F0FE;\n",
              "      border: none;\n",
              "      border-radius: 50%;\n",
              "      cursor: pointer;\n",
              "      display: none;\n",
              "      fill: #1967D2;\n",
              "      height: 32px;\n",
              "      padding: 0 0 0 0;\n",
              "      width: 32px;\n",
              "    }\n",
              "\n",
              "    .colab-df-convert:hover {\n",
              "      background-color: #E2EBFA;\n",
              "      box-shadow: 0px 1px 2px rgba(60, 64, 67, 0.3), 0px 1px 3px 1px rgba(60, 64, 67, 0.15);\n",
              "      fill: #174EA6;\n",
              "    }\n",
              "\n",
              "    [theme=dark] .colab-df-convert {\n",
              "      background-color: #3B4455;\n",
              "      fill: #D2E3FC;\n",
              "    }\n",
              "\n",
              "    [theme=dark] .colab-df-convert:hover {\n",
              "      background-color: #434B5C;\n",
              "      box-shadow: 0px 1px 3px 1px rgba(0, 0, 0, 0.15);\n",
              "      filter: drop-shadow(0px 1px 2px rgba(0, 0, 0, 0.3));\n",
              "      fill: #FFFFFF;\n",
              "    }\n",
              "  </style>\n",
              "\n",
              "      <script>\n",
              "        const buttonEl =\n",
              "          document.querySelector('#df-95901bc0-46f8-4221-bc5c-5a760852408d button.colab-df-convert');\n",
              "        buttonEl.style.display =\n",
              "          google.colab.kernel.accessAllowed ? 'block' : 'none';\n",
              "\n",
              "        async function convertToInteractive(key) {\n",
              "          const element = document.querySelector('#df-95901bc0-46f8-4221-bc5c-5a760852408d');\n",
              "          const dataTable =\n",
              "            await google.colab.kernel.invokeFunction('convertToInteractive',\n",
              "                                                     [key], {});\n",
              "          if (!dataTable) return;\n",
              "\n",
              "          const docLinkHtml = 'Like what you see? Visit the ' +\n",
              "            '<a target=\"_blank\" href=https://colab.research.google.com/notebooks/data_table.ipynb>data table notebook</a>'\n",
              "            + ' to learn more about interactive tables.';\n",
              "          element.innerHTML = '';\n",
              "          dataTable['output_type'] = 'display_data';\n",
              "          await google.colab.output.renderOutput(dataTable, element);\n",
              "          const docLink = document.createElement('div');\n",
              "          docLink.innerHTML = docLinkHtml;\n",
              "          element.appendChild(docLink);\n",
              "        }\n",
              "      </script>\n",
              "    </div>\n",
              "  </div>\n",
              "  "
            ]
          },
          "metadata": {},
          "execution_count": 47
        }
      ],
      "source": [
        "play_store_data.head()"
      ]
    },
    {
      "cell_type": "markdown",
      "metadata": {
        "id": "bztJvpyZxZ6D"
      },
      "source": [
        " First we will find all the outliers from the playstore dataset.\n",
        " #### ⏩ finding outliers in Playstore Dataset:"
      ]
    },
    {
      "cell_type": "code",
      "execution_count": 48,
      "metadata": {
        "colab": {
          "base_uri": "https://localhost:8080/",
          "height": 447
        },
        "id": "TFMN7dFh6QKP",
        "outputId": "0ed0b24c-4bf5-4f6d-d095-da0c795d5d5c"
      },
      "outputs": [
        {
          "output_type": "execute_result",
          "data": {
            "text/plain": [
              "<Axes: >"
            ]
          },
          "metadata": {},
          "execution_count": 48
        },
        {
          "output_type": "display_data",
          "data": {
            "text/plain": [
              "<Figure size 640x480 with 1 Axes>"
            ],
            "image/png": "[encoded data removed]"
          },
          "metadata": {}
        }
      ],
      "source": [
        "#Finding outliers in Rating column:\n",
        "play_store_data['Rating'].plot(kind=\"box\")"
      ]
    },
    {
      "cell_type": "markdown",
      "metadata": {
        "id": "HE5YtvBT6xEF"
      },
      "source": [
        "Rating should be between 1 to 5 but from above box plot we can see that one of the rating value from dataset is above 5 so will find that column and will drop that column as rating lies only between 1 to 5."
      ]
    },
    {
      "cell_type": "code",
      "execution_count": 49,
      "metadata": {
        "colab": {
          "base_uri": "https://localhost:8080/"
        },
        "id": "y-yMEGrN3znV",
        "outputId": "78f9a0c1-beb0-449f-8f01-3cd3608b3ff5"
      },
      "outputs": [
        {
          "output_type": "execute_result",
          "data": {
            "text/plain": [
              "count    9649.000000\n",
              "mean        4.173583\n",
              "std         0.494449\n",
              "min         1.000000\n",
              "25%         4.000000\n",
              "50%         4.200000\n",
              "75%         4.500000\n",
              "max         5.000000\n",
              "Name: Rating, dtype: float64"
            ]
          },
          "metadata": {},
          "execution_count": 49
        }
      ],
      "source": [
        "play_store_data['Rating'].describe()"
      ]
    },
    {
      "cell_type": "code",
      "execution_count": 50,
      "metadata": {
        "id": "QEWfur6v4Oju"
      },
      "outputs": [],
      "source": [
        "Q1 = play_store_data['Rating'].describe().values[-4]\n",
        "Q3 = play_store_data['Rating'].describe().values[-2]"
      ]
    },
    {
      "cell_type": "code",
      "execution_count": 51,
      "metadata": {
        "colab": {
          "base_uri": "https://localhost:8080/"
        },
        "id": "jDHiS4qj2im0",
        "outputId": "5ccff4ff-a0a8-4ec7-c6b4-f9cce8740a7a"
      },
      "outputs": [
        {
          "output_type": "execute_result",
          "data": {
            "text/plain": [
              "0.5"
            ]
          },
          "metadata": {},
          "execution_count": 51
        }
      ],
      "source": [
        "IQR = Q3 - Q1\n",
        "IQR"
      ]
    },
    {
      "cell_type": "code",
      "execution_count": 52,
      "metadata": {
        "colab": {
          "base_uri": "https://localhost:8080/",
          "height": 505
        },
        "id": "YXfRfkMG17kz",
        "outputId": "b3adb9bd-a71a-4810-f9a6-52328308a927"
      },
      "outputs": [
        {
          "output_type": "execute_result",
          "data": {
            "text/plain": [
              "                                                     App  Category  Rating  \\\n",
              "87                                 RSTSaleofcarsonthePCT         1     3.2   \n",
              "209                                         PluginAOTv50         4     3.1   \n",
              "311    comicoPopularOriginalCartoonUpdatedEverydayComico         5     3.2   \n",
              "312                               DailyMangaComicWebtoon         5     3.2   \n",
              "477                                           Calculator         7     2.6   \n",
              "...                                                  ...       ...     ...   \n",
              "10630                                        FloridaBlue        13     3.2   \n",
              "10665                              SBFN1870MobileBanking        11     2.9   \n",
              "10677                                        PintFNTheme        26     2.5   \n",
              "10757                            FisherPriceSmartConnect        25     2.7   \n",
              "10766                              FreedomPopDiagnostics        25     2.9   \n",
              "\n",
              "       Reviews       Size   Installs  Type  Price  Content Rating  Genres  \\\n",
              "87       250.0  11.000000   100000.0     0   0.00               0       4   \n",
              "209     4034.0   0.022461   100000.0     0   0.00               0       7   \n",
              "311    93965.0  15.000000  5000000.0     0   0.00               1       8   \n",
              "312     1446.0  71.000000   100000.0     0   0.00               3       8   \n",
              "477       57.0  62.000000     1000.0     1   6.99               0      11   \n",
              "...        ...        ...        ...   ...    ...             ...     ...   \n",
              "10630    499.0  34.000000   100000.0     0   0.00               0      26   \n",
              "10665    139.0  33.000000    10000.0     0   0.00               0      24   \n",
              "10677      6.0   0.228516      100.0     0   0.00               0      92   \n",
              "10757    422.0  72.000000    50000.0     0   0.00               0      90   \n",
              "10766    452.0  70.000000   100000.0     0   0.00               0      90   \n",
              "\n",
              "       Last Updated    Current Ver Android Ver  \n",
              "87             2018             14    403andup  \n",
              "209            2015  30111Build311     22andup  \n",
              "311            2018            630    403andup  \n",
              "312            2018             10    403andup  \n",
              "477            2017            116     40andup  \n",
              "...             ...            ...         ...  \n",
              "10630          2018            421     70andup  \n",
              "10665          2017            305     40andup  \n",
              "10677          2013             10     22andup  \n",
              "10757          2018            241     44andup  \n",
              "10766          2017     1031230713    403andup  \n",
              "\n",
              "[491 rows x 13 columns]"
            ],
            "text/html": [
              "\n",
              "  <div id=\"df-3fbaaa4e-ee9e-444b-835b-8b391f439e88\">\n",
              "    <div class=\"colab-df-container\">\n",
              "      <div>\n",
              "<style scoped>\n",
              "    .dataframe tbody tr th:only-of-type {\n",
              "        vertical-align: middle;\n",
              "    }\n",
              "\n",
              "    .dataframe tbody tr th {\n",
              "        vertical-align: top;\n",
              "    }\n",
              "\n",
              "    .dataframe thead th {\n",
              "        text-align: right;\n",
              "    }\n",
              "</style>\n",
              "<table border=\"1\" class=\"dataframe\">\n",
              "  <thead>\n",
              "    <tr style=\"text-align: right;\">\n",
              "      <th></th>\n",
              "      <th>App</th>\n",
              "      <th>Category</th>\n",
              "      <th>Rating</th>\n",
              "      <th>Reviews</th>\n",
              "      <th>Size</th>\n",
              "      <th>Installs</th>\n",
              "      <th>Type</th>\n",
              "      <th>Price</th>\n",
              "      <th>Content Rating</th>\n",
              "      <th>Genres</th>\n",
              "      <th>Last Updated</th>\n",
              "      <th>Current Ver</th>\n",
              "      <th>Android Ver</th>\n",
              "    </tr>\n",
              "  </thead>\n",
              "  <tbody>\n",
              "    <tr>\n",
              "      <th>87</th>\n",
              "      <td>RSTSaleofcarsonthePCT</td>\n",
              "      <td>1</td>\n",
              "      <td>3.2</td>\n",
              "      <td>250.0</td>\n",
              "      <td>11.000000</td>\n",
              "      <td>100000.0</td>\n",
              "      <td>0</td>\n",
              "      <td>0.00</td>\n",
              "      <td>0</td>\n",
              "      <td>4</td>\n",
              "      <td>2018</td>\n",
              "      <td>14</td>\n",
              "      <td>403andup</td>\n",
              "    </tr>\n",
              "    <tr>\n",
              "      <th>209</th>\n",
              "      <td>PluginAOTv50</td>\n",
              "      <td>4</td>\n",
              "      <td>3.1</td>\n",
              "      <td>4034.0</td>\n",
              "      <td>0.022461</td>\n",
              "      <td>100000.0</td>\n",
              "      <td>0</td>\n",
              "      <td>0.00</td>\n",
              "      <td>0</td>\n",
              "      <td>7</td>\n",
              "      <td>2015</td>\n",
              "      <td>30111Build311</td>\n",
              "      <td>22andup</td>\n",
              "    </tr>\n",
              "    <tr>\n",
              "      <th>311</th>\n",
              "      <td>comicoPopularOriginalCartoonUpdatedEverydayComico</td>\n",
              "      <td>5</td>\n",
              "      <td>3.2</td>\n",
              "      <td>93965.0</td>\n",
              "      <td>15.000000</td>\n",
              "      <td>5000000.0</td>\n",
              "      <td>0</td>\n",
              "      <td>0.00</td>\n",
              "      <td>1</td>\n",
              "      <td>8</td>\n",
              "      <td>2018</td>\n",
              "      <td>630</td>\n",
              "      <td>403andup</td>\n",
              "    </tr>\n",
              "    <tr>\n",
              "      <th>312</th>\n",
              "      <td>DailyMangaComicWebtoon</td>\n",
              "      <td>5</td>\n",
              "      <td>3.2</td>\n",
              "      <td>1446.0</td>\n",
              "      <td>71.000000</td>\n",
              "      <td>100000.0</td>\n",
              "      <td>0</td>\n",
              "      <td>0.00</td>\n",
              "      <td>3</td>\n",
              "      <td>8</td>\n",
              "      <td>2018</td>\n",
              "      <td>10</td>\n",
              "      <td>403andup</td>\n",
              "    </tr>\n",
              "    <tr>\n",
              "      <th>477</th>\n",
              "      <td>Calculator</td>\n",
              "      <td>7</td>\n",
              "      <td>2.6</td>\n",
              "      <td>57.0</td>\n",
              "      <td>62.000000</td>\n",
              "      <td>1000.0</td>\n",
              "      <td>1</td>\n",
              "      <td>6.99</td>\n",
              "      <td>0</td>\n",
              "      <td>11</td>\n",
              "      <td>2017</td>\n",
              "      <td>116</td>\n",
              "      <td>40andup</td>\n",
              "    </tr>\n",
              "    <tr>\n",
              "      <th>...</th>\n",
              "      <td>...</td>\n",
              "      <td>...</td>\n",
              "      <td>...</td>\n",
              "      <td>...</td>\n",
              "      <td>...</td>\n",
              "      <td>...</td>\n",
              "      <td>...</td>\n",
              "      <td>...</td>\n",
              "      <td>...</td>\n",
              "      <td>...</td>\n",
              "      <td>...</td>\n",
              "      <td>...</td>\n",
              "      <td>...</td>\n",
              "    </tr>\n",
              "    <tr>\n",
              "      <th>10630</th>\n",
              "      <td>FloridaBlue</td>\n",
              "      <td>13</td>\n",
              "      <td>3.2</td>\n",
              "      <td>499.0</td>\n",
              "      <td>34.000000</td>\n",
              "      <td>100000.0</td>\n",
              "      <td>0</td>\n",
              "      <td>0.00</td>\n",
              "      <td>0</td>\n",
              "      <td>26</td>\n",
              "      <td>2018</td>\n",
              "      <td>421</td>\n",
              "      <td>70andup</td>\n",
              "    </tr>\n",
              "    <tr>\n",
              "      <th>10665</th>\n",
              "      <td>SBFN1870MobileBanking</td>\n",
              "      <td>11</td>\n",
              "      <td>2.9</td>\n",
              "      <td>139.0</td>\n",
              "      <td>33.000000</td>\n",
              "      <td>10000.0</td>\n",
              "      <td>0</td>\n",
              "      <td>0.00</td>\n",
              "      <td>0</td>\n",
              "      <td>24</td>\n",
              "      <td>2017</td>\n",
              "      <td>305</td>\n",
              "      <td>40andup</td>\n",
              "    </tr>\n",
              "    <tr>\n",
              "      <th>10677</th>\n",
              "      <td>PintFNTheme</td>\n",
              "      <td>26</td>\n",
              "      <td>2.5</td>\n",
              "      <td>6.0</td>\n",
              "      <td>0.228516</td>\n",
              "      <td>100.0</td>\n",
              "      <td>0</td>\n",
              "      <td>0.00</td>\n",
              "      <td>0</td>\n",
              "      <td>92</td>\n",
              "      <td>2013</td>\n",
              "      <td>10</td>\n",
              "      <td>22andup</td>\n",
              "    </tr>\n",
              "    <tr>\n",
              "      <th>10757</th>\n",
              "      <td>FisherPriceSmartConnect</td>\n",
              "      <td>25</td>\n",
              "      <td>2.7</td>\n",
              "      <td>422.0</td>\n",
              "      <td>72.000000</td>\n",
              "      <td>50000.0</td>\n",
              "      <td>0</td>\n",
              "      <td>0.00</td>\n",
              "      <td>0</td>\n",
              "      <td>90</td>\n",
              "      <td>2018</td>\n",
              "      <td>241</td>\n",
              "      <td>44andup</td>\n",
              "    </tr>\n",
              "    <tr>\n",
              "      <th>10766</th>\n",
              "      <td>FreedomPopDiagnostics</td>\n",
              "      <td>25</td>\n",
              "      <td>2.9</td>\n",
              "      <td>452.0</td>\n",
              "      <td>70.000000</td>\n",
              "      <td>100000.0</td>\n",
              "      <td>0</td>\n",
              "      <td>0.00</td>\n",
              "      <td>0</td>\n",
              "      <td>90</td>\n",
              "      <td>2017</td>\n",
              "      <td>1031230713</td>\n",
              "      <td>403andup</td>\n",
              "    </tr>\n",
              "  </tbody>\n",
              "</table>\n",
              "<p>491 rows × 13 columns</p>\n",
              "</div>\n",
              "      <button class=\"colab-df-convert\" onclick=\"convertToInteractive('df-3fbaaa4e-ee9e-444b-835b-8b391f439e88')\"\n",
              "              title=\"Convert this dataframe to an interactive table.\"\n",
              "              style=\"display:none;\">\n",
              "        \n",
              "  <svg xmlns=\"http://www.w3.org/2000/svg\" height=\"24px\"viewBox=\"0 0 24 24\"\n",
              "       width=\"24px\">\n",
              "    <path d=\"M0 0h24v24H0V0z\" fill=\"none\"/>\n",
              "    <path d=\"M18.56 5.44l.94 2.06.94-2.06 2.06-.94-2.06-.94-.94-2.06-.94 2.06-2.06.94zm-11 1L8.5 8.5l.94-2.06 2.06-.94-2.06-.94L8.5 2.5l-.94 2.06-2.06.94zm10 10l.94 2.06.94-2.06 2.06-.94-2.06-.94-.94-2.06-.94 2.06-2.06.94z\"/><path d=\"M17.41 7.96l-1.37-1.37c-.4-.4-.92-.59-1.43-.59-.52 0-1.04.2-1.43.59L10.3 9.45l-7.72 7.72c-.78.78-.78 2.05 0 2.83L4 21.41c.39.39.9.59 1.41.59.51 0 1.02-.2 1.41-.59l7.78-7.78 2.81-2.81c.8-.78.8-2.07 0-2.86zM5.41 20L4 18.59l7.72-7.72 1.47 1.35L5.41 20z\"/>\n",
              "  </svg>\n",
              "      </button>\n",
              "      \n",
              "  <style>\n",
              "    .colab-df-container {\n",
              "      display:flex;\n",
              "      flex-wrap:wrap;\n",
              "      gap: 12px;\n",
              "    }\n",
              "\n",
              "    .colab-df-convert {\n",
              "      background-color: #E8F0FE;\n",
              "      border: none;\n",
              "      border-radius: 50%;\n",
              "      cursor: pointer;\n",
              "      display: none;\n",
              "      fill: #1967D2;\n",
              "      height: 32px;\n",
              "      padding: 0 0 0 0;\n",
              "      width: 32px;\n",
              "    }\n",
              "\n",
              "    .colab-df-convert:hover {\n",
              "      background-color: #E2EBFA;\n",
              "      box-shadow: 0px 1px 2px rgba(60, 64, 67, 0.3), 0px 1px 3px 1px rgba(60, 64, 67, 0.15);\n",
              "      fill: #174EA6;\n",
              "    }\n",
              "\n",
              "    [theme=dark] .colab-df-convert {\n",
              "      background-color: #3B4455;\n",
              "      fill: #D2E3FC;\n",
              "    }\n",
              "\n",
              "    [theme=dark] .colab-df-convert:hover {\n",
              "      background-color: #434B5C;\n",
              "      box-shadow: 0px 1px 3px 1px rgba(0, 0, 0, 0.15);\n",
              "      filter: drop-shadow(0px 1px 2px rgba(0, 0, 0, 0.3));\n",
              "      fill: #FFFFFF;\n",
              "    }\n",
              "  </style>\n",
              "\n",
              "      <script>\n",
              "        const buttonEl =\n",
              "          document.querySelector('#df-3fbaaa4e-ee9e-444b-835b-8b391f439e88 button.colab-df-convert');\n",
              "        buttonEl.style.display =\n",
              "          google.colab.kernel.accessAllowed ? 'block' : 'none';\n",
              "\n",
              "        async function convertToInteractive(key) {\n",
              "          const element = document.querySelector('#df-3fbaaa4e-ee9e-444b-835b-8b391f439e88');\n",
              "          const dataTable =\n",
              "            await google.colab.kernel.invokeFunction('convertToInteractive',\n",
              "                                                     [key], {});\n",
              "          if (!dataTable) return;\n",
              "\n",
              "          const docLinkHtml = 'Like what you see? Visit the ' +\n",
              "            '<a target=\"_blank\" href=https://colab.research.google.com/notebooks/data_table.ipynb>data table notebook</a>'\n",
              "            + ' to learn more about interactive tables.';\n",
              "          element.innerHTML = '';\n",
              "          dataTable['output_type'] = 'display_data';\n",
              "          await google.colab.output.renderOutput(dataTable, element);\n",
              "          const docLink = document.createElement('div');\n",
              "          docLink.innerHTML = docLinkHtml;\n",
              "          element.appendChild(docLink);\n",
              "        }\n",
              "      </script>\n",
              "    </div>\n",
              "  </div>\n",
              "  "
            ]
          },
          "metadata": {},
          "execution_count": 52
        }
      ],
      "source": [
        "play_store_data[(play_store_data['Rating']<(Q1-IQR*1.5)) | (play_store_data['Rating']>(Q3+IQR*1.5))]"
      ]
    },
    {
      "cell_type": "markdown",
      "metadata": {
        "id": "cIgVSQOH2Ppt"
      },
      "source": [
        "Thus row no 10472 has rating as 19 which is practically not possible so we will drop this column.And also there is no rating value which is below 1 in playstore dataset."
      ]
    },
    {
      "cell_type": "code",
      "execution_count": 53,
      "metadata": {
        "colab": {
          "base_uri": "https://localhost:8080/",
          "height": 49
        },
        "id": "541r6KGHbaOm",
        "outputId": "4416b3e7-efcd-411b-d43a-f227c9559016"
      },
      "outputs": [
        {
          "output_type": "execute_result",
          "data": {
            "text/plain": [
              "Empty DataFrame\n",
              "Columns: [App, Category, Rating, Reviews, Size, Installs, Type, Price, Content Rating, Genres, Last Updated, Current Ver, Android Ver]\n",
              "Index: []"
            ],
            "text/html": [
              "\n",
              "  <div id=\"df-7d910f1d-203b-4b9f-bc82-3d7552ed6307\">\n",
              "    <div class=\"colab-df-container\">\n",
              "      <div>\n",
              "<style scoped>\n",
              "    .dataframe tbody tr th:only-of-type {\n",
              "        vertical-align: middle;\n",
              "    }\n",
              "\n",
              "    .dataframe tbody tr th {\n",
              "        vertical-align: top;\n",
              "    }\n",
              "\n",
              "    .dataframe thead th {\n",
              "        text-align: right;\n",
              "    }\n",
              "</style>\n",
              "<table border=\"1\" class=\"dataframe\">\n",
              "  <thead>\n",
              "    <tr style=\"text-align: right;\">\n",
              "      <th></th>\n",
              "      <th>App</th>\n",
              "      <th>Category</th>\n",
              "      <th>Rating</th>\n",
              "      <th>Reviews</th>\n",
              "      <th>Size</th>\n",
              "      <th>Installs</th>\n",
              "      <th>Type</th>\n",
              "      <th>Price</th>\n",
              "      <th>Content Rating</th>\n",
              "      <th>Genres</th>\n",
              "      <th>Last Updated</th>\n",
              "      <th>Current Ver</th>\n",
              "      <th>Android Ver</th>\n",
              "    </tr>\n",
              "  </thead>\n",
              "  <tbody>\n",
              "  </tbody>\n",
              "</table>\n",
              "</div>\n",
              "      <button class=\"colab-df-convert\" onclick=\"convertToInteractive('df-7d910f1d-203b-4b9f-bc82-3d7552ed6307')\"\n",
              "              title=\"Convert this dataframe to an interactive table.\"\n",
              "              style=\"display:none;\">\n",
              "        \n",
              "  <svg xmlns=\"http://www.w3.org/2000/svg\" height=\"24px\"viewBox=\"0 0 24 24\"\n",
              "       width=\"24px\">\n",
              "    <path d=\"M0 0h24v24H0V0z\" fill=\"none\"/>\n",
              "    <path d=\"M18.56 5.44l.94 2.06.94-2.06 2.06-.94-2.06-.94-.94-2.06-.94 2.06-2.06.94zm-11 1L8.5 8.5l.94-2.06 2.06-.94-2.06-.94L8.5 2.5l-.94 2.06-2.06.94zm10 10l.94 2.06.94-2.06 2.06-.94-2.06-.94-.94-2.06-.94 2.06-2.06.94z\"/><path d=\"M17.41 7.96l-1.37-1.37c-.4-.4-.92-.59-1.43-.59-.52 0-1.04.2-1.43.59L10.3 9.45l-7.72 7.72c-.78.78-.78 2.05 0 2.83L4 21.41c.39.39.9.59 1.41.59.51 0 1.02-.2 1.41-.59l7.78-7.78 2.81-2.81c.8-.78.8-2.07 0-2.86zM5.41 20L4 18.59l7.72-7.72 1.47 1.35L5.41 20z\"/>\n",
              "  </svg>\n",
              "      </button>\n",
              "      \n",
              "  <style>\n",
              "    .colab-df-container {\n",
              "      display:flex;\n",
              "      flex-wrap:wrap;\n",
              "      gap: 12px;\n",
              "    }\n",
              "\n",
              "    .colab-df-convert {\n",
              "      background-color: #E8F0FE;\n",
              "      border: none;\n",
              "      border-radius: 50%;\n",
              "      cursor: pointer;\n",
              "      display: none;\n",
              "      fill: #1967D2;\n",
              "      height: 32px;\n",
              "      padding: 0 0 0 0;\n",
              "      width: 32px;\n",
              "    }\n",
              "\n",
              "    .colab-df-convert:hover {\n",
              "      background-color: #E2EBFA;\n",
              "      box-shadow: 0px 1px 2px rgba(60, 64, 67, 0.3), 0px 1px 3px 1px rgba(60, 64, 67, 0.15);\n",
              "      fill: #174EA6;\n",
              "    }\n",
              "\n",
              "    [theme=dark] .colab-df-convert {\n",
              "      background-color: #3B4455;\n",
              "      fill: #D2E3FC;\n",
              "    }\n",
              "\n",
              "    [theme=dark] .colab-df-convert:hover {\n",
              "      background-color: #434B5C;\n",
              "      box-shadow: 0px 1px 3px 1px rgba(0, 0, 0, 0.15);\n",
              "      filter: drop-shadow(0px 1px 2px rgba(0, 0, 0, 0.3));\n",
              "      fill: #FFFFFF;\n",
              "    }\n",
              "  </style>\n",
              "\n",
              "      <script>\n",
              "        const buttonEl =\n",
              "          document.querySelector('#df-7d910f1d-203b-4b9f-bc82-3d7552ed6307 button.colab-df-convert');\n",
              "        buttonEl.style.display =\n",
              "          google.colab.kernel.accessAllowed ? 'block' : 'none';\n",
              "\n",
              "        async function convertToInteractive(key) {\n",
              "          const element = document.querySelector('#df-7d910f1d-203b-4b9f-bc82-3d7552ed6307');\n",
              "          const dataTable =\n",
              "            await google.colab.kernel.invokeFunction('convertToInteractive',\n",
              "                                                     [key], {});\n",
              "          if (!dataTable) return;\n",
              "\n",
              "          const docLinkHtml = 'Like what you see? Visit the ' +\n",
              "            '<a target=\"_blank\" href=https://colab.research.google.com/notebooks/data_table.ipynb>data table notebook</a>'\n",
              "            + ' to learn more about interactive tables.';\n",
              "          element.innerHTML = '';\n",
              "          dataTable['output_type'] = 'display_data';\n",
              "          await google.colab.output.renderOutput(dataTable, element);\n",
              "          const docLink = document.createElement('div');\n",
              "          docLink.innerHTML = docLinkHtml;\n",
              "          element.appendChild(docLink);\n",
              "        }\n",
              "      </script>\n",
              "    </div>\n",
              "  </div>\n",
              "  "
            ]
          },
          "metadata": {},
          "execution_count": 53
        }
      ],
      "source": [
        "#checking our dataset for dropping outlier value:\n",
        "play_store_data[(play_store_data['Rating']<1) | (play_store_data['Rating']>5)]"
      ]
    },
    {
      "cell_type": "markdown",
      "metadata": {
        "id": "buMq3pyAATIl"
      },
      "source": [
        "### **`2. Cleaning of User Review Dataset:`**"
      ]
    },
    {
      "cell_type": "code",
      "execution_count": 55,
      "metadata": {
        "colab": {
          "base_uri": "https://localhost:8080/"
        },
        "id": "eCDONsYX_6D_",
        "outputId": "5d7745a7-015c-4d27-e5e1-e2942850b4a9"
      },
      "outputs": [
        {
          "output_type": "execute_result",
          "data": {
            "text/plain": [
              "Index(['App', 'Translated_Review', 'Sentiment', 'Sentiment_Polarity',\n",
              "       'Sentiment_Subjectivity'],\n",
              "      dtype='object')"
            ]
          },
          "metadata": {},
          "execution_count": 55
        }
      ],
      "source": [
        "columns1=user_reviews_data.columns\n",
        "columns1"
      ]
    },
    {
      "cell_type": "markdown",
      "metadata": {
        "id": "e2Xw-vwGCKs4"
      },
      "source": [
        "Finding unique entries to each column."
      ]
    },
    {
      "cell_type": "code",
      "execution_count": 56,
      "metadata": {
        "colab": {
          "base_uri": "https://localhost:8080/"
        },
        "id": "oATdxa86Bzaj",
        "outputId": "a5ffe9b1-6b95-45fb-db28-98e4988a9cfd"
      },
      "outputs": [
        {
          "output_type": "stream",
          "name": "stdout",
          "text": [
            "App\n",
            "['10 Best Foods for You' '104 找工作 - 找工作 找打工 找兼職 履歷健檢 履歷診療室' '11st' ...\n",
            " 'Hotwire Hotel & Car Rental App' 'Housing-Real Estate & Property'\n",
            " 'Houzz Interior Design Ideas']\n",
            "/n\n",
            "Translated_Review\n",
            "['I like eat delicious food. That\\'s I\\'m cooking food myself, case \"10 Best Foods\" helps lot, also \"Best Before (Shelf Life)\"'\n",
            " 'This help eating healthy exercise regular basis' nan ...\n",
            " 'Dumb app, I wanted post property rent give option. Website work. Waste time space phone.'\n",
            " 'I property business got link SMS happy performance still guys need raise bar guys Cheers'\n",
            " 'Useless app, I searched flats kondapur, Hyderabad . None number reachable I know flats unavailable would keep posts active']\n",
            "/n\n",
            "Sentiment\n",
            "['Positive' nan 'Neutral' 'Negative']\n",
            "/n\n",
            "Sentiment_Polarity\n",
            "[ 1.          0.25               nan ... -0.52857143 -0.37777778\n",
            "  0.17333333]\n",
            "/n\n",
            "Sentiment_Subjectivity\n",
            "[0.53333333 0.28846154        nan ... 0.51145833 0.7172619  0.2594697 ]\n",
            "/n\n"
          ]
        }
      ],
      "source": [
        "for i in columns1:\n",
        "  print(i)\n",
        "  print (user_reviews_data[i].unique())\n",
        "  print(\"/n\")"
      ]
    },
    {
      "cell_type": "markdown",
      "metadata": {
        "id": "MehjsI0yRBdV"
      },
      "source": [
        "Sentiment column contains values of positive,negative,neutral.have to convert this values to numerical form."
      ]
    },
    {
      "cell_type": "code",
      "execution_count": 57,
      "metadata": {
        "id": "tl5f8zJiRV5r"
      },
      "outputs": [],
      "source": [
        "# assigning unique no to each Sentiment:\n",
        "a=user_reviews_data['Sentiment'].unique()\n",
        "for i in range(len(a)):\n",
        "  user_reviews_data['Sentiment'].replace(a[i],i,regex=True, inplace=True)"
      ]
    },
    {
      "cell_type": "markdown",
      "metadata": {
        "id": "PaCraIQ0SvbH"
      },
      "source": [
        "Lets check whether all our data is been converted into numeric format."
      ]
    },
    {
      "cell_type": "code",
      "execution_count": 58,
      "metadata": {
        "colab": {
          "base_uri": "https://localhost:8080/"
        },
        "id": "0pRuPXRlS2So",
        "outputId": "9847bb13-7d6b-409a-cc6f-57f7a288c0dd"
      },
      "outputs": [
        {
          "output_type": "stream",
          "name": "stdout",
          "text": [
            "App\n",
            "['10 Best Foods for You' '104 找工作 - 找工作 找打工 找兼職 履歷健檢 履歷診療室' '11st' ...\n",
            " 'Hotwire Hotel & Car Rental App' 'Housing-Real Estate & Property'\n",
            " 'Houzz Interior Design Ideas']\n",
            "/n\n",
            "Translated_Review\n",
            "['I like eat delicious food. That\\'s I\\'m cooking food myself, case \"10 Best Foods\" helps lot, also \"Best Before (Shelf Life)\"'\n",
            " 'This help eating healthy exercise regular basis' nan ...\n",
            " 'Dumb app, I wanted post property rent give option. Website work. Waste time space phone.'\n",
            " 'I property business got link SMS happy performance still guys need raise bar guys Cheers'\n",
            " 'Useless app, I searched flats kondapur, Hyderabad . None number reachable I know flats unavailable would keep posts active']\n",
            "/n\n",
            "Sentiment\n",
            "[0 1 2 3]\n",
            "/n\n",
            "Sentiment_Polarity\n",
            "[ 1.          0.25               nan ... -0.52857143 -0.37777778\n",
            "  0.17333333]\n",
            "/n\n",
            "Sentiment_Subjectivity\n",
            "[0.53333333 0.28846154        nan ... 0.51145833 0.7172619  0.2594697 ]\n",
            "/n\n"
          ]
        }
      ],
      "source": [
        "for i in columns1:\n",
        "  print(i)\n",
        "  print (user_reviews_data[i].unique())\n",
        "  print(\"/n\")"
      ]
    },
    {
      "cell_type": "code",
      "execution_count": 59,
      "metadata": {
        "colab": {
          "base_uri": "https://localhost:8080/"
        },
        "id": "Wa7w04PxTbnf",
        "outputId": "e05be93b-f1d1-4418-dd3d-3ba9847fb453"
      },
      "outputs": [
        {
          "output_type": "execute_result",
          "data": {
            "text/plain": [
              "App                        object\n",
              "Translated_Review          object\n",
              "Sentiment                   int64\n",
              "Sentiment_Polarity        float64\n",
              "Sentiment_Subjectivity    float64\n",
              "dtype: object"
            ]
          },
          "metadata": {},
          "execution_count": 59
        }
      ],
      "source": [
        "user_reviews_data.dtypes"
      ]
    },
    {
      "cell_type": "code",
      "execution_count": 60,
      "metadata": {
        "colab": {
          "base_uri": "https://localhost:8080/"
        },
        "id": "-fpL-gf_jyxZ",
        "outputId": "5dfa9b73-8998-41e1-9898-e64948781510"
      },
      "outputs": [
        {
          "output_type": "execute_result",
          "data": {
            "text/plain": [
              "Angry Birds Classic                                  320\n",
              "CBS Sports App - Scores, News, Stats & Watch Live    320\n",
              "Bowmasters                                           320\n",
              "8 Ball Pool                                          300\n",
              "Helix Jump                                           300\n",
              "                                                    ... \n",
              "Easy Healthy Recipes                                  31\n",
              "Dresses Ideas & Fashions +3000                        31\n",
              "Detector de Radares Gratis                            31\n",
              "Easy Hair Style Design                                30\n",
              "Drawing Clothes Fashion Ideas                         30\n",
              "Name: App, Length: 1074, dtype: int64"
            ]
          },
          "metadata": {},
          "execution_count": 60
        }
      ],
      "source": [
        "# Dataset App total Value Count\n",
        "user_reviews_data['App'].value_counts()\n"
      ]
    },
    {
      "cell_type": "code",
      "execution_count": 61,
      "metadata": {
        "colab": {
          "base_uri": "https://localhost:8080/"
        },
        "id": "JNU7D6m_kDYi",
        "outputId": "40517c1e-120a-4690-dfbb-d58b5867ba71"
      },
      "outputs": [
        {
          "output_type": "execute_result",
          "data": {
            "text/plain": [
              "33616"
            ]
          },
          "metadata": {},
          "execution_count": 61
        }
      ],
      "source": [
        "#we will find the sum of all the duplicates.\n",
        "user_reviews_data.duplicated().sum()"
      ]
    },
    {
      "cell_type": "markdown",
      "metadata": {
        "id": "JrQhGBuVk_Jt"
      },
      "source": [
        "Translated_Review,Sentiment,Sentiment_Polarity,Sentiment_Subjectivity this rows has null values in it. This rows should be dropped as it has no use after replacing its null values with zeros. "
      ]
    },
    {
      "cell_type": "code",
      "execution_count": 62,
      "metadata": {
        "id": "bBGkkOqVlAuj"
      },
      "outputs": [],
      "source": [
        "#dropping null values\n",
        "user_reviews_data = user_reviews_data.dropna()"
      ]
    },
    {
      "cell_type": "code",
      "execution_count": 63,
      "metadata": {
        "colab": {
          "base_uri": "https://localhost:8080/"
        },
        "id": "AYGnwfCelTnI",
        "outputId": "beaad6c9-eb6d-4989-f2ae-3c1dd3cac32f"
      },
      "outputs": [
        {
          "output_type": "execute_result",
          "data": {
            "text/plain": [
              "(37427, 5)"
            ]
          },
          "metadata": {},
          "execution_count": 63
        }
      ],
      "source": [
        "#shape of our new dataset is as follows:\n",
        "user_reviews_data.shape\n"
      ]
    },
    {
      "cell_type": "code",
      "execution_count": 64,
      "metadata": {
        "colab": {
          "base_uri": "https://localhost:8080/",
          "height": 112
        },
        "id": "r-8Zor3GT9Cz",
        "outputId": "59518a5a-3f30-4043-b821-fcf20014dc51"
      },
      "outputs": [
        {
          "output_type": "execute_result",
          "data": {
            "text/plain": [
              "                     App                                  Translated_Review  \\\n",
              "0  10 Best Foods for You  I like eat delicious food. That's I'm cooking ...   \n",
              "1  10 Best Foods for You    This help eating healthy exercise regular basis   \n",
              "\n",
              "   Sentiment  Sentiment_Polarity  Sentiment_Subjectivity  \n",
              "0          0                1.00                0.533333  \n",
              "1          0                0.25                0.288462  "
            ],
            "text/html": [
              "\n",
              "  <div id=\"df-7e671b1c-d1e1-4e38-8221-dba70263602f\">\n",
              "    <div class=\"colab-df-container\">\n",
              "      <div>\n",
              "<style scoped>\n",
              "    .dataframe tbody tr th:only-of-type {\n",
              "        vertical-align: middle;\n",
              "    }\n",
              "\n",
              "    .dataframe tbody tr th {\n",
              "        vertical-align: top;\n",
              "    }\n",
              "\n",
              "    .dataframe thead th {\n",
              "        text-align: right;\n",
              "    }\n",
              "</style>\n",
              "<table border=\"1\" class=\"dataframe\">\n",
              "  <thead>\n",
              "    <tr style=\"text-align: right;\">\n",
              "      <th></th>\n",
              "      <th>App</th>\n",
              "      <th>Translated_Review</th>\n",
              "      <th>Sentiment</th>\n",
              "      <th>Sentiment_Polarity</th>\n",
              "      <th>Sentiment_Subjectivity</th>\n",
              "    </tr>\n",
              "  </thead>\n",
              "  <tbody>\n",
              "    <tr>\n",
              "      <th>0</th>\n",
              "      <td>10 Best Foods for You</td>\n",
              "      <td>I like eat delicious food. That's I'm cooking ...</td>\n",
              "      <td>0</td>\n",
              "      <td>1.00</td>\n",
              "      <td>0.533333</td>\n",
              "    </tr>\n",
              "    <tr>\n",
              "      <th>1</th>\n",
              "      <td>10 Best Foods for You</td>\n",
              "      <td>This help eating healthy exercise regular basis</td>\n",
              "      <td>0</td>\n",
              "      <td>0.25</td>\n",
              "      <td>0.288462</td>\n",
              "    </tr>\n",
              "  </tbody>\n",
              "</table>\n",
              "</div>\n",
              "      <button class=\"colab-df-convert\" onclick=\"convertToInteractive('df-7e671b1c-d1e1-4e38-8221-dba70263602f')\"\n",
              "              title=\"Convert this dataframe to an interactive table.\"\n",
              "              style=\"display:none;\">\n",
              "        \n",
              "  <svg xmlns=\"http://www.w3.org/2000/svg\" height=\"24px\"viewBox=\"0 0 24 24\"\n",
              "       width=\"24px\">\n",
              "    <path d=\"M0 0h24v24H0V0z\" fill=\"none\"/>\n",
              "    <path d=\"M18.56 5.44l.94 2.06.94-2.06 2.06-.94-2.06-.94-.94-2.06-.94 2.06-2.06.94zm-11 1L8.5 8.5l.94-2.06 2.06-.94-2.06-.94L8.5 2.5l-.94 2.06-2.06.94zm10 10l.94 2.06.94-2.06 2.06-.94-2.06-.94-.94-2.06-.94 2.06-2.06.94z\"/><path d=\"M17.41 7.96l-1.37-1.37c-.4-.4-.92-.59-1.43-.59-.52 0-1.04.2-1.43.59L10.3 9.45l-7.72 7.72c-.78.78-.78 2.05 0 2.83L4 21.41c.39.39.9.59 1.41.59.51 0 1.02-.2 1.41-.59l7.78-7.78 2.81-2.81c.8-.78.8-2.07 0-2.86zM5.41 20L4 18.59l7.72-7.72 1.47 1.35L5.41 20z\"/>\n",
              "  </svg>\n",
              "      </button>\n",
              "      \n",
              "  <style>\n",
              "    .colab-df-container {\n",
              "      display:flex;\n",
              "      flex-wrap:wrap;\n",
              "      gap: 12px;\n",
              "    }\n",
              "\n",
              "    .colab-df-convert {\n",
              "      background-color: #E8F0FE;\n",
              "      border: none;\n",
              "      border-radius: 50%;\n",
              "      cursor: pointer;\n",
              "      display: none;\n",
              "      fill: #1967D2;\n",
              "      height: 32px;\n",
              "      padding: 0 0 0 0;\n",
              "      width: 32px;\n",
              "    }\n",
              "\n",
              "    .colab-df-convert:hover {\n",
              "      background-color: #E2EBFA;\n",
              "      box-shadow: 0px 1px 2px rgba(60, 64, 67, 0.3), 0px 1px 3px 1px rgba(60, 64, 67, 0.15);\n",
              "      fill: #174EA6;\n",
              "    }\n",
              "\n",
              "    [theme=dark] .colab-df-convert {\n",
              "      background-color: #3B4455;\n",
              "      fill: #D2E3FC;\n",
              "    }\n",
              "\n",
              "    [theme=dark] .colab-df-convert:hover {\n",
              "      background-color: #434B5C;\n",
              "      box-shadow: 0px 1px 3px 1px rgba(0, 0, 0, 0.15);\n",
              "      filter: drop-shadow(0px 1px 2px rgba(0, 0, 0, 0.3));\n",
              "      fill: #FFFFFF;\n",
              "    }\n",
              "  </style>\n",
              "\n",
              "      <script>\n",
              "        const buttonEl =\n",
              "          document.querySelector('#df-7e671b1c-d1e1-4e38-8221-dba70263602f button.colab-df-convert');\n",
              "        buttonEl.style.display =\n",
              "          google.colab.kernel.accessAllowed ? 'block' : 'none';\n",
              "\n",
              "        async function convertToInteractive(key) {\n",
              "          const element = document.querySelector('#df-7e671b1c-d1e1-4e38-8221-dba70263602f');\n",
              "          const dataTable =\n",
              "            await google.colab.kernel.invokeFunction('convertToInteractive',\n",
              "                                                     [key], {});\n",
              "          if (!dataTable) return;\n",
              "\n",
              "          const docLinkHtml = 'Like what you see? Visit the ' +\n",
              "            '<a target=\"_blank\" href=https://colab.research.google.com/notebooks/data_table.ipynb>data table notebook</a>'\n",
              "            + ' to learn more about interactive tables.';\n",
              "          element.innerHTML = '';\n",
              "          dataTable['output_type'] = 'display_data';\n",
              "          await google.colab.output.renderOutput(dataTable, element);\n",
              "          const docLink = document.createElement('div');\n",
              "          docLink.innerHTML = docLinkHtml;\n",
              "          element.appendChild(docLink);\n",
              "        }\n",
              "      </script>\n",
              "    </div>\n",
              "  </div>\n",
              "  "
            ]
          },
          "metadata": {},
          "execution_count": 64
        }
      ],
      "source": [
        "user_reviews_data.head(2)"
      ]
    },
    {
      "cell_type": "code",
      "execution_count": 65,
      "metadata": {
        "colab": {
          "base_uri": "https://localhost:8080/",
          "height": 49
        },
        "id": "nQiGQcUBmwNI",
        "outputId": "a6d14a37-ebdf-4b64-9b69-ba511ba903d2"
      },
      "outputs": [
        {
          "output_type": "execute_result",
          "data": {
            "text/plain": [
              "Empty DataFrame\n",
              "Columns: [App, Translated_Review, Sentiment, Sentiment_Polarity, Sentiment_Subjectivity]\n",
              "Index: []"
            ],
            "text/html": [
              "\n",
              "  <div id=\"df-cc134f62-a88a-4d25-8fc8-3ad4b7065606\">\n",
              "    <div class=\"colab-df-container\">\n",
              "      <div>\n",
              "<style scoped>\n",
              "    .dataframe tbody tr th:only-of-type {\n",
              "        vertical-align: middle;\n",
              "    }\n",
              "\n",
              "    .dataframe tbody tr th {\n",
              "        vertical-align: top;\n",
              "    }\n",
              "\n",
              "    .dataframe thead th {\n",
              "        text-align: right;\n",
              "    }\n",
              "</style>\n",
              "<table border=\"1\" class=\"dataframe\">\n",
              "  <thead>\n",
              "    <tr style=\"text-align: right;\">\n",
              "      <th></th>\n",
              "      <th>App</th>\n",
              "      <th>Translated_Review</th>\n",
              "      <th>Sentiment</th>\n",
              "      <th>Sentiment_Polarity</th>\n",
              "      <th>Sentiment_Subjectivity</th>\n",
              "    </tr>\n",
              "  </thead>\n",
              "  <tbody>\n",
              "  </tbody>\n",
              "</table>\n",
              "</div>\n",
              "      <button class=\"colab-df-convert\" onclick=\"convertToInteractive('df-cc134f62-a88a-4d25-8fc8-3ad4b7065606')\"\n",
              "              title=\"Convert this dataframe to an interactive table.\"\n",
              "              style=\"display:none;\">\n",
              "        \n",
              "  <svg xmlns=\"http://www.w3.org/2000/svg\" height=\"24px\"viewBox=\"0 0 24 24\"\n",
              "       width=\"24px\">\n",
              "    <path d=\"M0 0h24v24H0V0z\" fill=\"none\"/>\n",
              "    <path d=\"M18.56 5.44l.94 2.06.94-2.06 2.06-.94-2.06-.94-.94-2.06-.94 2.06-2.06.94zm-11 1L8.5 8.5l.94-2.06 2.06-.94-2.06-.94L8.5 2.5l-.94 2.06-2.06.94zm10 10l.94 2.06.94-2.06 2.06-.94-2.06-.94-.94-2.06-.94 2.06-2.06.94z\"/><path d=\"M17.41 7.96l-1.37-1.37c-.4-.4-.92-.59-1.43-.59-.52 0-1.04.2-1.43.59L10.3 9.45l-7.72 7.72c-.78.78-.78 2.05 0 2.83L4 21.41c.39.39.9.59 1.41.59.51 0 1.02-.2 1.41-.59l7.78-7.78 2.81-2.81c.8-.78.8-2.07 0-2.86zM5.41 20L4 18.59l7.72-7.72 1.47 1.35L5.41 20z\"/>\n",
              "  </svg>\n",
              "      </button>\n",
              "      \n",
              "  <style>\n",
              "    .colab-df-container {\n",
              "      display:flex;\n",
              "      flex-wrap:wrap;\n",
              "      gap: 12px;\n",
              "    }\n",
              "\n",
              "    .colab-df-convert {\n",
              "      background-color: #E8F0FE;\n",
              "      border: none;\n",
              "      border-radius: 50%;\n",
              "      cursor: pointer;\n",
              "      display: none;\n",
              "      fill: #1967D2;\n",
              "      height: 32px;\n",
              "      padding: 0 0 0 0;\n",
              "      width: 32px;\n",
              "    }\n",
              "\n",
              "    .colab-df-convert:hover {\n",
              "      background-color: #E2EBFA;\n",
              "      box-shadow: 0px 1px 2px rgba(60, 64, 67, 0.3), 0px 1px 3px 1px rgba(60, 64, 67, 0.15);\n",
              "      fill: #174EA6;\n",
              "    }\n",
              "\n",
              "    [theme=dark] .colab-df-convert {\n",
              "      background-color: #3B4455;\n",
              "      fill: #D2E3FC;\n",
              "    }\n",
              "\n",
              "    [theme=dark] .colab-df-convert:hover {\n",
              "      background-color: #434B5C;\n",
              "      box-shadow: 0px 1px 3px 1px rgba(0, 0, 0, 0.15);\n",
              "      filter: drop-shadow(0px 1px 2px rgba(0, 0, 0, 0.3));\n",
              "      fill: #FFFFFF;\n",
              "    }\n",
              "  </style>\n",
              "\n",
              "      <script>\n",
              "        const buttonEl =\n",
              "          document.querySelector('#df-cc134f62-a88a-4d25-8fc8-3ad4b7065606 button.colab-df-convert');\n",
              "        buttonEl.style.display =\n",
              "          google.colab.kernel.accessAllowed ? 'block' : 'none';\n",
              "\n",
              "        async function convertToInteractive(key) {\n",
              "          const element = document.querySelector('#df-cc134f62-a88a-4d25-8fc8-3ad4b7065606');\n",
              "          const dataTable =\n",
              "            await google.colab.kernel.invokeFunction('convertToInteractive',\n",
              "                                                     [key], {});\n",
              "          if (!dataTable) return;\n",
              "\n",
              "          const docLinkHtml = 'Like what you see? Visit the ' +\n",
              "            '<a target=\"_blank\" href=https://colab.research.google.com/notebooks/data_table.ipynb>data table notebook</a>'\n",
              "            + ' to learn more about interactive tables.';\n",
              "          element.innerHTML = '';\n",
              "          dataTable['output_type'] = 'display_data';\n",
              "          await google.colab.output.renderOutput(dataTable, element);\n",
              "          const docLink = document.createElement('div');\n",
              "          docLink.innerHTML = docLinkHtml;\n",
              "          element.appendChild(docLink);\n",
              "        }\n",
              "      </script>\n",
              "    </div>\n",
              "  </div>\n",
              "  "
            ]
          },
          "metadata": {},
          "execution_count": 65
        }
      ],
      "source": [
        "#checking our dataset for outlier value as sentiment polarity value ranges between  -1 to 1 :\n",
        "user_reviews_data[(user_reviews_data['Sentiment_Polarity']<-1) | (user_reviews_data['Sentiment_Polarity']>1)]"
      ]
    },
    {
      "cell_type": "code",
      "execution_count": 66,
      "metadata": {
        "colab": {
          "base_uri": "https://localhost:8080/",
          "height": 49
        },
        "id": "fw6XDvklnAG8",
        "outputId": "7b13b84a-b4fe-4454-83b2-7e3c34eb2a95"
      },
      "outputs": [
        {
          "output_type": "execute_result",
          "data": {
            "text/plain": [
              "Empty DataFrame\n",
              "Columns: [App, Translated_Review, Sentiment, Sentiment_Polarity, Sentiment_Subjectivity]\n",
              "Index: []"
            ],
            "text/html": [
              "\n",
              "  <div id=\"df-d1ea16e1-ea1a-4a58-8817-49a272827565\">\n",
              "    <div class=\"colab-df-container\">\n",
              "      <div>\n",
              "<style scoped>\n",
              "    .dataframe tbody tr th:only-of-type {\n",
              "        vertical-align: middle;\n",
              "    }\n",
              "\n",
              "    .dataframe tbody tr th {\n",
              "        vertical-align: top;\n",
              "    }\n",
              "\n",
              "    .dataframe thead th {\n",
              "        text-align: right;\n",
              "    }\n",
              "</style>\n",
              "<table border=\"1\" class=\"dataframe\">\n",
              "  <thead>\n",
              "    <tr style=\"text-align: right;\">\n",
              "      <th></th>\n",
              "      <th>App</th>\n",
              "      <th>Translated_Review</th>\n",
              "      <th>Sentiment</th>\n",
              "      <th>Sentiment_Polarity</th>\n",
              "      <th>Sentiment_Subjectivity</th>\n",
              "    </tr>\n",
              "  </thead>\n",
              "  <tbody>\n",
              "  </tbody>\n",
              "</table>\n",
              "</div>\n",
              "      <button class=\"colab-df-convert\" onclick=\"convertToInteractive('df-d1ea16e1-ea1a-4a58-8817-49a272827565')\"\n",
              "              title=\"Convert this dataframe to an interactive table.\"\n",
              "              style=\"display:none;\">\n",
              "        \n",
              "  <svg xmlns=\"http://www.w3.org/2000/svg\" height=\"24px\"viewBox=\"0 0 24 24\"\n",
              "       width=\"24px\">\n",
              "    <path d=\"M0 0h24v24H0V0z\" fill=\"none\"/>\n",
              "    <path d=\"M18.56 5.44l.94 2.06.94-2.06 2.06-.94-2.06-.94-.94-2.06-.94 2.06-2.06.94zm-11 1L8.5 8.5l.94-2.06 2.06-.94-2.06-.94L8.5 2.5l-.94 2.06-2.06.94zm10 10l.94 2.06.94-2.06 2.06-.94-2.06-.94-.94-2.06-.94 2.06-2.06.94z\"/><path d=\"M17.41 7.96l-1.37-1.37c-.4-.4-.92-.59-1.43-.59-.52 0-1.04.2-1.43.59L10.3 9.45l-7.72 7.72c-.78.78-.78 2.05 0 2.83L4 21.41c.39.39.9.59 1.41.59.51 0 1.02-.2 1.41-.59l7.78-7.78 2.81-2.81c.8-.78.8-2.07 0-2.86zM5.41 20L4 18.59l7.72-7.72 1.47 1.35L5.41 20z\"/>\n",
              "  </svg>\n",
              "      </button>\n",
              "      \n",
              "  <style>\n",
              "    .colab-df-container {\n",
              "      display:flex;\n",
              "      flex-wrap:wrap;\n",
              "      gap: 12px;\n",
              "    }\n",
              "\n",
              "    .colab-df-convert {\n",
              "      background-color: #E8F0FE;\n",
              "      border: none;\n",
              "      border-radius: 50%;\n",
              "      cursor: pointer;\n",
              "      display: none;\n",
              "      fill: #1967D2;\n",
              "      height: 32px;\n",
              "      padding: 0 0 0 0;\n",
              "      width: 32px;\n",
              "    }\n",
              "\n",
              "    .colab-df-convert:hover {\n",
              "      background-color: #E2EBFA;\n",
              "      box-shadow: 0px 1px 2px rgba(60, 64, 67, 0.3), 0px 1px 3px 1px rgba(60, 64, 67, 0.15);\n",
              "      fill: #174EA6;\n",
              "    }\n",
              "\n",
              "    [theme=dark] .colab-df-convert {\n",
              "      background-color: #3B4455;\n",
              "      fill: #D2E3FC;\n",
              "    }\n",
              "\n",
              "    [theme=dark] .colab-df-convert:hover {\n",
              "      background-color: #434B5C;\n",
              "      box-shadow: 0px 1px 3px 1px rgba(0, 0, 0, 0.15);\n",
              "      filter: drop-shadow(0px 1px 2px rgba(0, 0, 0, 0.3));\n",
              "      fill: #FFFFFF;\n",
              "    }\n",
              "  </style>\n",
              "\n",
              "      <script>\n",
              "        const buttonEl =\n",
              "          document.querySelector('#df-d1ea16e1-ea1a-4a58-8817-49a272827565 button.colab-df-convert');\n",
              "        buttonEl.style.display =\n",
              "          google.colab.kernel.accessAllowed ? 'block' : 'none';\n",
              "\n",
              "        async function convertToInteractive(key) {\n",
              "          const element = document.querySelector('#df-d1ea16e1-ea1a-4a58-8817-49a272827565');\n",
              "          const dataTable =\n",
              "            await google.colab.kernel.invokeFunction('convertToInteractive',\n",
              "                                                     [key], {});\n",
              "          if (!dataTable) return;\n",
              "\n",
              "          const docLinkHtml = 'Like what you see? Visit the ' +\n",
              "            '<a target=\"_blank\" href=https://colab.research.google.com/notebooks/data_table.ipynb>data table notebook</a>'\n",
              "            + ' to learn more about interactive tables.';\n",
              "          element.innerHTML = '';\n",
              "          dataTable['output_type'] = 'display_data';\n",
              "          await google.colab.output.renderOutput(dataTable, element);\n",
              "          const docLink = document.createElement('div');\n",
              "          docLink.innerHTML = docLinkHtml;\n",
              "          element.appendChild(docLink);\n",
              "        }\n",
              "      </script>\n",
              "    </div>\n",
              "  </div>\n",
              "  "
            ]
          },
          "metadata": {},
          "execution_count": 66
        }
      ],
      "source": [
        "#checking our dataset for outlier value as sentiment polarity value ranges between  0 to 1 :\n",
        "user_reviews_data[(user_reviews_data['Sentiment_Subjectivity']<0) | (user_reviews_data['Sentiment_Subjectivity']>1)]"
      ]
    },
    {
      "cell_type": "markdown",
      "metadata": {
        "id": "3UkV3bOdnkTg"
      },
      "source": [
        "Sentiment polarity and Sentiment subjectivity column has no outlier in it."
      ]
    },
    {
      "cell_type": "markdown",
      "metadata": {
        "id": "nA9Y7ga8ng1Z"
      },
      "source": [
        "## ***`2. Understanding Your Variables`***"
      ]
    },
    {
      "cell_type": "code",
      "execution_count": 67,
      "metadata": {
        "colab": {
          "base_uri": "https://localhost:8080/",
          "height": 363
        },
        "id": "DnOaZdaE5Q5t",
        "outputId": "6d9fd82e-180a-49c1-f033-6bc8093052fc"
      },
      "outputs": [
        {
          "output_type": "execute_result",
          "data": {
            "text/plain": [
              "                 count          mean           std     min     25%       50%  \\\n",
              "Category        9649.0  1.777573e+01  7.538889e+00     0.0    13.0      18.0   \n",
              "Rating          9649.0  4.173583e+00  4.944493e-01     1.0     4.0       4.2   \n",
              "Reviews         9649.0  2.168145e+05  1.832255e+06     0.0    25.0     969.0   \n",
              "Size            9649.0  3.372566e+01  2.663730e+01     0.0    14.0      28.0   \n",
              "Installs        9649.0  7.785404e+06  5.378557e+07     0.0  1000.0  100000.0   \n",
              "Type            9649.0  7.803918e-02  2.682471e-01     0.0     0.0       0.0   \n",
              "Price           9649.0  1.100079e+00  1.686086e+01     0.0     0.0       0.0   \n",
              "Content Rating  9649.0  2.318375e-01  6.560393e-01     0.0     0.0       0.0   \n",
              "Genres          9649.0  4.902073e+01  3.420018e+01     0.0    19.0      36.0   \n",
              "Last Updated    9649.0  2.017346e+03  1.137070e+00  2010.0  2017.0    2018.0   \n",
              "\n",
              "                      75%           max  \n",
              "Category             24.0  3.200000e+01  \n",
              "Rating                4.5  5.000000e+00  \n",
              "Reviews           29445.0  7.815831e+07  \n",
              "Size                 50.0  1.000000e+02  \n",
              "Installs        1000000.0  1.000000e+09  \n",
              "Type                  0.0  1.000000e+00  \n",
              "Price                 0.0  4.000000e+02  \n",
              "Content Rating        0.0  5.000000e+00  \n",
              "Genres               88.0  1.050000e+02  \n",
              "Last Updated       2018.0  2.018000e+03  "
            ],
            "text/html": [
              "\n",
              "  <div id=\"df-0d93dad9-50d0-4b53-a4f7-9132669ec874\">\n",
              "    <div class=\"colab-df-container\">\n",
              "      <div>\n",
              "<style scoped>\n",
              "    .dataframe tbody tr th:only-of-type {\n",
              "        vertical-align: middle;\n",
              "    }\n",
              "\n",
              "    .dataframe tbody tr th {\n",
              "        vertical-align: top;\n",
              "    }\n",
              "\n",
              "    .dataframe thead th {\n",
              "        text-align: right;\n",
              "    }\n",
              "</style>\n",
              "<table border=\"1\" class=\"dataframe\">\n",
              "  <thead>\n",
              "    <tr style=\"text-align: right;\">\n",
              "      <th></th>\n",
              "      <th>count</th>\n",
              "      <th>mean</th>\n",
              "      <th>std</th>\n",
              "      <th>min</th>\n",
              "      <th>25%</th>\n",
              "      <th>50%</th>\n",
              "      <th>75%</th>\n",
              "      <th>max</th>\n",
              "    </tr>\n",
              "  </thead>\n",
              "  <tbody>\n",
              "    <tr>\n",
              "      <th>Category</th>\n",
              "      <td>9649.0</td>\n",
              "      <td>1.777573e+01</td>\n",
              "      <td>7.538889e+00</td>\n",
              "      <td>0.0</td>\n",
              "      <td>13.0</td>\n",
              "      <td>18.0</td>\n",
              "      <td>24.0</td>\n",
              "      <td>3.200000e+01</td>\n",
              "    </tr>\n",
              "    <tr>\n",
              "      <th>Rating</th>\n",
              "      <td>9649.0</td>\n",
              "      <td>4.173583e+00</td>\n",
              "      <td>4.944493e-01</td>\n",
              "      <td>1.0</td>\n",
              "      <td>4.0</td>\n",
              "      <td>4.2</td>\n",
              "      <td>4.5</td>\n",
              "      <td>5.000000e+00</td>\n",
              "    </tr>\n",
              "    <tr>\n",
              "      <th>Reviews</th>\n",
              "      <td>9649.0</td>\n",
              "      <td>2.168145e+05</td>\n",
              "      <td>1.832255e+06</td>\n",
              "      <td>0.0</td>\n",
              "      <td>25.0</td>\n",
              "      <td>969.0</td>\n",
              "      <td>29445.0</td>\n",
              "      <td>7.815831e+07</td>\n",
              "    </tr>\n",
              "    <tr>\n",
              "      <th>Size</th>\n",
              "      <td>9649.0</td>\n",
              "      <td>3.372566e+01</td>\n",
              "      <td>2.663730e+01</td>\n",
              "      <td>0.0</td>\n",
              "      <td>14.0</td>\n",
              "      <td>28.0</td>\n",
              "      <td>50.0</td>\n",
              "      <td>1.000000e+02</td>\n",
              "    </tr>\n",
              "    <tr>\n",
              "      <th>Installs</th>\n",
              "      <td>9649.0</td>\n",
              "      <td>7.785404e+06</td>\n",
              "      <td>5.378557e+07</td>\n",
              "      <td>0.0</td>\n",
              "      <td>1000.0</td>\n",
              "      <td>100000.0</td>\n",
              "      <td>1000000.0</td>\n",
              "      <td>1.000000e+09</td>\n",
              "    </tr>\n",
              "    <tr>\n",
              "      <th>Type</th>\n",
              "      <td>9649.0</td>\n",
              "      <td>7.803918e-02</td>\n",
              "      <td>2.682471e-01</td>\n",
              "      <td>0.0</td>\n",
              "      <td>0.0</td>\n",
              "      <td>0.0</td>\n",
              "      <td>0.0</td>\n",
              "      <td>1.000000e+00</td>\n",
              "    </tr>\n",
              "    <tr>\n",
              "      <th>Price</th>\n",
              "      <td>9649.0</td>\n",
              "      <td>1.100079e+00</td>\n",
              "      <td>1.686086e+01</td>\n",
              "      <td>0.0</td>\n",
              "      <td>0.0</td>\n",
              "      <td>0.0</td>\n",
              "      <td>0.0</td>\n",
              "      <td>4.000000e+02</td>\n",
              "    </tr>\n",
              "    <tr>\n",
              "      <th>Content Rating</th>\n",
              "      <td>9649.0</td>\n",
              "      <td>2.318375e-01</td>\n",
              "      <td>6.560393e-01</td>\n",
              "      <td>0.0</td>\n",
              "      <td>0.0</td>\n",
              "      <td>0.0</td>\n",
              "      <td>0.0</td>\n",
              "      <td>5.000000e+00</td>\n",
              "    </tr>\n",
              "    <tr>\n",
              "      <th>Genres</th>\n",
              "      <td>9649.0</td>\n",
              "      <td>4.902073e+01</td>\n",
              "      <td>3.420018e+01</td>\n",
              "      <td>0.0</td>\n",
              "      <td>19.0</td>\n",
              "      <td>36.0</td>\n",
              "      <td>88.0</td>\n",
              "      <td>1.050000e+02</td>\n",
              "    </tr>\n",
              "    <tr>\n",
              "      <th>Last Updated</th>\n",
              "      <td>9649.0</td>\n",
              "      <td>2.017346e+03</td>\n",
              "      <td>1.137070e+00</td>\n",
              "      <td>2010.0</td>\n",
              "      <td>2017.0</td>\n",
              "      <td>2018.0</td>\n",
              "      <td>2018.0</td>\n",
              "      <td>2.018000e+03</td>\n",
              "    </tr>\n",
              "  </tbody>\n",
              "</table>\n",
              "</div>\n",
              "      <button class=\"colab-df-convert\" onclick=\"convertToInteractive('df-0d93dad9-50d0-4b53-a4f7-9132669ec874')\"\n",
              "              title=\"Convert this dataframe to an interactive table.\"\n",
              "              style=\"display:none;\">\n",
              "        \n",
              "  <svg xmlns=\"http://www.w3.org/2000/svg\" height=\"24px\"viewBox=\"0 0 24 24\"\n",
              "       width=\"24px\">\n",
              "    <path d=\"M0 0h24v24H0V0z\" fill=\"none\"/>\n",
              "    <path d=\"M18.56 5.44l.94 2.06.94-2.06 2.06-.94-2.06-.94-.94-2.06-.94 2.06-2.06.94zm-11 1L8.5 8.5l.94-2.06 2.06-.94-2.06-.94L8.5 2.5l-.94 2.06-2.06.94zm10 10l.94 2.06.94-2.06 2.06-.94-2.06-.94-.94-2.06-.94 2.06-2.06.94z\"/><path d=\"M17.41 7.96l-1.37-1.37c-.4-.4-.92-.59-1.43-.59-.52 0-1.04.2-1.43.59L10.3 9.45l-7.72 7.72c-.78.78-.78 2.05 0 2.83L4 21.41c.39.39.9.59 1.41.59.51 0 1.02-.2 1.41-.59l7.78-7.78 2.81-2.81c.8-.78.8-2.07 0-2.86zM5.41 20L4 18.59l7.72-7.72 1.47 1.35L5.41 20z\"/>\n",
              "  </svg>\n",
              "      </button>\n",
              "      \n",
              "  <style>\n",
              "    .colab-df-container {\n",
              "      display:flex;\n",
              "      flex-wrap:wrap;\n",
              "      gap: 12px;\n",
              "    }\n",
              "\n",
              "    .colab-df-convert {\n",
              "      background-color: #E8F0FE;\n",
              "      border: none;\n",
              "      border-radius: 50%;\n",
              "      cursor: pointer;\n",
              "      display: none;\n",
              "      fill: #1967D2;\n",
              "      height: 32px;\n",
              "      padding: 0 0 0 0;\n",
              "      width: 32px;\n",
              "    }\n",
              "\n",
              "    .colab-df-convert:hover {\n",
              "      background-color: #E2EBFA;\n",
              "      box-shadow: 0px 1px 2px rgba(60, 64, 67, 0.3), 0px 1px 3px 1px rgba(60, 64, 67, 0.15);\n",
              "      fill: #174EA6;\n",
              "    }\n",
              "\n",
              "    [theme=dark] .colab-df-convert {\n",
              "      background-color: #3B4455;\n",
              "      fill: #D2E3FC;\n",
              "    }\n",
              "\n",
              "    [theme=dark] .colab-df-convert:hover {\n",
              "      background-color: #434B5C;\n",
              "      box-shadow: 0px 1px 3px 1px rgba(0, 0, 0, 0.15);\n",
              "      filter: drop-shadow(0px 1px 2px rgba(0, 0, 0, 0.3));\n",
              "      fill: #FFFFFF;\n",
              "    }\n",
              "  </style>\n",
              "\n",
              "      <script>\n",
              "        const buttonEl =\n",
              "          document.querySelector('#df-0d93dad9-50d0-4b53-a4f7-9132669ec874 button.colab-df-convert');\n",
              "        buttonEl.style.display =\n",
              "          google.colab.kernel.accessAllowed ? 'block' : 'none';\n",
              "\n",
              "        async function convertToInteractive(key) {\n",
              "          const element = document.querySelector('#df-0d93dad9-50d0-4b53-a4f7-9132669ec874');\n",
              "          const dataTable =\n",
              "            await google.colab.kernel.invokeFunction('convertToInteractive',\n",
              "                                                     [key], {});\n",
              "          if (!dataTable) return;\n",
              "\n",
              "          const docLinkHtml = 'Like what you see? Visit the ' +\n",
              "            '<a target=\"_blank\" href=https://colab.research.google.com/notebooks/data_table.ipynb>data table notebook</a>'\n",
              "            + ' to learn more about interactive tables.';\n",
              "          element.innerHTML = '';\n",
              "          dataTable['output_type'] = 'display_data';\n",
              "          await google.colab.output.renderOutput(dataTable, element);\n",
              "          const docLink = document.createElement('div');\n",
              "          docLink.innerHTML = docLinkHtml;\n",
              "          element.appendChild(docLink);\n",
              "        }\n",
              "      </script>\n",
              "    </div>\n",
              "  </div>\n",
              "  "
            ]
          },
          "metadata": {},
          "execution_count": 67
        }
      ],
      "source": [
        "# Playstore Dataset Describe\n",
        "play_store_data.describe().T"
      ]
    },
    {
      "cell_type": "code",
      "execution_count": 68,
      "metadata": {
        "colab": {
          "base_uri": "https://localhost:8080/",
          "height": 143
        },
        "id": "daMD9z2Ra4E1",
        "outputId": "6057a110-e741-4a1b-f014-6da32e1c097c"
      },
      "outputs": [
        {
          "output_type": "execute_result",
          "data": {
            "text/plain": [
              "                          count      mean       std  min       25%       50%  \\\n",
              "Sentiment               37427.0  0.938600  1.288117  0.0  0.000000  0.000000   \n",
              "Sentiment_Polarity      37427.0  0.182171  0.351318 -1.0  0.000000  0.150000   \n",
              "Sentiment_Subjectivity  37427.0  0.492770  0.259904  0.0  0.357143  0.514286   \n",
              "\n",
              "                         75%  max  \n",
              "Sentiment               2.00  3.0  \n",
              "Sentiment_Polarity      0.40  1.0  \n",
              "Sentiment_Subjectivity  0.65  1.0  "
            ],
            "text/html": [
              "\n",
              "  <div id=\"df-fbd91824-27a7-4587-b5ba-2f59849baf37\">\n",
              "    <div class=\"colab-df-container\">\n",
              "      <div>\n",
              "<style scoped>\n",
              "    .dataframe tbody tr th:only-of-type {\n",
              "        vertical-align: middle;\n",
              "    }\n",
              "\n",
              "    .dataframe tbody tr th {\n",
              "        vertical-align: top;\n",
              "    }\n",
              "\n",
              "    .dataframe thead th {\n",
              "        text-align: right;\n",
              "    }\n",
              "</style>\n",
              "<table border=\"1\" class=\"dataframe\">\n",
              "  <thead>\n",
              "    <tr style=\"text-align: right;\">\n",
              "      <th></th>\n",
              "      <th>count</th>\n",
              "      <th>mean</th>\n",
              "      <th>std</th>\n",
              "      <th>min</th>\n",
              "      <th>25%</th>\n",
              "      <th>50%</th>\n",
              "      <th>75%</th>\n",
              "      <th>max</th>\n",
              "    </tr>\n",
              "  </thead>\n",
              "  <tbody>\n",
              "    <tr>\n",
              "      <th>Sentiment</th>\n",
              "      <td>37427.0</td>\n",
              "      <td>0.938600</td>\n",
              "      <td>1.288117</td>\n",
              "      <td>0.0</td>\n",
              "      <td>0.000000</td>\n",
              "      <td>0.000000</td>\n",
              "      <td>2.00</td>\n",
              "      <td>3.0</td>\n",
              "    </tr>\n",
              "    <tr>\n",
              "      <th>Sentiment_Polarity</th>\n",
              "      <td>37427.0</td>\n",
              "      <td>0.182171</td>\n",
              "      <td>0.351318</td>\n",
              "      <td>-1.0</td>\n",
              "      <td>0.000000</td>\n",
              "      <td>0.150000</td>\n",
              "      <td>0.40</td>\n",
              "      <td>1.0</td>\n",
              "    </tr>\n",
              "    <tr>\n",
              "      <th>Sentiment_Subjectivity</th>\n",
              "      <td>37427.0</td>\n",
              "      <td>0.492770</td>\n",
              "      <td>0.259904</td>\n",
              "      <td>0.0</td>\n",
              "      <td>0.357143</td>\n",
              "      <td>0.514286</td>\n",
              "      <td>0.65</td>\n",
              "      <td>1.0</td>\n",
              "    </tr>\n",
              "  </tbody>\n",
              "</table>\n",
              "</div>\n",
              "      <button class=\"colab-df-convert\" onclick=\"convertToInteractive('df-fbd91824-27a7-4587-b5ba-2f59849baf37')\"\n",
              "              title=\"Convert this dataframe to an interactive table.\"\n",
              "              style=\"display:none;\">\n",
              "        \n",
              "  <svg xmlns=\"http://www.w3.org/2000/svg\" height=\"24px\"viewBox=\"0 0 24 24\"\n",
              "       width=\"24px\">\n",
              "    <path d=\"M0 0h24v24H0V0z\" fill=\"none\"/>\n",
              "    <path d=\"M18.56 5.44l.94 2.06.94-2.06 2.06-.94-2.06-.94-.94-2.06-.94 2.06-2.06.94zm-11 1L8.5 8.5l.94-2.06 2.06-.94-2.06-.94L8.5 2.5l-.94 2.06-2.06.94zm10 10l.94 2.06.94-2.06 2.06-.94-2.06-.94-.94-2.06-.94 2.06-2.06.94z\"/><path d=\"M17.41 7.96l-1.37-1.37c-.4-.4-.92-.59-1.43-.59-.52 0-1.04.2-1.43.59L10.3 9.45l-7.72 7.72c-.78.78-.78 2.05 0 2.83L4 21.41c.39.39.9.59 1.41.59.51 0 1.02-.2 1.41-.59l7.78-7.78 2.81-2.81c.8-.78.8-2.07 0-2.86zM5.41 20L4 18.59l7.72-7.72 1.47 1.35L5.41 20z\"/>\n",
              "  </svg>\n",
              "      </button>\n",
              "      \n",
              "  <style>\n",
              "    .colab-df-container {\n",
              "      display:flex;\n",
              "      flex-wrap:wrap;\n",
              "      gap: 12px;\n",
              "    }\n",
              "\n",
              "    .colab-df-convert {\n",
              "      background-color: #E8F0FE;\n",
              "      border: none;\n",
              "      border-radius: 50%;\n",
              "      cursor: pointer;\n",
              "      display: none;\n",
              "      fill: #1967D2;\n",
              "      height: 32px;\n",
              "      padding: 0 0 0 0;\n",
              "      width: 32px;\n",
              "    }\n",
              "\n",
              "    .colab-df-convert:hover {\n",
              "      background-color: #E2EBFA;\n",
              "      box-shadow: 0px 1px 2px rgba(60, 64, 67, 0.3), 0px 1px 3px 1px rgba(60, 64, 67, 0.15);\n",
              "      fill: #174EA6;\n",
              "    }\n",
              "\n",
              "    [theme=dark] .colab-df-convert {\n",
              "      background-color: #3B4455;\n",
              "      fill: #D2E3FC;\n",
              "    }\n",
              "\n",
              "    [theme=dark] .colab-df-convert:hover {\n",
              "      background-color: #434B5C;\n",
              "      box-shadow: 0px 1px 3px 1px rgba(0, 0, 0, 0.15);\n",
              "      filter: drop-shadow(0px 1px 2px rgba(0, 0, 0, 0.3));\n",
              "      fill: #FFFFFF;\n",
              "    }\n",
              "  </style>\n",
              "\n",
              "      <script>\n",
              "        const buttonEl =\n",
              "          document.querySelector('#df-fbd91824-27a7-4587-b5ba-2f59849baf37 button.colab-df-convert');\n",
              "        buttonEl.style.display =\n",
              "          google.colab.kernel.accessAllowed ? 'block' : 'none';\n",
              "\n",
              "        async function convertToInteractive(key) {\n",
              "          const element = document.querySelector('#df-fbd91824-27a7-4587-b5ba-2f59849baf37');\n",
              "          const dataTable =\n",
              "            await google.colab.kernel.invokeFunction('convertToInteractive',\n",
              "                                                     [key], {});\n",
              "          if (!dataTable) return;\n",
              "\n",
              "          const docLinkHtml = 'Like what you see? Visit the ' +\n",
              "            '<a target=\"_blank\" href=https://colab.research.google.com/notebooks/data_table.ipynb>data table notebook</a>'\n",
              "            + ' to learn more about interactive tables.';\n",
              "          element.innerHTML = '';\n",
              "          dataTable['output_type'] = 'display_data';\n",
              "          await google.colab.output.renderOutput(dataTable, element);\n",
              "          const docLink = document.createElement('div');\n",
              "          docLink.innerHTML = docLinkHtml;\n",
              "          element.appendChild(docLink);\n",
              "        }\n",
              "      </script>\n",
              "    </div>\n",
              "  </div>\n",
              "  "
            ]
          },
          "metadata": {},
          "execution_count": 68
        }
      ],
      "source": [
        "# User Review Dataset Describe\n",
        "user_reviews_data.describe().T"
      ]
    },
    {
      "cell_type": "markdown",
      "metadata": {
        "id": "Z8p_PSO6hXeE"
      },
      "source": [
        "The numerical column present here is Sentiment_Polarity and Sentiment_Subjectivity"
      ]
    },
    {
      "cell_type": "markdown",
      "metadata": {
        "id": "PBTbrJXOngz2"
      },
      "source": [
        "### ⏩Variables Description "
      ]
    },
    {
      "cell_type": "markdown",
      "metadata": {
        "id": "ldSw5Ty_J9fR"
      },
      "source": [
        "\n",
        "***Let us describe more about our User review dataset.Dataset contains 5 columns and 64295 rows. The columns are described below:***\n",
        "\n",
        "`Columns of User Reviews dataset:`\n",
        "*   `App`: It described about the application for which has been received from user.\n",
        "*   `Category:` It states the category for the application on playstore.\n",
        "*   `Rating:`It states the sentiments of the review whether it is positive of negative regarding the applications.\n",
        "*   `Reviews:`It is the number that of personal opinion and judgments regarding appliations received from the user end.\n",
        "*  `Size:`It is the value that describes the size of application on playstore.\n",
        "*   `Installs:`It states the number of installation by users to their systems regarding the applications.\n",
        "*   `Type:`It states the type of application in the sense of charge.\n",
        "*  `Content Rating:`Content Rating let us know the type of a group who can avail the installation of applications from the playstore.\n",
        "*   `Genres:`It states the type of application in the sense of its usage.\n",
        "*  `Last Updated:`Last Updated let us know the last updation of application on the playstore.\n",
        "*   `Genres:`It states the type of application in the sense of its usage.\n",
        "*  `Last Updated:`Last Updated let us know the last updation of application on the playstore.\n",
        "*   `Current Ver:`It let us know about the updation of current version of the application on playstore.\n",
        "*  `Android Ver:`Android Ver let us know the updation of version of application for android on the playstore.\n",
        "\n",
        "***Let us describe more about our User review dataset.Dataset contains 5 columns and 64295 rows. The columns are described below:***\n",
        "\n",
        "`Columns of User Reviews dataset:`\n",
        "*   `App`: It described about the application for which has been received from user.\n",
        "*   `Translated_Review:` It states the translated review from the user end for the application on playstore.\n",
        "*   `Sentiment:`It states the sentiments of the review whether it is positive of negative regarding the applications.\n",
        "*   `Sentiment Polarity:`It is the value that lies between [-1,1] where -1 referes to negative sentiments and +1 refers to postitive sentiments of personal opinion and judgments regarding appliations.\n",
        "*  `Sentiment_Subjectivity:`It is the value that lies between [0,1] where 0 referes to negative sentiments and +1 refers to postitive sentiments of personal opinion and judgments regarding appliations."
      ]
    },
    {
      "cell_type": "markdown",
      "metadata": {
        "id": "dauF4eBmngu3"
      },
      "source": [
        "## 4. ***Data Wrangling***"
      ]
    },
    {
      "cell_type": "markdown",
      "metadata": {
        "id": "bKJF3rekwFvQ"
      },
      "source": [
        "### ⏩ **Data Wrangling Code**"
      ]
    },
    {
      "cell_type": "code",
      "execution_count": 69,
      "metadata": {
        "colab": {
          "base_uri": "https://localhost:8080/"
        },
        "id": "qdauugcLuIhC",
        "outputId": "8c1e1aed-b2b2-4ad2-99f1-efad04f60321"
      },
      "outputs": [
        {
          "output_type": "execute_result",
          "data": {
            "text/plain": [
              "(9649, 13)"
            ]
          },
          "metadata": {},
          "execution_count": 69
        }
      ],
      "source": [
        "play_store_data.shape"
      ]
    },
    {
      "cell_type": "markdown",
      "metadata": {
        "id": "aKkpYF78CxU7"
      },
      "source": [
        "\n",
        "\n",
        "\n",
        "\n",
        "### ⏩`App share category wise:`\n",
        "\n",
        "\n",
        "\n",
        "\n",
        "\n",
        " "
      ]
    },
    {
      "cell_type": "code",
      "execution_count": null,
      "metadata": {
        "id": "Gvlsnv2v6c_2"
      },
      "outputs": [],
      "source": [
        "plt.figure(figsize=(15,15))\n",
        "values=play_store_data[\"Category\"].value_counts()\n",
        "labels=play_store_data[\"Category\"].value_counts().index\n",
        "plt.pie(values,labels=labels, autopct='%1.2f%%')\n",
        "plt.title('% of apps share in each Category', fontsize = 25)\n",
        "plt.show()"
      ]
    },
    {
      "cell_type": "markdown",
      "metadata": {
        "id": "Ge0qStmADsX1"
      },
      "source": [
        "### ⏩` Top 5 Categories of Apps` :"
      ]
    },
    {
      "cell_type": "code",
      "execution_count": null,
      "metadata": {
        "id": "KqPVDxs0_3GZ"
      },
      "outputs": [],
      "source": [
        "a=play_store_data[\"Category\"].value_counts(ascending=False).head(5)\n",
        "a\n"
      ]
    },
    {
      "cell_type": "code",
      "execution_count": null,
      "metadata": {
        "id": "pOIlldeA5rbK"
      },
      "outputs": [],
      "source": [
        "values=play_store_data[\"Category\"].value_counts(ascending=False).head(5)\n",
        "labels=['18','17','25','11','27']\n",
        "plt.pie(values,labels=labels, autopct='%1.2f%%', explode=[0.01, 0.01, 0.01,0.01, 0.01])\n",
        "plt.show()"
      ]
    },
    {
      "cell_type": "markdown",
      "metadata": {
        "id": "rA0q4vCWQb4U"
      },
      "source": [
        "As we can see Apps under family category followed by game followed by tools followed by business and followed by medical type has maximum share on playstore."
      ]
    },
    {
      "cell_type": "markdown",
      "metadata": {
        "id": "GjUueRmOD9XY"
      },
      "source": [
        "### `⏩Installations of App of each category:`"
      ]
    },
    {
      "cell_type": "code",
      "execution_count": 73,
      "metadata": {
        "colab": {
          "base_uri": "https://localhost:8080/",
          "height": 487
        },
        "id": "lge6zwSBxz6Z",
        "outputId": "bf56a995-c8c3-4794-ed4d-758ae10515df"
      },
      "outputs": [
        {
          "output_type": "display_data",
          "data": {
            "text/plain": [
              "<Figure size 1000x500 with 1 Axes>"
            ],
            "image/png": "[encoded data removed]"
          },
          "metadata": {}
        }
      ],
      "source": [
        "a=play_store_data.groupby(\"Category\").agg({'Installs':\"count\"})\n",
        "b=a.reset_index()\n",
        "plt.figure(figsize=(10,5))\n",
        "sns.barplot(x='Category',y='Installs',data=b)\n",
        "plt.ylabel('Installs(e+10)')\n",
        "plt.title('Number of installs for each category')\n",
        "plt.show()"
      ]
    },
    {
      "cell_type": "markdown",
      "metadata": {
        "id": "8Cs7Pe3ARzdR"
      },
      "source": [
        "As we can see from graph apps of family category has more installations as followed by Games."
      ]
    },
    {
      "cell_type": "markdown",
      "metadata": {
        "id": "AYtOr6HhExLU"
      },
      "source": [
        "### **`⏩Installations of app accordingly paid or free service`**"
      ]
    },
    {
      "cell_type": "code",
      "execution_count": 74,
      "metadata": {
        "colab": {
          "base_uri": "https://localhost:8080/",
          "height": 482
        },
        "id": "DjdVpNgdZcC8",
        "outputId": "7498c160-956d-4341-8c23-8bde8a572c8c"
      },
      "outputs": [
        {
          "output_type": "execute_result",
          "data": {
            "text/plain": [
              "Text(0.5, 1.0, 'Number of installs for each category')"
            ]
          },
          "metadata": {},
          "execution_count": 74
        },
        {
          "output_type": "display_data",
          "data": {
            "text/plain": [
              "<Figure size 1000x500 with 0 Axes>"
            ]
          },
          "metadata": {}
        },
        {
          "output_type": "display_data",
          "data": {
            "text/plain": [
              "<Figure size 640x480 with 1 Axes>"
            ],
            "image/png": "[encoded data removed]"
          },
          "metadata": {}
        }
      ],
      "source": [
        "a=play_store_data.groupby(\"Type\").agg({\"Installs\":\"count\"})\n",
        "b=a.reset_index()\n",
        "plt.figure(figsize=(10,5))\n",
        "b.plot(kind='bar')\n",
        "plt.ylabel('Installs(e+10)')\n",
        "plt.title('Number of installs for each category')"
      ]
    },
    {
      "cell_type": "markdown",
      "metadata": {
        "id": "ADArcAY3S2PT"
      },
      "source": [
        "Apps which comes under free type are installed more as compared to paid apps."
      ]
    },
    {
      "cell_type": "markdown",
      "metadata": {
        "id": "zZBXW1PCFeS9"
      },
      "source": [
        "### **`⏩Which app has highest reviews amongst all the apps on playstore?`**"
      ]
    },
    {
      "cell_type": "code",
      "execution_count": 75,
      "metadata": {
        "colab": {
          "base_uri": "https://localhost:8080/",
          "height": 142
        },
        "id": "RfMDHyN4nq42",
        "outputId": "47ce554b-b46a-4265-e5bb-ea68f0779050"
      },
      "outputs": [
        {
          "output_type": "execute_result",
          "data": {
            "text/plain": [
              "           App  Category  Rating     Reviews  Size      Installs  Type  Price  \\\n",
              "2544  Facebook        20     4.1  78158306.0   0.0  1.000000e+09     0    0.0   \n",
              "\n",
              "      Content Rating  Genres  Last Updated       Current Ver       Android Ver  \n",
              "2544               1      85          2018  Varieswithdevice  Varieswithdevice  "
            ],
            "text/html": [
              "\n",
              "  <div id=\"df-79fe8b40-7bec-401b-a188-5762eb0a840a\">\n",
              "    <div class=\"colab-df-container\">\n",
              "      <div>\n",
              "<style scoped>\n",
              "    .dataframe tbody tr th:only-of-type {\n",
              "        vertical-align: middle;\n",
              "    }\n",
              "\n",
              "    .dataframe tbody tr th {\n",
              "        vertical-align: top;\n",
              "    }\n",
              "\n",
              "    .dataframe thead th {\n",
              "        text-align: right;\n",
              "    }\n",
              "</style>\n",
              "<table border=\"1\" class=\"dataframe\">\n",
              "  <thead>\n",
              "    <tr style=\"text-align: right;\">\n",
              "      <th></th>\n",
              "      <th>App</th>\n",
              "      <th>Category</th>\n",
              "      <th>Rating</th>\n",
              "      <th>Reviews</th>\n",
              "      <th>Size</th>\n",
              "      <th>Installs</th>\n",
              "      <th>Type</th>\n",
              "      <th>Price</th>\n",
              "      <th>Content Rating</th>\n",
              "      <th>Genres</th>\n",
              "      <th>Last Updated</th>\n",
              "      <th>Current Ver</th>\n",
              "      <th>Android Ver</th>\n",
              "    </tr>\n",
              "  </thead>\n",
              "  <tbody>\n",
              "    <tr>\n",
              "      <th>2544</th>\n",
              "      <td>Facebook</td>\n",
              "      <td>20</td>\n",
              "      <td>4.1</td>\n",
              "      <td>78158306.0</td>\n",
              "      <td>0.0</td>\n",
              "      <td>1.000000e+09</td>\n",
              "      <td>0</td>\n",
              "      <td>0.0</td>\n",
              "      <td>1</td>\n",
              "      <td>85</td>\n",
              "      <td>2018</td>\n",
              "      <td>Varieswithdevice</td>\n",
              "      <td>Varieswithdevice</td>\n",
              "    </tr>\n",
              "  </tbody>\n",
              "</table>\n",
              "</div>\n",
              "      <button class=\"colab-df-convert\" onclick=\"convertToInteractive('df-79fe8b40-7bec-401b-a188-5762eb0a840a')\"\n",
              "              title=\"Convert this dataframe to an interactive table.\"\n",
              "              style=\"display:none;\">\n",
              "        \n",
              "  <svg xmlns=\"http://www.w3.org/2000/svg\" height=\"24px\"viewBox=\"0 0 24 24\"\n",
              "       width=\"24px\">\n",
              "    <path d=\"M0 0h24v24H0V0z\" fill=\"none\"/>\n",
              "    <path d=\"M18.56 5.44l.94 2.06.94-2.06 2.06-.94-2.06-.94-.94-2.06-.94 2.06-2.06.94zm-11 1L8.5 8.5l.94-2.06 2.06-.94-2.06-.94L8.5 2.5l-.94 2.06-2.06.94zm10 10l.94 2.06.94-2.06 2.06-.94-2.06-.94-.94-2.06-.94 2.06-2.06.94z\"/><path d=\"M17.41 7.96l-1.37-1.37c-.4-.4-.92-.59-1.43-.59-.52 0-1.04.2-1.43.59L10.3 9.45l-7.72 7.72c-.78.78-.78 2.05 0 2.83L4 21.41c.39.39.9.59 1.41.59.51 0 1.02-.2 1.41-.59l7.78-7.78 2.81-2.81c.8-.78.8-2.07 0-2.86zM5.41 20L4 18.59l7.72-7.72 1.47 1.35L5.41 20z\"/>\n",
              "  </svg>\n",
              "      </button>\n",
              "      \n",
              "  <style>\n",
              "    .colab-df-container {\n",
              "      display:flex;\n",
              "      flex-wrap:wrap;\n",
              "      gap: 12px;\n",
              "    }\n",
              "\n",
              "    .colab-df-convert {\n",
              "      background-color: #E8F0FE;\n",
              "      border: none;\n",
              "      border-radius: 50%;\n",
              "      cursor: pointer;\n",
              "      display: none;\n",
              "      fill: #1967D2;\n",
              "      height: 32px;\n",
              "      padding: 0 0 0 0;\n",
              "      width: 32px;\n",
              "    }\n",
              "\n",
              "    .colab-df-convert:hover {\n",
              "      background-color: #E2EBFA;\n",
              "      box-shadow: 0px 1px 2px rgba(60, 64, 67, 0.3), 0px 1px 3px 1px rgba(60, 64, 67, 0.15);\n",
              "      fill: #174EA6;\n",
              "    }\n",
              "\n",
              "    [theme=dark] .colab-df-convert {\n",
              "      background-color: #3B4455;\n",
              "      fill: #D2E3FC;\n",
              "    }\n",
              "\n",
              "    [theme=dark] .colab-df-convert:hover {\n",
              "      background-color: #434B5C;\n",
              "      box-shadow: 0px 1px 3px 1px rgba(0, 0, 0, 0.15);\n",
              "      filter: drop-shadow(0px 1px 2px rgba(0, 0, 0, 0.3));\n",
              "      fill: #FFFFFF;\n",
              "    }\n",
              "  </style>\n",
              "\n",
              "      <script>\n",
              "        const buttonEl =\n",
              "          document.querySelector('#df-79fe8b40-7bec-401b-a188-5762eb0a840a button.colab-df-convert');\n",
              "        buttonEl.style.display =\n",
              "          google.colab.kernel.accessAllowed ? 'block' : 'none';\n",
              "\n",
              "        async function convertToInteractive(key) {\n",
              "          const element = document.querySelector('#df-79fe8b40-7bec-401b-a188-5762eb0a840a');\n",
              "          const dataTable =\n",
              "            await google.colab.kernel.invokeFunction('convertToInteractive',\n",
              "                                                     [key], {});\n",
              "          if (!dataTable) return;\n",
              "\n",
              "          const docLinkHtml = 'Like what you see? Visit the ' +\n",
              "            '<a target=\"_blank\" href=https://colab.research.google.com/notebooks/data_table.ipynb>data table notebook</a>'\n",
              "            + ' to learn more about interactive tables.';\n",
              "          element.innerHTML = '';\n",
              "          dataTable['output_type'] = 'display_data';\n",
              "          await google.colab.output.renderOutput(dataTable, element);\n",
              "          const docLink = document.createElement('div');\n",
              "          docLink.innerHTML = docLinkHtml;\n",
              "          element.appendChild(docLink);\n",
              "        }\n",
              "      </script>\n",
              "    </div>\n",
              "  </div>\n",
              "  "
            ]
          },
          "metadata": {},
          "execution_count": 75
        }
      ],
      "source": [
        "a=play_store_data[play_store_data[\"Reviews\"]==play_store_data[\"Reviews\"].max()]\n",
        "a"
      ]
    },
    {
      "cell_type": "markdown",
      "metadata": {
        "id": "Wsbp4QQNTXda"
      },
      "source": [
        "Facebook App has highest review amongst all the apps on playstore."
      ]
    },
    {
      "cell_type": "markdown",
      "metadata": {
        "id": "-ztooN93Fujs"
      },
      "source": [
        "### **`⏩Highest rating recieved for app in each category`**\n",
        "\n"
      ]
    },
    {
      "cell_type": "code",
      "execution_count": 76,
      "metadata": {
        "colab": {
          "base_uri": "https://localhost:8080/",
          "height": 470
        },
        "id": "tWjSu_iW0MNC",
        "outputId": "3dcab30b-e809-4265-96df-08a585d0b60e"
      },
      "outputs": [
        {
          "output_type": "execute_result",
          "data": {
            "text/plain": [
              "Text(0, 0.5, 'Rating received by users')"
            ]
          },
          "metadata": {},
          "execution_count": 76
        },
        {
          "output_type": "display_data",
          "data": {
            "text/plain": [
              "<Figure size 640x480 with 1 Axes>"
            ],
            "image/png": "[encoded data removed]"
          },
          "metadata": {}
        }
      ],
      "source": [
        "e=play_store_data.groupby(\"Category\").agg({\"Rating\":\"max\"})\n",
        "e.plot.bar()\n",
        "plt.ylabel(\"Rating received by users\")"
      ]
    },
    {
      "cell_type": "markdown",
      "metadata": {
        "id": "YGioBheCF9Wt"
      },
      "source": [
        "### **`⏩visualization of installations of app according to rating:`**"
      ]
    },
    {
      "cell_type": "code",
      "execution_count": 77,
      "metadata": {
        "colab": {
          "base_uri": "https://localhost:8080/",
          "height": 589
        },
        "id": "UMFZ1yv_zN5D",
        "outputId": "c66551f4-db38-4d5f-aca6-b7a2b87e8b14"
      },
      "outputs": [
        {
          "output_type": "execute_result",
          "data": {
            "text/plain": [
              "Text(0, 0.5, 'no of installations')"
            ]
          },
          "metadata": {},
          "execution_count": 77
        },
        {
          "output_type": "display_data",
          "data": {
            "text/plain": [
              "<Figure size 640x480 with 1 Axes>"
            ],
            "image/png": "[encoded data removed]"
          },
          "metadata": {}
        }
      ],
      "source": [
        "f=play_store_data.groupby('Rating').agg({\"Installs\":\"count\"})\n",
        "f.plot.bar()\n",
        "plt.ylabel(\"no of installations\")\n"
      ]
    },
    {
      "cell_type": "markdown",
      "metadata": {
        "id": "qHdlOBpCTnp3"
      },
      "source": [
        "As we can see as rating increases no. of installation of apps also increases. If rating is higher and installations are lower in value then their must be any misguidance in data interpretation or analysis."
      ]
    },
    {
      "cell_type": "markdown",
      "metadata": {
        "id": "rv-36q2AGU_G"
      },
      "source": [
        "### **# `⏩Popular apps having rating 5 which are accessible for Everyone:`**"
      ]
    },
    {
      "cell_type": "code",
      "execution_count": 78,
      "metadata": {
        "colab": {
          "base_uri": "https://localhost:8080/"
        },
        "id": "Wcrqy_y-6PF3",
        "outputId": "1142c09e-39ba-48ec-c27e-c68f628b0017"
      },
      "outputs": [
        {
          "output_type": "execute_result",
          "data": {
            "text/plain": [
              "329        HojiboyTojiboyevLifeHacks\n",
              "1028                  SUMMERSONICapp\n",
              "1030                      Prosperity\n",
              "1038          MindvalleyUTallinn2018\n",
              "1547                     Eternallife\n",
              "                    ...             \n",
              "10697                           MuFO\n",
              "10721                  MadDashFoCash\n",
              "10742             GKPBFPOnlineChurch\n",
              "10776                 MonsterRidePro\n",
              "10837    FrMikeSchmitzAudioTeachings\n",
              "Name: App, Length: 239, dtype: object"
            ]
          },
          "metadata": {},
          "execution_count": 78
        }
      ],
      "source": [
        "a=play_store_data[\"App\"][((play_store_data[\"Content Rating\"]==0)& (play_store_data[\"Rating\"]==5.0))]\n",
        "a\n"
      ]
    },
    {
      "cell_type": "markdown",
      "metadata": {
        "id": "m8EdYTQ7G6eR"
      },
      "source": [
        "### **`⏩Popular apps having rating 5 which are accessible for Teen:`**"
      ]
    },
    {
      "cell_type": "code",
      "execution_count": 79,
      "metadata": {
        "colab": {
          "base_uri": "https://localhost:8080/"
        },
        "id": "CqEV9CqgIIpP",
        "outputId": "82a44af5-a91a-4bfc-ba34-124d6b4da698"
      },
      "outputs": [
        {
          "output_type": "execute_result",
          "data": {
            "text/plain": [
              "633                SpineThedatingapp\n",
              "5118                  EternalLightAG\n",
              "5685     JobsinCanadaEmploisauCanada\n",
              "5828                    AYCollection\n",
              "5996        RailroadRadioVancouverBC\n",
              "6055                      MovementBE\n",
              "7100                      CASpeakers\n",
              "7466                           211CK\n",
              "7517                      CLNotifier\n",
              "7696                     FoothillsCP\n",
              "8591                          DNBlog\n",
              "9056         SantasMonsterShootoutDX\n",
              "9119                          chatdz\n",
              "9178                           iamEB\n",
              "9194          UPEBBillPaymentDetails\n",
              "9245                       ECCalgary\n",
              "9282                        EFEvents\n",
              "9455                     EJmessenger\n",
              "9512                    HumEkHain202\n",
              "10407          JigsawVolvoFH16Trucks\n",
              "10656              WallpapersFNSCARH\n",
              "10820                   FrDaoudLamei\n",
              "Name: App, dtype: object"
            ]
          },
          "metadata": {},
          "execution_count": 79
        }
      ],
      "source": [
        "a=play_store_data[\"App\"][((play_store_data[\"Content Rating\"]==1)& (play_store_data[\"Rating\"]==5.0))]\n",
        "a\n"
      ]
    },
    {
      "cell_type": "markdown",
      "metadata": {
        "id": "4G9NIE3kHp72"
      },
      "source": [
        "###  `⏩Popular Apps which received highest rating 5 which are accessible for Mature 17+:`"
      ]
    },
    {
      "cell_type": "code",
      "execution_count": 80,
      "metadata": {
        "colab": {
          "base_uri": "https://localhost:8080/"
        },
        "id": "R5xEZH-bJ1eM",
        "outputId": "1ce91f69-a3aa-45f3-9884-7904b0650a2e"
      },
      "outputs": [
        {
          "output_type": "execute_result",
          "data": {
            "text/plain": [
              "612            AmericanGirlsMobileNumbers\n",
              "615                           AwakeDating\n",
              "636     GirlsLiveTalkFreeTextandVideoChat\n",
              "640                  OnlineGirlsChatGroup\n",
              "654             SpeedingJoyrideCarMeetApp\n",
              "2522                  420BZBudezeDelivery\n",
              "2533                              ZenLeaf\n",
              "5489               APArtHistoryFlashcards\n",
              "6330                   HONBJACSCOLLEGEALE\n",
              "8275         DCNCOMPANYENTERTAINMENTRADIO\n",
              "Name: App, dtype: object"
            ]
          },
          "metadata": {},
          "execution_count": 80
        }
      ],
      "source": [
        "a=play_store_data[\"App\"][((play_store_data[\"Content Rating\"]==3)& (play_store_data[\"Rating\"]==5.0))]\n",
        "a"
      ]
    },
    {
      "cell_type": "markdown",
      "metadata": {
        "id": "t9T3RztcIYT0"
      },
      "source": [
        "### **`⏩Popular Apps which received highest rating 4.1 which are accessible for only Unrated:`**"
      ]
    },
    {
      "cell_type": "code",
      "execution_count": 81,
      "metadata": {
        "colab": {
          "base_uri": "https://localhost:8080/"
        },
        "id": "W6_5jtOqKd-L",
        "outputId": "8531e05b-87ba-4fa2-eb02-4d6fda4ee31b"
      },
      "outputs": [
        {
          "output_type": "execute_result",
          "data": {
            "text/plain": [
              "8266    DCUniverseOnlineMap\n",
              "Name: App, dtype: object"
            ]
          },
          "metadata": {},
          "execution_count": 81
        }
      ],
      "source": [
        "a=play_store_data [\"App\"][((play_store_data[\"Content Rating\"]==5)& (play_store_data[\"Rating\"]==4.1))]\n",
        "a"
      ]
    },
    {
      "cell_type": "code",
      "execution_count": 82,
      "metadata": {
        "colab": {
          "base_uri": "https://localhost:8080/",
          "height": 287
        },
        "id": "-goD-WSwfRYx",
        "outputId": "aad1d062-0c00-40fe-d567-6d111dd70dda"
      },
      "outputs": [
        {
          "output_type": "execute_result",
          "data": {
            "text/plain": [
              "                                       App  Category  Rating   Reviews  Size  \\\n",
              "0      PhotoEditorCandyCameraGridScrapBook         0     4.1     159.0  19.0   \n",
              "1                        Coloringbookmoana         0     3.9     967.0  14.0   \n",
              "2  ULauncherLiteFREELiveCoolThemesHideApps         0     4.7   87510.0  87.0   \n",
              "3                          SketchDrawPaint         0     4.5  215644.0  25.0   \n",
              "4           PixelDrawNumberArtColoringBook         0     4.3     967.0  28.0   \n",
              "\n",
              "     Installs  Type  Price  Content Rating  Genres  Last Updated  \\\n",
              "0     10000.0     0    0.0               0       0          2018   \n",
              "1    500000.0     0    0.0               0       0          2018   \n",
              "2   5000000.0     0    0.0               0       0          2018   \n",
              "3  50000000.0     0    0.0               1       0          2018   \n",
              "4    100000.0     0    0.0               0       0          2018   \n",
              "\n",
              "        Current Ver Android Ver  \n",
              "0               100    403andup  \n",
              "1               200    403andup  \n",
              "2               124    403andup  \n",
              "3  Varieswithdevice     42andup  \n",
              "4                11     44andup  "
            ],
            "text/html": [
              "\n",
              "  <div id=\"df-0aa22637-cbc3-40ba-923b-97fba349140d\">\n",
              "    <div class=\"colab-df-container\">\n",
              "      <div>\n",
              "<style scoped>\n",
              "    .dataframe tbody tr th:only-of-type {\n",
              "        vertical-align: middle;\n",
              "    }\n",
              "\n",
              "    .dataframe tbody tr th {\n",
              "        vertical-align: top;\n",
              "    }\n",
              "\n",
              "    .dataframe thead th {\n",
              "        text-align: right;\n",
              "    }\n",
              "</style>\n",
              "<table border=\"1\" class=\"dataframe\">\n",
              "  <thead>\n",
              "    <tr style=\"text-align: right;\">\n",
              "      <th></th>\n",
              "      <th>App</th>\n",
              "      <th>Category</th>\n",
              "      <th>Rating</th>\n",
              "      <th>Reviews</th>\n",
              "      <th>Size</th>\n",
              "      <th>Installs</th>\n",
              "      <th>Type</th>\n",
              "      <th>Price</th>\n",
              "      <th>Content Rating</th>\n",
              "      <th>Genres</th>\n",
              "      <th>Last Updated</th>\n",
              "      <th>Current Ver</th>\n",
              "      <th>Android Ver</th>\n",
              "    </tr>\n",
              "  </thead>\n",
              "  <tbody>\n",
              "    <tr>\n",
              "      <th>0</th>\n",
              "      <td>PhotoEditorCandyCameraGridScrapBook</td>\n",
              "      <td>0</td>\n",
              "      <td>4.1</td>\n",
              "      <td>159.0</td>\n",
              "      <td>19.0</td>\n",
              "      <td>10000.0</td>\n",
              "      <td>0</td>\n",
              "      <td>0.0</td>\n",
              "      <td>0</td>\n",
              "      <td>0</td>\n",
              "      <td>2018</td>\n",
              "      <td>100</td>\n",
              "      <td>403andup</td>\n",
              "    </tr>\n",
              "    <tr>\n",
              "      <th>1</th>\n",
              "      <td>Coloringbookmoana</td>\n",
              "      <td>0</td>\n",
              "      <td>3.9</td>\n",
              "      <td>967.0</td>\n",
              "      <td>14.0</td>\n",
              "      <td>500000.0</td>\n",
              "      <td>0</td>\n",
              "      <td>0.0</td>\n",
              "      <td>0</td>\n",
              "      <td>0</td>\n",
              "      <td>2018</td>\n",
              "      <td>200</td>\n",
              "      <td>403andup</td>\n",
              "    </tr>\n",
              "    <tr>\n",
              "      <th>2</th>\n",
              "      <td>ULauncherLiteFREELiveCoolThemesHideApps</td>\n",
              "      <td>0</td>\n",
              "      <td>4.7</td>\n",
              "      <td>87510.0</td>\n",
              "      <td>87.0</td>\n",
              "      <td>5000000.0</td>\n",
              "      <td>0</td>\n",
              "      <td>0.0</td>\n",
              "      <td>0</td>\n",
              "      <td>0</td>\n",
              "      <td>2018</td>\n",
              "      <td>124</td>\n",
              "      <td>403andup</td>\n",
              "    </tr>\n",
              "    <tr>\n",
              "      <th>3</th>\n",
              "      <td>SketchDrawPaint</td>\n",
              "      <td>0</td>\n",
              "      <td>4.5</td>\n",
              "      <td>215644.0</td>\n",
              "      <td>25.0</td>\n",
              "      <td>50000000.0</td>\n",
              "      <td>0</td>\n",
              "      <td>0.0</td>\n",
              "      <td>1</td>\n",
              "      <td>0</td>\n",
              "      <td>2018</td>\n",
              "      <td>Varieswithdevice</td>\n",
              "      <td>42andup</td>\n",
              "    </tr>\n",
              "    <tr>\n",
              "      <th>4</th>\n",
              "      <td>PixelDrawNumberArtColoringBook</td>\n",
              "      <td>0</td>\n",
              "      <td>4.3</td>\n",
              "      <td>967.0</td>\n",
              "      <td>28.0</td>\n",
              "      <td>100000.0</td>\n",
              "      <td>0</td>\n",
              "      <td>0.0</td>\n",
              "      <td>0</td>\n",
              "      <td>0</td>\n",
              "      <td>2018</td>\n",
              "      <td>11</td>\n",
              "      <td>44andup</td>\n",
              "    </tr>\n",
              "  </tbody>\n",
              "</table>\n",
              "</div>\n",
              "      <button class=\"colab-df-convert\" onclick=\"convertToInteractive('df-0aa22637-cbc3-40ba-923b-97fba349140d')\"\n",
              "              title=\"Convert this dataframe to an interactive table.\"\n",
              "              style=\"display:none;\">\n",
              "        \n",
              "  <svg xmlns=\"http://www.w3.org/2000/svg\" height=\"24px\"viewBox=\"0 0 24 24\"\n",
              "       width=\"24px\">\n",
              "    <path d=\"M0 0h24v24H0V0z\" fill=\"none\"/>\n",
              "    <path d=\"M18.56 5.44l.94 2.06.94-2.06 2.06-.94-2.06-.94-.94-2.06-.94 2.06-2.06.94zm-11 1L8.5 8.5l.94-2.06 2.06-.94-2.06-.94L8.5 2.5l-.94 2.06-2.06.94zm10 10l.94 2.06.94-2.06 2.06-.94-2.06-.94-.94-2.06-.94 2.06-2.06.94z\"/><path d=\"M17.41 7.96l-1.37-1.37c-.4-.4-.92-.59-1.43-.59-.52 0-1.04.2-1.43.59L10.3 9.45l-7.72 7.72c-.78.78-.78 2.05 0 2.83L4 21.41c.39.39.9.59 1.41.59.51 0 1.02-.2 1.41-.59l7.78-7.78 2.81-2.81c.8-.78.8-2.07 0-2.86zM5.41 20L4 18.59l7.72-7.72 1.47 1.35L5.41 20z\"/>\n",
              "  </svg>\n",
              "      </button>\n",
              "      \n",
              "  <style>\n",
              "    .colab-df-container {\n",
              "      display:flex;\n",
              "      flex-wrap:wrap;\n",
              "      gap: 12px;\n",
              "    }\n",
              "\n",
              "    .colab-df-convert {\n",
              "      background-color: #E8F0FE;\n",
              "      border: none;\n",
              "      border-radius: 50%;\n",
              "      cursor: pointer;\n",
              "      display: none;\n",
              "      fill: #1967D2;\n",
              "      height: 32px;\n",
              "      padding: 0 0 0 0;\n",
              "      width: 32px;\n",
              "    }\n",
              "\n",
              "    .colab-df-convert:hover {\n",
              "      background-color: #E2EBFA;\n",
              "      box-shadow: 0px 1px 2px rgba(60, 64, 67, 0.3), 0px 1px 3px 1px rgba(60, 64, 67, 0.15);\n",
              "      fill: #174EA6;\n",
              "    }\n",
              "\n",
              "    [theme=dark] .colab-df-convert {\n",
              "      background-color: #3B4455;\n",
              "      fill: #D2E3FC;\n",
              "    }\n",
              "\n",
              "    [theme=dark] .colab-df-convert:hover {\n",
              "      background-color: #434B5C;\n",
              "      box-shadow: 0px 1px 3px 1px rgba(0, 0, 0, 0.15);\n",
              "      filter: drop-shadow(0px 1px 2px rgba(0, 0, 0, 0.3));\n",
              "      fill: #FFFFFF;\n",
              "    }\n",
              "  </style>\n",
              "\n",
              "      <script>\n",
              "        const buttonEl =\n",
              "          document.querySelector('#df-0aa22637-cbc3-40ba-923b-97fba349140d button.colab-df-convert');\n",
              "        buttonEl.style.display =\n",
              "          google.colab.kernel.accessAllowed ? 'block' : 'none';\n",
              "\n",
              "        async function convertToInteractive(key) {\n",
              "          const element = document.querySelector('#df-0aa22637-cbc3-40ba-923b-97fba349140d');\n",
              "          const dataTable =\n",
              "            await google.colab.kernel.invokeFunction('convertToInteractive',\n",
              "                                                     [key], {});\n",
              "          if (!dataTable) return;\n",
              "\n",
              "          const docLinkHtml = 'Like what you see? Visit the ' +\n",
              "            '<a target=\"_blank\" href=https://colab.research.google.com/notebooks/data_table.ipynb>data table notebook</a>'\n",
              "            + ' to learn more about interactive tables.';\n",
              "          element.innerHTML = '';\n",
              "          dataTable['output_type'] = 'display_data';\n",
              "          await google.colab.output.renderOutput(dataTable, element);\n",
              "          const docLink = document.createElement('div');\n",
              "          docLink.innerHTML = docLinkHtml;\n",
              "          element.appendChild(docLink);\n",
              "        }\n",
              "      </script>\n",
              "    </div>\n",
              "  </div>\n",
              "  "
            ]
          },
          "metadata": {},
          "execution_count": 82
        }
      ],
      "source": [
        "play_store_data.head()"
      ]
    },
    {
      "cell_type": "markdown",
      "metadata": {
        "id": "uwjU3E-uI4z8"
      },
      "source": [
        "### **`⏩correation between size and installation of app`**"
      ]
    },
    {
      "cell_type": "code",
      "execution_count": 83,
      "metadata": {
        "colab": {
          "base_uri": "https://localhost:8080/",
          "height": 523
        },
        "id": "_5bZPl0JJeS6",
        "outputId": "324a87e8-6f35-42c8-b842-7651a51bdb4e"
      },
      "outputs": [
        {
          "output_type": "execute_result",
          "data": {
            "text/plain": [
              "Text(29.000000000000007, 0.5, 'Installs')"
            ]
          },
          "metadata": {},
          "execution_count": 83
        },
        {
          "output_type": "display_data",
          "data": {
            "text/plain": [
              "<Figure size 500x500 with 1 Axes>"
            ],
            "image/png": "[encoded data removed]"
          },
          "metadata": {}
        }
      ],
      "source": [
        "a=play_store_data['Size']\n",
        "b=play_store_data['Installs']\n",
        "df=pd.DataFrame({'x':a ,'y':b})\n",
        "sns.lmplot(x='x',y='y',data=df)\n",
        "plt.xlabel('size')\n",
        "plt.ylabel('Installs')"
      ]
    },
    {
      "cell_type": "markdown",
      "metadata": {
        "id": "_AyOxUPqYP1T"
      },
      "source": [
        "As we can see from graph,there is relation between size and installation of an application."
      ]
    },
    {
      "cell_type": "markdown",
      "metadata": {
        "id": "hMBYs5QBJJcd"
      },
      "source": [
        "### **`⏩Heatmap for the playstore app using various properties:`**"
      ]
    },
    {
      "cell_type": "code",
      "execution_count": 86,
      "metadata": {
        "colab": {
          "base_uri": "https://localhost:8080/",
          "height": 575
        },
        "id": "7_7ER5JKh0Zk",
        "outputId": "02477423-7589-4799-ffab-25ed59e2cb84"
      },
      "outputs": [
        {
          "output_type": "execute_result",
          "data": {
            "text/plain": [
              "<Axes: title={'center': 'Heatmap for the playstore app using various properties'}>"
            ]
          },
          "metadata": {},
          "execution_count": 86
        },
        {
          "output_type": "display_data",
          "data": {
            "text/plain": [
              "<Figure size 1000x500 with 2 Axes>"
            ],
            "image/png": "[encoded data removed]"
          },
          "metadata": {}
        }
      ],
      "source": [
        "plt.figure(figsize=(10,5))\n",
        "plt.title('Heatmap for the playstore app using various properties')\n",
        "sns.heatmap(play_store_data.corr(),annot=True, cmap='Accent')"
      ]
    },
    {
      "cell_type": "markdown",
      "metadata": {
        "id": "wWzSpnydBUSS"
      },
      "source": [
        "from above data we get to know that as app is installed then reviews will automatically increased. Also geners and category comes under same type so they have highest correlation."
      ]
    },
    {
      "cell_type": "markdown",
      "metadata": {
        "id": "FXmDbiOmKbfZ"
      },
      "source": [
        "### **`⏩which category generated has most of highest revenue ? :`**"
      ]
    },
    {
      "cell_type": "code",
      "execution_count": 87,
      "metadata": {
        "colab": {
          "base_uri": "https://localhost:8080/",
          "height": 591
        },
        "id": "1_rqtwYQU4jF",
        "outputId": "6d49fc06-54c1-4297-e54e-8b08b3bd9701"
      },
      "outputs": [
        {
          "output_type": "stream",
          "name": "stderr",
          "text": [
            "<ipython-input-87-c36e0013daa9>:2: SettingWithCopyWarning: \n",
            "A value is trying to be set on a copy of a slice from a DataFrame.\n",
            "Try using .loc[row_indexer,col_indexer] = value instead\n",
            "\n",
            "See the caveats in the documentation: https://pandas.pydata.org/pandas-docs/stable/user_guide/indexing.html#returning-a-view-versus-a-copy\n",
            "  paid_a['revenue']=paid_a['Installs']*paid_a['Price']\n"
          ]
        },
        {
          "output_type": "execute_result",
          "data": {
            "text/plain": [
              "Text(0.5, 1.0, 'Visualization of which category generates maximum revenue')"
            ]
          },
          "metadata": {},
          "execution_count": 87
        },
        {
          "output_type": "display_data",
          "data": {
            "text/plain": [
              "<Figure size 640x480 with 1 Axes>"
            ],
            "image/png": "[encoded data removed]"
          },
          "metadata": {}
        }
      ],
      "source": [
        "paid_a=play_store_data[play_store_data[\"Type\"]==1]\n",
        "paid_a['revenue']=paid_a['Installs']*paid_a['Price']\n",
        "c=paid_a.groupby('Category').agg({'revenue':'sum'}).plot.barh()\n",
        "plt.ylabel('Revenue')\n",
        "plt.title('Visualization of which category generates maximum revenue')"
      ]
    },
    {
      "cell_type": "markdown",
      "metadata": {
        "id": "91RUA3v4Yn8s"
      },
      "source": [
        "From graph,it is clearly seen that installation of apps under family category has been generated maximum revenue."
      ]
    },
    {
      "cell_type": "markdown",
      "metadata": {
        "id": "Baz5100QK3EN"
      },
      "source": [
        "### **`⏩Top 10 paid app in playstore dataset :`**"
      ]
    },
    {
      "cell_type": "code",
      "execution_count": 88,
      "metadata": {
        "colab": {
          "base_uri": "https://localhost:8080/",
          "height": 569
        },
        "id": "yR39UxRGTxa6",
        "outputId": "4bd66011-eee9-4284-a5d9-e25fda980e0b"
      },
      "outputs": [
        {
          "output_type": "stream",
          "name": "stderr",
          "text": [
            "<ipython-input-88-8c488631359f>:2: SettingWithCopyWarning: \n",
            "A value is trying to be set on a copy of a slice from a DataFrame.\n",
            "Try using .loc[row_indexer,col_indexer] = value instead\n",
            "\n",
            "See the caveats in the documentation: https://pandas.pydata.org/pandas-docs/stable/user_guide/indexing.html#returning-a-view-versus-a-copy\n",
            "  paid_app['revenue']=paid_app['Installs']*paid_app['Price']\n"
          ]
        },
        {
          "output_type": "execute_result",
          "data": {
            "text/plain": [
              "<Axes: ylabel='App'>"
            ]
          },
          "metadata": {},
          "execution_count": 88
        },
        {
          "output_type": "display_data",
          "data": {
            "text/plain": [
              "<Figure size 640x480 with 1 Axes>"
            ],
            "image/png": "[encoded data removed]"
          },
          "metadata": {}
        }
      ],
      "source": [
        "paid_app=play_store_data[(play_store_data[\"Type\"]==1)]\n",
        "paid_app['revenue']=paid_app['Installs']*paid_app['Price']\n",
        "t=paid_app.nlargest(10,\"revenue\",keep=\"first\")\n",
        "t.groupby(\"App\").agg({'revenue':'mean'}).plot.barh()"
      ]
    },
    {
      "cell_type": "markdown",
      "metadata": {
        "id": "SiGDqiPOZAn3"
      },
      "source": [
        "Minecraft app follwed by the iamrich app are the most revenue giving app amongst all the apps on playstore."
      ]
    },
    {
      "cell_type": "markdown",
      "metadata": {
        "id": "e9q2CwgcLiKR"
      },
      "source": [
        "### **`⏩Highest revenue generated app of 18 th category:`**"
      ]
    },
    {
      "cell_type": "code",
      "execution_count": 89,
      "metadata": {
        "colab": {
          "base_uri": "https://localhost:8080/",
          "height": 246
        },
        "id": "HVXL_OTgcS8o",
        "outputId": "671e5231-8707-4f46-b208-15866f28ce34"
      },
      "outputs": [
        {
          "output_type": "stream",
          "name": "stderr",
          "text": [
            "<ipython-input-89-66c0924c9172>:2: SettingWithCopyWarning: \n",
            "A value is trying to be set on a copy of a slice from a DataFrame.\n",
            "Try using .loc[row_indexer,col_indexer] = value instead\n",
            "\n",
            "See the caveats in the documentation: https://pandas.pydata.org/pandas-docs/stable/user_guide/indexing.html#returning-a-view-versus-a-copy\n",
            "  paid_app['revenue']=paid_app['Installs']*paid_app['Price']\n"
          ]
        },
        {
          "output_type": "execute_result",
          "data": {
            "text/plain": [
              "            App  Category  Rating    Reviews  Size    Installs  Type  Price  \\\n",
              "2241  Minecraft        18     4.5  2376564.0   0.0  10000000.0     1   6.99   \n",
              "\n",
              "      Content Rating  Genres  Last Updated Current Ver       Android Ver  \\\n",
              "2241               0      32          2018        1521  Varieswithdevice   \n",
              "\n",
              "         revenue  \n",
              "2241  69900000.0  "
            ],
            "text/html": [
              "\n",
              "  <div id=\"df-394511f1-63b4-44c0-92eb-ea49096b56b5\">\n",
              "    <div class=\"colab-df-container\">\n",
              "      <div>\n",
              "<style scoped>\n",
              "    .dataframe tbody tr th:only-of-type {\n",
              "        vertical-align: middle;\n",
              "    }\n",
              "\n",
              "    .dataframe tbody tr th {\n",
              "        vertical-align: top;\n",
              "    }\n",
              "\n",
              "    .dataframe thead th {\n",
              "        text-align: right;\n",
              "    }\n",
              "</style>\n",
              "<table border=\"1\" class=\"dataframe\">\n",
              "  <thead>\n",
              "    <tr style=\"text-align: right;\">\n",
              "      <th></th>\n",
              "      <th>App</th>\n",
              "      <th>Category</th>\n",
              "      <th>Rating</th>\n",
              "      <th>Reviews</th>\n",
              "      <th>Size</th>\n",
              "      <th>Installs</th>\n",
              "      <th>Type</th>\n",
              "      <th>Price</th>\n",
              "      <th>Content Rating</th>\n",
              "      <th>Genres</th>\n",
              "      <th>Last Updated</th>\n",
              "      <th>Current Ver</th>\n",
              "      <th>Android Ver</th>\n",
              "      <th>revenue</th>\n",
              "    </tr>\n",
              "  </thead>\n",
              "  <tbody>\n",
              "    <tr>\n",
              "      <th>2241</th>\n",
              "      <td>Minecraft</td>\n",
              "      <td>18</td>\n",
              "      <td>4.5</td>\n",
              "      <td>2376564.0</td>\n",
              "      <td>0.0</td>\n",
              "      <td>10000000.0</td>\n",
              "      <td>1</td>\n",
              "      <td>6.99</td>\n",
              "      <td>0</td>\n",
              "      <td>32</td>\n",
              "      <td>2018</td>\n",
              "      <td>1521</td>\n",
              "      <td>Varieswithdevice</td>\n",
              "      <td>69900000.0</td>\n",
              "    </tr>\n",
              "  </tbody>\n",
              "</table>\n",
              "</div>\n",
              "      <button class=\"colab-df-convert\" onclick=\"convertToInteractive('df-394511f1-63b4-44c0-92eb-ea49096b56b5')\"\n",
              "              title=\"Convert this dataframe to an interactive table.\"\n",
              "              style=\"display:none;\">\n",
              "        \n",
              "  <svg xmlns=\"http://www.w3.org/2000/svg\" height=\"24px\"viewBox=\"0 0 24 24\"\n",
              "       width=\"24px\">\n",
              "    <path d=\"M0 0h24v24H0V0z\" fill=\"none\"/>\n",
              "    <path d=\"M18.56 5.44l.94 2.06.94-2.06 2.06-.94-2.06-.94-.94-2.06-.94 2.06-2.06.94zm-11 1L8.5 8.5l.94-2.06 2.06-.94-2.06-.94L8.5 2.5l-.94 2.06-2.06.94zm10 10l.94 2.06.94-2.06 2.06-.94-2.06-.94-.94-2.06-.94 2.06-2.06.94z\"/><path d=\"M17.41 7.96l-1.37-1.37c-.4-.4-.92-.59-1.43-.59-.52 0-1.04.2-1.43.59L10.3 9.45l-7.72 7.72c-.78.78-.78 2.05 0 2.83L4 21.41c.39.39.9.59 1.41.59.51 0 1.02-.2 1.41-.59l7.78-7.78 2.81-2.81c.8-.78.8-2.07 0-2.86zM5.41 20L4 18.59l7.72-7.72 1.47 1.35L5.41 20z\"/>\n",
              "  </svg>\n",
              "      </button>\n",
              "      \n",
              "  <style>\n",
              "    .colab-df-container {\n",
              "      display:flex;\n",
              "      flex-wrap:wrap;\n",
              "      gap: 12px;\n",
              "    }\n",
              "\n",
              "    .colab-df-convert {\n",
              "      background-color: #E8F0FE;\n",
              "      border: none;\n",
              "      border-radius: 50%;\n",
              "      cursor: pointer;\n",
              "      display: none;\n",
              "      fill: #1967D2;\n",
              "      height: 32px;\n",
              "      padding: 0 0 0 0;\n",
              "      width: 32px;\n",
              "    }\n",
              "\n",
              "    .colab-df-convert:hover {\n",
              "      background-color: #E2EBFA;\n",
              "      box-shadow: 0px 1px 2px rgba(60, 64, 67, 0.3), 0px 1px 3px 1px rgba(60, 64, 67, 0.15);\n",
              "      fill: #174EA6;\n",
              "    }\n",
              "\n",
              "    [theme=dark] .colab-df-convert {\n",
              "      background-color: #3B4455;\n",
              "      fill: #D2E3FC;\n",
              "    }\n",
              "\n",
              "    [theme=dark] .colab-df-convert:hover {\n",
              "      background-color: #434B5C;\n",
              "      box-shadow: 0px 1px 3px 1px rgba(0, 0, 0, 0.15);\n",
              "      filter: drop-shadow(0px 1px 2px rgba(0, 0, 0, 0.3));\n",
              "      fill: #FFFFFF;\n",
              "    }\n",
              "  </style>\n",
              "\n",
              "      <script>\n",
              "        const buttonEl =\n",
              "          document.querySelector('#df-394511f1-63b4-44c0-92eb-ea49096b56b5 button.colab-df-convert');\n",
              "        buttonEl.style.display =\n",
              "          google.colab.kernel.accessAllowed ? 'block' : 'none';\n",
              "\n",
              "        async function convertToInteractive(key) {\n",
              "          const element = document.querySelector('#df-394511f1-63b4-44c0-92eb-ea49096b56b5');\n",
              "          const dataTable =\n",
              "            await google.colab.kernel.invokeFunction('convertToInteractive',\n",
              "                                                     [key], {});\n",
              "          if (!dataTable) return;\n",
              "\n",
              "          const docLinkHtml = 'Like what you see? Visit the ' +\n",
              "            '<a target=\"_blank\" href=https://colab.research.google.com/notebooks/data_table.ipynb>data table notebook</a>'\n",
              "            + ' to learn more about interactive tables.';\n",
              "          element.innerHTML = '';\n",
              "          dataTable['output_type'] = 'display_data';\n",
              "          await google.colab.output.renderOutput(dataTable, element);\n",
              "          const docLink = document.createElement('div');\n",
              "          docLink.innerHTML = docLinkHtml;\n",
              "          element.appendChild(docLink);\n",
              "        }\n",
              "      </script>\n",
              "    </div>\n",
              "  </div>\n",
              "  "
            ]
          },
          "metadata": {},
          "execution_count": 89
        }
      ],
      "source": [
        "paid_app=play_store_data[(play_store_data[\"Type\"]==1)&(play_store_data[\"Category\"]==18)]\n",
        "paid_app['revenue']=paid_app['Installs']*paid_app['Price']\n",
        "t=paid_app.nlargest(1,\"revenue\",keep=\"first\")\n",
        "t"
      ]
    },
    {
      "cell_type": "markdown",
      "metadata": {
        "id": "e6AyDEh-aM_f"
      },
      "source": [
        "Minecraft App generates maximum revenue amongst all the apps generating max revenue of different category."
      ]
    },
    {
      "cell_type": "markdown",
      "metadata": {
        "id": "6uy4gqP2Lppk"
      },
      "source": [
        "### **`⏩Apps generated for which age category generates maximum revenue?`**"
      ]
    },
    {
      "cell_type": "code",
      "execution_count": 90,
      "metadata": {
        "colab": {
          "base_uri": "https://localhost:8080/",
          "height": 499
        },
        "id": "hC2Hb9Ujz9UZ",
        "outputId": "bd7aa913-288d-4742-9bc3-d3570f84ced3"
      },
      "outputs": [
        {
          "output_type": "execute_result",
          "data": {
            "text/plain": [
              "Text(0.5, 1.0, 'Visualization of which Content Rating generates maximum revenue')"
            ]
          },
          "metadata": {},
          "execution_count": 90
        },
        {
          "output_type": "display_data",
          "data": {
            "text/plain": [
              "<Figure size 640x480 with 1 Axes>"
            ],
            "image/png": "[encoded data removed]"
          },
          "metadata": {}
        }
      ],
      "source": [
        "q=paid_app.groupby('Content Rating').agg({'revenue':'sum'})\n",
        "q.plot(kind='bar')\n",
        "plt.ylabel('Revenue')\n",
        "plt.title('Visualization of which Content Rating generates maximum revenue')"
      ]
    },
    {
      "cell_type": "markdown",
      "metadata": {
        "id": "PXyDAjCdbowY"
      },
      "source": [
        "As we can see from graph apps which are accessible for everyone with no age category has generated the most revenue."
      ]
    },
    {
      "cell_type": "code",
      "execution_count": 91,
      "metadata": {
        "id": "dQuIecPl8z6h"
      },
      "outputs": [],
      "source": [
        "def size_grouping(a):\n",
        "  '''\n",
        "  this function groups the size of apps in to various size groups\n",
        "  '''\n",
        "  if a<1:\n",
        "    return 'below 1'\n",
        "  if a>=1 and a<10:\n",
        "    return '1-10'\n",
        "  if a>=10 and a<20:\n",
        "    return '10-20'\n",
        "  if a>=20 and a<30:\n",
        "    return '20-30'\n",
        "  if a>=30 and a<=40:\n",
        "    return '30-40'\n",
        "  if a>=40 and a<=50:\n",
        "    return '40-50'\n",
        "  if a>=50 and a<60:\n",
        "    return '50-60'\n",
        "  if a>=60 and a<70:\n",
        "    return '60-70'\n",
        "  if a>=70 and a<=80:\n",
        "    return '70-80'\n",
        "  if a>=80 and a<=90:\n",
        "    return '80-90'\n",
        "  else:\n",
        "    return '90+ and above'"
      ]
    },
    {
      "cell_type": "markdown",
      "metadata": {
        "id": "Lml8OM-ALulA"
      },
      "source": [
        "### **`⏩Size of maximum apps on playstore`**"
      ]
    },
    {
      "cell_type": "code",
      "execution_count": 92,
      "metadata": {
        "colab": {
          "base_uri": "https://localhost:8080/",
          "height": 469
        },
        "id": "aAs1pkUYK2ct",
        "outputId": "034ceabc-5a8a-4799-ef2e-e0e8fb8ffe27"
      },
      "outputs": [
        {
          "output_type": "execute_result",
          "data": {
            "text/plain": [
              "Text(0.5, 1.0, 'Size of maximum apps on playstore')"
            ]
          },
          "metadata": {},
          "execution_count": 92
        },
        {
          "output_type": "display_data",
          "data": {
            "text/plain": [
              "<Figure size 640x480 with 1 Axes>"
            ],
            "image/png": "[encoded data removed]"
          },
          "metadata": {}
        }
      ],
      "source": [
        "play_store_data[\"Size Group\"]=play_store_data['Size'].apply(lambda x:size_grouping(x))\n",
        "play_store_data.groupby(\"Size Group\").agg({\"App\":\"count\"}).plot.barh()\n",
        "plt.title('Size of maximum apps on playstore')\n"
      ]
    },
    {
      "cell_type": "markdown",
      "metadata": {
        "id": "I9nk8C0Wc4r1"
      },
      "source": [
        "From graph it is clearly visible that most of the apps on playstore are of size between 10 to 20 mb followed by apps below 1 mb size"
      ]
    },
    {
      "cell_type": "markdown",
      "source": [
        "### **`⏩Which category App are most expensive in price on Playstore:`**"
      ],
      "metadata": {
        "id": "nnH6eRWlt3qz"
      }
    },
    {
      "cell_type": "code",
      "execution_count": 93,
      "metadata": {
        "colab": {
          "base_uri": "https://localhost:8080/",
          "height": 487
        },
        "id": "C_CPe62GeRIb",
        "outputId": "df19b03b-8e34-42f2-da2f-b40c254af0f7"
      },
      "outputs": [
        {
          "output_type": "execute_result",
          "data": {
            "text/plain": [
              "Text(0.5, 1.0, 'Most expensive apps on playstore')"
            ]
          },
          "metadata": {},
          "execution_count": 93
        },
        {
          "output_type": "display_data",
          "data": {
            "text/plain": [
              "<Figure size 2000x2000 with 0 Axes>"
            ]
          },
          "metadata": {}
        },
        {
          "output_type": "display_data",
          "data": {
            "text/plain": [
              "<Figure size 640x480 with 1 Axes>"
            ],
            "image/png": "[encoded data removed]"
          },
          "metadata": {}
        }
      ],
      "source": [
        "df=play_store_data[(play_store_data[\"Type\"]==1)]\n",
        "plt.figure(figsize=(20,20))\n",
        "df.groupby(\"Category\").agg({\"Price\":\"max\"}).plot.barh()\n",
        "plt.title('Most expensive apps on playstore')"
      ]
    },
    {
      "cell_type": "markdown",
      "metadata": {
        "id": "hzbFPLeAgNxP"
      },
      "source": [
        "As you can see apps under Lifestyle,Family and Finance Category are mostly than other apps on playstore."
      ]
    },
    {
      "cell_type": "markdown",
      "metadata": {
        "id": "FP_CkwnhoiTp"
      },
      "source": [
        "# **⏩Data wranggling and visualization of user review data set:**"
      ]
    },
    {
      "cell_type": "code",
      "execution_count": 94,
      "metadata": {
        "colab": {
          "base_uri": "https://localhost:8080/",
          "height": 112
        },
        "id": "Qc9sbV4Kojh7",
        "outputId": "4717bf40-806b-4991-9998-bea1b5eab580"
      },
      "outputs": [
        {
          "output_type": "execute_result",
          "data": {
            "text/plain": [
              "                     App                                  Translated_Review  \\\n",
              "0  10 Best Foods for You  I like eat delicious food. That's I'm cooking ...   \n",
              "1  10 Best Foods for You    This help eating healthy exercise regular basis   \n",
              "\n",
              "   Sentiment  Sentiment_Polarity  Sentiment_Subjectivity  \n",
              "0          0                1.00                0.533333  \n",
              "1          0                0.25                0.288462  "
            ],
            "text/html": [
              "\n",
              "  <div id=\"df-d6190199-ab02-4096-990e-b476e9d24e63\">\n",
              "    <div class=\"colab-df-container\">\n",
              "      <div>\n",
              "<style scoped>\n",
              "    .dataframe tbody tr th:only-of-type {\n",
              "        vertical-align: middle;\n",
              "    }\n",
              "\n",
              "    .dataframe tbody tr th {\n",
              "        vertical-align: top;\n",
              "    }\n",
              "\n",
              "    .dataframe thead th {\n",
              "        text-align: right;\n",
              "    }\n",
              "</style>\n",
              "<table border=\"1\" class=\"dataframe\">\n",
              "  <thead>\n",
              "    <tr style=\"text-align: right;\">\n",
              "      <th></th>\n",
              "      <th>App</th>\n",
              "      <th>Translated_Review</th>\n",
              "      <th>Sentiment</th>\n",
              "      <th>Sentiment_Polarity</th>\n",
              "      <th>Sentiment_Subjectivity</th>\n",
              "    </tr>\n",
              "  </thead>\n",
              "  <tbody>\n",
              "    <tr>\n",
              "      <th>0</th>\n",
              "      <td>10 Best Foods for You</td>\n",
              "      <td>I like eat delicious food. That's I'm cooking ...</td>\n",
              "      <td>0</td>\n",
              "      <td>1.00</td>\n",
              "      <td>0.533333</td>\n",
              "    </tr>\n",
              "    <tr>\n",
              "      <th>1</th>\n",
              "      <td>10 Best Foods for You</td>\n",
              "      <td>This help eating healthy exercise regular basis</td>\n",
              "      <td>0</td>\n",
              "      <td>0.25</td>\n",
              "      <td>0.288462</td>\n",
              "    </tr>\n",
              "  </tbody>\n",
              "</table>\n",
              "</div>\n",
              "      <button class=\"colab-df-convert\" onclick=\"convertToInteractive('df-d6190199-ab02-4096-990e-b476e9d24e63')\"\n",
              "              title=\"Convert this dataframe to an interactive table.\"\n",
              "              style=\"display:none;\">\n",
              "        \n",
              "  <svg xmlns=\"http://www.w3.org/2000/svg\" height=\"24px\"viewBox=\"0 0 24 24\"\n",
              "       width=\"24px\">\n",
              "    <path d=\"M0 0h24v24H0V0z\" fill=\"none\"/>\n",
              "    <path d=\"M18.56 5.44l.94 2.06.94-2.06 2.06-.94-2.06-.94-.94-2.06-.94 2.06-2.06.94zm-11 1L8.5 8.5l.94-2.06 2.06-.94-2.06-.94L8.5 2.5l-.94 2.06-2.06.94zm10 10l.94 2.06.94-2.06 2.06-.94-2.06-.94-.94-2.06-.94 2.06-2.06.94z\"/><path d=\"M17.41 7.96l-1.37-1.37c-.4-.4-.92-.59-1.43-.59-.52 0-1.04.2-1.43.59L10.3 9.45l-7.72 7.72c-.78.78-.78 2.05 0 2.83L4 21.41c.39.39.9.59 1.41.59.51 0 1.02-.2 1.41-.59l7.78-7.78 2.81-2.81c.8-.78.8-2.07 0-2.86zM5.41 20L4 18.59l7.72-7.72 1.47 1.35L5.41 20z\"/>\n",
              "  </svg>\n",
              "      </button>\n",
              "      \n",
              "  <style>\n",
              "    .colab-df-container {\n",
              "      display:flex;\n",
              "      flex-wrap:wrap;\n",
              "      gap: 12px;\n",
              "    }\n",
              "\n",
              "    .colab-df-convert {\n",
              "      background-color: #E8F0FE;\n",
              "      border: none;\n",
              "      border-radius: 50%;\n",
              "      cursor: pointer;\n",
              "      display: none;\n",
              "      fill: #1967D2;\n",
              "      height: 32px;\n",
              "      padding: 0 0 0 0;\n",
              "      width: 32px;\n",
              "    }\n",
              "\n",
              "    .colab-df-convert:hover {\n",
              "      background-color: #E2EBFA;\n",
              "      box-shadow: 0px 1px 2px rgba(60, 64, 67, 0.3), 0px 1px 3px 1px rgba(60, 64, 67, 0.15);\n",
              "      fill: #174EA6;\n",
              "    }\n",
              "\n",
              "    [theme=dark] .colab-df-convert {\n",
              "      background-color: #3B4455;\n",
              "      fill: #D2E3FC;\n",
              "    }\n",
              "\n",
              "    [theme=dark] .colab-df-convert:hover {\n",
              "      background-color: #434B5C;\n",
              "      box-shadow: 0px 1px 3px 1px rgba(0, 0, 0, 0.15);\n",
              "      filter: drop-shadow(0px 1px 2px rgba(0, 0, 0, 0.3));\n",
              "      fill: #FFFFFF;\n",
              "    }\n",
              "  </style>\n",
              "\n",
              "      <script>\n",
              "        const buttonEl =\n",
              "          document.querySelector('#df-d6190199-ab02-4096-990e-b476e9d24e63 button.colab-df-convert');\n",
              "        buttonEl.style.display =\n",
              "          google.colab.kernel.accessAllowed ? 'block' : 'none';\n",
              "\n",
              "        async function convertToInteractive(key) {\n",
              "          const element = document.querySelector('#df-d6190199-ab02-4096-990e-b476e9d24e63');\n",
              "          const dataTable =\n",
              "            await google.colab.kernel.invokeFunction('convertToInteractive',\n",
              "                                                     [key], {});\n",
              "          if (!dataTable) return;\n",
              "\n",
              "          const docLinkHtml = 'Like what you see? Visit the ' +\n",
              "            '<a target=\"_blank\" href=https://colab.research.google.com/notebooks/data_table.ipynb>data table notebook</a>'\n",
              "            + ' to learn more about interactive tables.';\n",
              "          element.innerHTML = '';\n",
              "          dataTable['output_type'] = 'display_data';\n",
              "          await google.colab.output.renderOutput(dataTable, element);\n",
              "          const docLink = document.createElement('div');\n",
              "          docLink.innerHTML = docLinkHtml;\n",
              "          element.appendChild(docLink);\n",
              "        }\n",
              "      </script>\n",
              "    </div>\n",
              "  </div>\n",
              "  "
            ]
          },
          "metadata": {},
          "execution_count": 94
        }
      ],
      "source": [
        "user_reviews_data.head(2)"
      ]
    },
    {
      "cell_type": "markdown",
      "source": [
        "### **`⏩percentage of positive,negative,neutral sentiments:`**"
      ],
      "metadata": {
        "id": "XBMOmKzHuWTf"
      }
    },
    {
      "cell_type": "code",
      "execution_count": 95,
      "metadata": {
        "colab": {
          "base_uri": "https://localhost:8080/",
          "height": 428
        },
        "id": "gOeUIM1PueFW",
        "outputId": "bce12226-9505-4159-e0b1-b29eac53a0e4"
      },
      "outputs": [
        {
          "output_type": "display_data",
          "data": {
            "text/plain": [
              "<Figure size 640x480 with 1 Axes>"
            ],
            "image/png": "[encoded data removed]"
          },
          "metadata": {}
        }
      ],
      "source": [
        "# What is the percentage of positive,negative,neutral sentiments?\n",
        "values=user_reviews_data[\"Sentiment\"].value_counts(ascending=False).head(5)\n",
        "labels=['Positive','Negative','Neutral']\n",
        "plt.pie(values,labels=labels, autopct='%1.1f%%', explode=[0.01, 0.01, 0.01])\n",
        "plt.legend(bbox_to_anchor=(0.9, 0, 0.5, 1))\n",
        "plt.title('percentage of positive,negative,neutral sentiments')\n",
        "plt.show()\n"
      ]
    },
    {
      "cell_type": "markdown",
      "source": [
        "### **`⏩Top 20 Apps who received highest postitive sentiment`**"
      ],
      "metadata": {
        "id": "_l8wEv7LuiTf"
      }
    },
    {
      "cell_type": "code",
      "source": [
        "#Top 20 Apps who received highest postitive sentiment\n",
        "Positive_sentiment=user_reviews_data[user_reviews_data[\"Sentiment\"]==0]\n",
        "t=Positive_sentiment.groupby(\"App\").agg({\"Sentiment\":\"count\"})\n",
        "t.nlargest(20,\"Sentiment\",keep=\"first\").plot.barh()\n",
        "plt.title('Top 20 Apps who received highest postitive sentiment')"
      ],
      "metadata": {
        "colab": {
          "base_uri": "https://localhost:8080/",
          "height": 469
        },
        "id": "-QSqJgg8i7sK",
        "outputId": "c644bd9f-fb92-4751-8345-02e0ab557dbe"
      },
      "execution_count": 96,
      "outputs": [
        {
          "output_type": "execute_result",
          "data": {
            "text/plain": [
              "Text(0.5, 1.0, 'Top 20 Apps who received highest postitive sentiment')"
            ]
          },
          "metadata": {},
          "execution_count": 96
        },
        {
          "output_type": "display_data",
          "data": {
            "text/plain": [
              "<Figure size 640x480 with 1 Axes>"
            ],
            "image/png": "[encoded data removed]"
          },
          "metadata": {}
        }
      ]
    },
    {
      "cell_type": "markdown",
      "source": [
        "### **`⏩Top 20 Apps who received highest Negative sentiment`**"
      ],
      "metadata": {
        "id": "Ah6L3YuFvDcY"
      }
    },
    {
      "cell_type": "code",
      "source": [
        "#Top 20 Apps who received highest Negative sentiment\n",
        "Positive_sentiment=user_reviews_data[user_reviews_data[\"Sentiment\"]==2]\n",
        "r=Positive_sentiment.groupby(\"App\").agg({\"Sentiment\":\"count\"})\n",
        "r.nlargest(20,\"Sentiment\",keep=\"first\").plot.barh()\n",
        "plt.title('Top 20 Apps who received highest negative sentiment')"
      ],
      "metadata": {
        "colab": {
          "base_uri": "https://localhost:8080/",
          "height": 469
        },
        "id": "L4N8riezs6di",
        "outputId": "3efa5161-7aa9-4cea-e770-35d4ffbc260f"
      },
      "execution_count": 97,
      "outputs": [
        {
          "output_type": "execute_result",
          "data": {
            "text/plain": [
              "Text(0.5, 1.0, 'Top 20 Apps who received highest negative sentiment')"
            ]
          },
          "metadata": {},
          "execution_count": 97
        },
        {
          "output_type": "display_data",
          "data": {
            "text/plain": [
              "<Figure size 640x480 with 1 Axes>"
            ],
            "image/png": "[encoded data removed]"
          },
          "metadata": {}
        }
      ]
    },
    {
      "cell_type": "code",
      "source": [
        "a = pd.merge(play_store_data, user_reviews_data, left_on='App',right_on='App', how = 'inner')\n",
        "a.head()"
      ],
      "metadata": {
        "colab": {
          "base_uri": "https://localhost:8080/",
          "height": 461
        },
        "id": "xuan-ccPsqv9",
        "outputId": "2d72b8bb-568f-42bf-ebcd-3fdcb597854e"
      },
      "execution_count": 98,
      "outputs": [
        {
          "output_type": "execute_result",
          "data": {
            "text/plain": [
              "        App  Category  Rating  Reviews  Size   Installs  Type  Price  \\\n",
              "0  Ancestry         3     4.3  64513.0   0.0  5000000.0     0    0.0   \n",
              "1  Ancestry         3     4.3  64513.0   0.0  5000000.0     0    0.0   \n",
              "2  Ancestry         3     4.3  64513.0   0.0  5000000.0     0    0.0   \n",
              "3  Ancestry         3     4.3  64513.0   0.0  5000000.0     0    0.0   \n",
              "4  Ancestry         3     4.3  64513.0   0.0  5000000.0     0    0.0   \n",
              "\n",
              "   Content Rating  Genres  Last Updated       Current Ver       Android Ver  \\\n",
              "0               0       6          2018  Varieswithdevice  Varieswithdevice   \n",
              "1               0       6          2018  Varieswithdevice  Varieswithdevice   \n",
              "2               0       6          2018  Varieswithdevice  Varieswithdevice   \n",
              "3               0       6          2018  Varieswithdevice  Varieswithdevice   \n",
              "4               0       6          2018  Varieswithdevice  Varieswithdevice   \n",
              "\n",
              "  Size Group                                  Translated_Review  Sentiment  \\\n",
              "0    below 1  Overall I like app, bugs, nothing major unbear...          0   \n",
              "1    below 1  1. constantly acting I add potential parent, p...          0   \n",
              "2    below 1  I little slow start glitches somewhat, gets jo...          3   \n",
              "3    below 1  Today started going black screen try open pers...          0   \n",
              "4    below 1  It's ok app, also kinda buggy. For example, al...          0   \n",
              "\n",
              "   Sentiment_Polarity  Sentiment_Subjectivity  \n",
              "0            0.268112                0.599490  \n",
              "1            0.150000                0.516667  \n",
              "2           -0.243750                0.450000  \n",
              "3            0.051953                0.491667  \n",
              "4            0.250000                0.250000  "
            ],
            "text/html": [
              "\n",
              "  <div id=\"df-dae3f366-ef77-4896-92f7-c8fecaacd56a\">\n",
              "    <div class=\"colab-df-container\">\n",
              "      <div>\n",
              "<style scoped>\n",
              "    .dataframe tbody tr th:only-of-type {\n",
              "        vertical-align: middle;\n",
              "    }\n",
              "\n",
              "    .dataframe tbody tr th {\n",
              "        vertical-align: top;\n",
              "    }\n",
              "\n",
              "    .dataframe thead th {\n",
              "        text-align: right;\n",
              "    }\n",
              "</style>\n",
              "<table border=\"1\" class=\"dataframe\">\n",
              "  <thead>\n",
              "    <tr style=\"text-align: right;\">\n",
              "      <th></th>\n",
              "      <th>App</th>\n",
              "      <th>Category</th>\n",
              "      <th>Rating</th>\n",
              "      <th>Reviews</th>\n",
              "      <th>Size</th>\n",
              "      <th>Installs</th>\n",
              "      <th>Type</th>\n",
              "      <th>Price</th>\n",
              "      <th>Content Rating</th>\n",
              "      <th>Genres</th>\n",
              "      <th>Last Updated</th>\n",
              "      <th>Current Ver</th>\n",
              "      <th>Android Ver</th>\n",
              "      <th>Size Group</th>\n",
              "      <th>Translated_Review</th>\n",
              "      <th>Sentiment</th>\n",
              "      <th>Sentiment_Polarity</th>\n",
              "      <th>Sentiment_Subjectivity</th>\n",
              "    </tr>\n",
              "  </thead>\n",
              "  <tbody>\n",
              "    <tr>\n",
              "      <th>0</th>\n",
              "      <td>Ancestry</td>\n",
              "      <td>3</td>\n",
              "      <td>4.3</td>\n",
              "      <td>64513.0</td>\n",
              "      <td>0.0</td>\n",
              "      <td>5000000.0</td>\n",
              "      <td>0</td>\n",
              "      <td>0.0</td>\n",
              "      <td>0</td>\n",
              "      <td>6</td>\n",
              "      <td>2018</td>\n",
              "      <td>Varieswithdevice</td>\n",
              "      <td>Varieswithdevice</td>\n",
              "      <td>below 1</td>\n",
              "      <td>Overall I like app, bugs, nothing major unbear...</td>\n",
              "      <td>0</td>\n",
              "      <td>0.268112</td>\n",
              "      <td>0.599490</td>\n",
              "    </tr>\n",
              "    <tr>\n",
              "      <th>1</th>\n",
              "      <td>Ancestry</td>\n",
              "      <td>3</td>\n",
              "      <td>4.3</td>\n",
              "      <td>64513.0</td>\n",
              "      <td>0.0</td>\n",
              "      <td>5000000.0</td>\n",
              "      <td>0</td>\n",
              "      <td>0.0</td>\n",
              "      <td>0</td>\n",
              "      <td>6</td>\n",
              "      <td>2018</td>\n",
              "      <td>Varieswithdevice</td>\n",
              "      <td>Varieswithdevice</td>\n",
              "      <td>below 1</td>\n",
              "      <td>1. constantly acting I add potential parent, p...</td>\n",
              "      <td>0</td>\n",
              "      <td>0.150000</td>\n",
              "      <td>0.516667</td>\n",
              "    </tr>\n",
              "    <tr>\n",
              "      <th>2</th>\n",
              "      <td>Ancestry</td>\n",
              "      <td>3</td>\n",
              "      <td>4.3</td>\n",
              "      <td>64513.0</td>\n",
              "      <td>0.0</td>\n",
              "      <td>5000000.0</td>\n",
              "      <td>0</td>\n",
              "      <td>0.0</td>\n",
              "      <td>0</td>\n",
              "      <td>6</td>\n",
              "      <td>2018</td>\n",
              "      <td>Varieswithdevice</td>\n",
              "      <td>Varieswithdevice</td>\n",
              "      <td>below 1</td>\n",
              "      <td>I little slow start glitches somewhat, gets jo...</td>\n",
              "      <td>3</td>\n",
              "      <td>-0.243750</td>\n",
              "      <td>0.450000</td>\n",
              "    </tr>\n",
              "    <tr>\n",
              "      <th>3</th>\n",
              "      <td>Ancestry</td>\n",
              "      <td>3</td>\n",
              "      <td>4.3</td>\n",
              "      <td>64513.0</td>\n",
              "      <td>0.0</td>\n",
              "      <td>5000000.0</td>\n",
              "      <td>0</td>\n",
              "      <td>0.0</td>\n",
              "      <td>0</td>\n",
              "      <td>6</td>\n",
              "      <td>2018</td>\n",
              "      <td>Varieswithdevice</td>\n",
              "      <td>Varieswithdevice</td>\n",
              "      <td>below 1</td>\n",
              "      <td>Today started going black screen try open pers...</td>\n",
              "      <td>0</td>\n",
              "      <td>0.051953</td>\n",
              "      <td>0.491667</td>\n",
              "    </tr>\n",
              "    <tr>\n",
              "      <th>4</th>\n",
              "      <td>Ancestry</td>\n",
              "      <td>3</td>\n",
              "      <td>4.3</td>\n",
              "      <td>64513.0</td>\n",
              "      <td>0.0</td>\n",
              "      <td>5000000.0</td>\n",
              "      <td>0</td>\n",
              "      <td>0.0</td>\n",
              "      <td>0</td>\n",
              "      <td>6</td>\n",
              "      <td>2018</td>\n",
              "      <td>Varieswithdevice</td>\n",
              "      <td>Varieswithdevice</td>\n",
              "      <td>below 1</td>\n",
              "      <td>It's ok app, also kinda buggy. For example, al...</td>\n",
              "      <td>0</td>\n",
              "      <td>0.250000</td>\n",
              "      <td>0.250000</td>\n",
              "    </tr>\n",
              "  </tbody>\n",
              "</table>\n",
              "</div>\n",
              "      <button class=\"colab-df-convert\" onclick=\"convertToInteractive('df-dae3f366-ef77-4896-92f7-c8fecaacd56a')\"\n",
              "              title=\"Convert this dataframe to an interactive table.\"\n",
              "              style=\"display:none;\">\n",
              "        \n",
              "  <svg xmlns=\"http://www.w3.org/2000/svg\" height=\"24px\"viewBox=\"0 0 24 24\"\n",
              "       width=\"24px\">\n",
              "    <path d=\"M0 0h24v24H0V0z\" fill=\"none\"/>\n",
              "    <path d=\"M18.56 5.44l.94 2.06.94-2.06 2.06-.94-2.06-.94-.94-2.06-.94 2.06-2.06.94zm-11 1L8.5 8.5l.94-2.06 2.06-.94-2.06-.94L8.5 2.5l-.94 2.06-2.06.94zm10 10l.94 2.06.94-2.06 2.06-.94-2.06-.94-.94-2.06-.94 2.06-2.06.94z\"/><path d=\"M17.41 7.96l-1.37-1.37c-.4-.4-.92-.59-1.43-.59-.52 0-1.04.2-1.43.59L10.3 9.45l-7.72 7.72c-.78.78-.78 2.05 0 2.83L4 21.41c.39.39.9.59 1.41.59.51 0 1.02-.2 1.41-.59l7.78-7.78 2.81-2.81c.8-.78.8-2.07 0-2.86zM5.41 20L4 18.59l7.72-7.72 1.47 1.35L5.41 20z\"/>\n",
              "  </svg>\n",
              "      </button>\n",
              "      \n",
              "  <style>\n",
              "    .colab-df-container {\n",
              "      display:flex;\n",
              "      flex-wrap:wrap;\n",
              "      gap: 12px;\n",
              "    }\n",
              "\n",
              "    .colab-df-convert {\n",
              "      background-color: #E8F0FE;\n",
              "      border: none;\n",
              "      border-radius: 50%;\n",
              "      cursor: pointer;\n",
              "      display: none;\n",
              "      fill: #1967D2;\n",
              "      height: 32px;\n",
              "      padding: 0 0 0 0;\n",
              "      width: 32px;\n",
              "    }\n",
              "\n",
              "    .colab-df-convert:hover {\n",
              "      background-color: #E2EBFA;\n",
              "      box-shadow: 0px 1px 2px rgba(60, 64, 67, 0.3), 0px 1px 3px 1px rgba(60, 64, 67, 0.15);\n",
              "      fill: #174EA6;\n",
              "    }\n",
              "\n",
              "    [theme=dark] .colab-df-convert {\n",
              "      background-color: #3B4455;\n",
              "      fill: #D2E3FC;\n",
              "    }\n",
              "\n",
              "    [theme=dark] .colab-df-convert:hover {\n",
              "      background-color: #434B5C;\n",
              "      box-shadow: 0px 1px 3px 1px rgba(0, 0, 0, 0.15);\n",
              "      filter: drop-shadow(0px 1px 2px rgba(0, 0, 0, 0.3));\n",
              "      fill: #FFFFFF;\n",
              "    }\n",
              "  </style>\n",
              "\n",
              "      <script>\n",
              "        const buttonEl =\n",
              "          document.querySelector('#df-dae3f366-ef77-4896-92f7-c8fecaacd56a button.colab-df-convert');\n",
              "        buttonEl.style.display =\n",
              "          google.colab.kernel.accessAllowed ? 'block' : 'none';\n",
              "\n",
              "        async function convertToInteractive(key) {\n",
              "          const element = document.querySelector('#df-dae3f366-ef77-4896-92f7-c8fecaacd56a');\n",
              "          const dataTable =\n",
              "            await google.colab.kernel.invokeFunction('convertToInteractive',\n",
              "                                                     [key], {});\n",
              "          if (!dataTable) return;\n",
              "\n",
              "          const docLinkHtml = 'Like what you see? Visit the ' +\n",
              "            '<a target=\"_blank\" href=https://colab.research.google.com/notebooks/data_table.ipynb>data table notebook</a>'\n",
              "            + ' to learn more about interactive tables.';\n",
              "          element.innerHTML = '';\n",
              "          dataTable['output_type'] = 'display_data';\n",
              "          await google.colab.output.renderOutput(dataTable, element);\n",
              "          const docLink = document.createElement('div');\n",
              "          docLink.innerHTML = docLinkHtml;\n",
              "          element.appendChild(docLink);\n",
              "        }\n",
              "      </script>\n",
              "    </div>\n",
              "  </div>\n",
              "  "
            ]
          },
          "metadata": {},
          "execution_count": 98
        }
      ]
    },
    {
      "cell_type": "markdown",
      "source": [
        "# **⏩`Summery of Project:`**\n",
        "\n",
        "From the whole analysis of Playstore Dataset, we gained some insights of user behaviour and preferences. Analysing the trends and patterns in data, the critical factors that are influencing user engagement and installation of the applications are as follows:\n",
        "*   **`Top 5 category of apps on playstore:`**:family-41% , Games-21%, tools-18%, business-9.5% and Medical-8.9%\n",
        "*   **`App installation preferences by user`**: \n",
        "   Gaming category > Communication category> Tools Category > Productivity       Category > Social Categorical apps  \n",
        "*   **`Installation based on types:`** 92% apps on playstore comes under free category while reamanining 8% are paid. Apps under free category are installed most around 90% as compared to paid apps.\n",
        "*   **`Paid app installation:`** Minecraft app of family category is highest revenue of $69900000 generated app on playstore.\n",
        "*   **`More the app content,availability more is the installation:`**\n",
        "More the app available inspite of age category more is the installations.\n",
        "*   **`Prices of app of various category:`**Apps coming under lifestyle category are the most expensive.Later gaming,finance,photography apps are expensive in nature. \n",
        "*  **`Rating increases installation also increases`**: As the rating of application increases,installation by users also increases.as installation increases,reviews by user also increases.Facebook coming under social category has the maximum reviews followed by instagram and whatsapp.\n",
        "*  **`Rating increases installation also increases:`**Size for the most of the applications on playstore is between 10 mb to 20 mb or below 1 mb.though it has not much correaltion with the installation of applicaton.\n",
        "*  **`Positive,negative and neutral sentiments:`**We analysed the Apps having the proportion of positive sentiments,negative sentiments and neutral sentiments.\n",
        "\n",
        "\n",
        "\n",
        "\n",
        "\n",
        "\n",
        "\n"
      ],
      "metadata": {
        "id": "kY0khHfDB9Yf"
      }
    }
  ],
  "metadata": {
    "colab": {
      "provenance": [],
      "include_colab_link": true
    },
    "gpuClass": "standard",
    "kernelspec": {
      "display_name": "Python 3",
      "name": "python3"
    },
    "language_info": {
      "name": "python"
    }
  },
  "nbformat": 4,
  "nbformat_minor": 0
}